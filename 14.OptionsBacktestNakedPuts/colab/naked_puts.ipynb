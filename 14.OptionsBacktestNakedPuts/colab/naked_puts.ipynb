{
  "nbformat": 4,
  "nbformat_minor": 0,
  "metadata": {
    "colab": {
      "provenance": []
    },
    "kernelspec": {
      "name": "python3",
      "display_name": "Python 3"
    },
    "language_info": {
      "name": "python"
    }
  },
  "cells": [
    {
      "cell_type": "markdown",
      "source": [
        "Copy the file **spy_puts.csv.gz** located in https://github.com/crapher/medium/tree/main/14.OptionsBacktestNakedPuts/data to your colab folder"
      ],
      "metadata": {
        "id": "_XQkxgIHPS8z"
      }
    },
    {
      "cell_type": "code",
      "execution_count": 1,
      "metadata": {
        "id": "-LjpN-v8Btt7"
      },
      "outputs": [],
      "source": [
        "import numpy as np\n",
        "import pandas as pd"
      ]
    },
    {
      "cell_type": "code",
      "source": [
        "# Constants\n",
        "FILENAME = 'spy_puts.csv.gz'\n",
        "FEES_PER_CONTRACT = 0.6\n",
        "CONTRACTS_QTY = 10"
      ],
      "metadata": {
        "id": "I1F7CD1kQPEx"
      },
      "execution_count": 2,
      "outputs": []
    },
    {
      "cell_type": "code",
      "source": [
        "# Read file\n",
        "df = pd.read_csv(FILENAME, header=0)"
      ],
      "metadata": {
        "id": "36mzjkH6B-7a"
      },
      "execution_count": 3,
      "outputs": []
    },
    {
      "cell_type": "code",
      "source": [
        "# Convert date fields to datetime\n",
        "df['date'] = pd.to_datetime(df['date'])\n",
        "df['expire_date'] = pd.to_datetime(df['expire_date'])"
      ],
      "metadata": {
        "id": "Eck0aed5QLR4"
      },
      "execution_count": 4,
      "outputs": []
    },
    {
      "cell_type": "code",
      "source": [
        "# Get all the options expiring in 7 days\n",
        "df_open = df[df['dte'] == 7]"
      ],
      "metadata": {
        "id": "AVJlvR3gP1kZ"
      },
      "execution_count": 5,
      "outputs": []
    },
    {
      "cell_type": "code",
      "source": [
        "# Get all the expired options\n",
        "# If the underlying last > strike, set the ask price to 0.00\n",
        "df_close = df[(df['dte'] == 0)]\n",
        "df_close.loc[df_close['underlying_last'] >= df_close['strike'], 'ask'] = 0"
      ],
      "metadata": {
        "id": "E4b3C928P22P"
      },
      "execution_count": 6,
      "outputs": []
    },
    {
      "cell_type": "code",
      "source": [
        "# Filter options with delta close to 0.18\n",
        "df_open = df_open[(df_open['delta'] > -0.18) & (df_open['delta'] < -0.10)]\n",
        "idx = df_open.groupby(['expire_date'])['delta'].transform(min) == df_open['delta']\n",
        "df_open = df_open[idx]"
      ],
      "metadata": {
        "id": "Olt-N2rNCBa6"
      },
      "execution_count": 7,
      "outputs": []
    },
    {
      "cell_type": "code",
      "source": [
        "# Generate the dataset with the combination\n",
        "df_op = pd.merge(df_open, df_close, how='inner', on=['expire_date','strike'], suffixes=['_sell','_buy'])\n",
        "df_op = df_op.reset_index(drop=True)"
      ],
      "metadata": {
        "id": "ytemL7k3QRGf"
      },
      "execution_count": 8,
      "outputs": []
    },
    {
      "cell_type": "code",
      "source": [
        "# Calculate fees\n",
        "df_op['fees'] = np.where(df_op['underlying_last_buy'] >= df_op['strike'], FEES_PER_CONTRACT, 2 * FEES_PER_CONTRACT)"
      ],
      "metadata": {
        "id": "SJop-YM2QSry"
      },
      "execution_count": 9,
      "outputs": []
    },
    {
      "cell_type": "code",
      "source": [
        "# Generate result\n",
        "puts_qty = len(df_op)\n",
        "puts_itm = len(df_op[df_op['underlying_last_buy'] < df_op['strike']])\n",
        "profit_loss = (((df_op['bid_sell'] - df_op['ask_buy']) * 100 - df_op['fees']) * CONTRACTS_QTY).sum()"
      ],
      "metadata": {
        "id": "3wnO_sueQVOA"
      },
      "execution_count": 10,
      "outputs": []
    },
    {
      "cell_type": "code",
      "source": [
        "print(f' NAKED PUTS STRATEGY - RESULT '.center(70, '*'))\n",
        "print(f'Closing ITM: {100 * puts_itm / puts_qty:.2f}% ({puts_itm} / {puts_qty})')\n",
        "print(f\"     Result: $ {profit_loss:.2f}\")"
      ],
      "metadata": {
        "id": "RG1FAr0nQdj5",
        "colab": {
          "base_uri": "https://localhost:8080/"
        },
        "outputId": "5663ce7e-28ad-4d48-c958-6ff84db0602b"
      },
      "execution_count": 11,
      "outputs": [
        {
          "output_type": "stream",
          "name": "stdout",
          "text": [
            "******************** NAKED PUTS STRATEGY - RESULT *********************\n",
            "Closing ITM: 10.53% (133 / 1263)\n",
            "     Result: $ 150884.00\n"
          ]
        }
      ]
    }
  ]
}