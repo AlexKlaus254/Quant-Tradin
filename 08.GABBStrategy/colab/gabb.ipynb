{
  "nbformat": 4,
  "nbformat_minor": 0,
  "metadata": {
    "colab": {
      "provenance": []
    },
    "kernelspec": {
      "name": "python3",
      "display_name": "Python 3"
    },
    "language_info": {
      "name": "python"
    }
  },
  "cells": [
    {
      "cell_type": "code",
      "source": [
        "!pip install pandas_ta tqdm pygad"
      ],
      "metadata": {
        "colab": {
          "base_uri": "https://localhost:8080/"
        },
        "id": "bU4G0gi-gdc5",
        "outputId": "da77ee1d-9861-4c73-af83-723000adbee2"
      },
      "execution_count": 1,
      "outputs": [
        {
          "output_type": "stream",
          "name": "stdout",
          "text": [
            "Looking in indexes: https://pypi.org/simple, https://us-python.pkg.dev/colab-wheels/public/simple/\n",
            "Requirement already satisfied: pandas_ta in /usr/local/lib/python3.10/dist-packages (0.3.14b0)\n",
            "Requirement already satisfied: tqdm in /usr/local/lib/python3.10/dist-packages (4.65.0)\n",
            "Requirement already satisfied: pygad in /usr/local/lib/python3.10/dist-packages (3.0.1)\n",
            "Requirement already satisfied: pandas in /usr/local/lib/python3.10/dist-packages (from pandas_ta) (1.5.3)\n",
            "Requirement already satisfied: cloudpickle in /usr/local/lib/python3.10/dist-packages (from pygad) (2.2.1)\n",
            "Requirement already satisfied: matplotlib in /usr/local/lib/python3.10/dist-packages (from pygad) (3.7.1)\n",
            "Requirement already satisfied: numpy in /usr/local/lib/python3.10/dist-packages (from pygad) (1.22.4)\n",
            "Requirement already satisfied: contourpy>=1.0.1 in /usr/local/lib/python3.10/dist-packages (from matplotlib->pygad) (1.0.7)\n",
            "Requirement already satisfied: cycler>=0.10 in /usr/local/lib/python3.10/dist-packages (from matplotlib->pygad) (0.11.0)\n",
            "Requirement already satisfied: fonttools>=4.22.0 in /usr/local/lib/python3.10/dist-packages (from matplotlib->pygad) (4.39.3)\n",
            "Requirement already satisfied: kiwisolver>=1.0.1 in /usr/local/lib/python3.10/dist-packages (from matplotlib->pygad) (1.4.4)\n",
            "Requirement already satisfied: packaging>=20.0 in /usr/local/lib/python3.10/dist-packages (from matplotlib->pygad) (23.1)\n",
            "Requirement already satisfied: pillow>=6.2.0 in /usr/local/lib/python3.10/dist-packages (from matplotlib->pygad) (8.4.0)\n",
            "Requirement already satisfied: pyparsing>=2.3.1 in /usr/local/lib/python3.10/dist-packages (from matplotlib->pygad) (3.0.9)\n",
            "Requirement already satisfied: python-dateutil>=2.7 in /usr/local/lib/python3.10/dist-packages (from matplotlib->pygad) (2.8.2)\n",
            "Requirement already satisfied: pytz>=2020.1 in /usr/local/lib/python3.10/dist-packages (from pandas->pandas_ta) (2022.7.1)\n",
            "Requirement already satisfied: six>=1.5 in /usr/local/lib/python3.10/dist-packages (from python-dateutil>=2.7->matplotlib->pygad) (1.16.0)\n"
          ]
        }
      ]
    },
    {
      "cell_type": "code",
      "execution_count": 2,
      "metadata": {
        "id": "-LjpN-v8Btt7"
      },
      "outputs": [],
      "source": [
        "import numpy as np\n",
        "import pandas as pd\n",
        "import pandas_ta as ta\n",
        "import pygad\n",
        "\n",
        "from tqdm import tqdm\n"
      ]
    },
    {
      "cell_type": "code",
      "source": [
        "try:\n",
        "    from urllib.request import urlretrieve\n",
        "except ImportError:\n",
        "    from urllib import urlretrieve\n",
        "\n",
        "# Download data\n",
        "print(f'Downloading OIH_adjusted.txt...')\n",
        "urlretrieve('http://api.kibot.com/?action=history&symbol=OIH&interval=1&unadjusted=0&bp=1&user=guest', 'OIH_adjusted.txt')\n",
        "\n",
        "# Read data and assign names to the columns\n",
        "df = pd.read_csv('OIH_adjusted.txt')\n",
        "df.columns = ['date','time','open','high','low','close','volume']\n",
        "\n",
        "# Combine date and time in the date column\n",
        "df['date'] = df['date'] + ' ' + df['time']\n",
        "df['date'] = pd.to_datetime(df['date'], format='%m/%d/%Y %H:%M')\n",
        "df = df[['date','open','high','low','close','volume']]\n",
        "\n",
        "# Sort by date and assign the date as index\n",
        "df = df.sort_values('date').reset_index(drop=True).set_index('date')\n",
        "\n",
        "# Convert the data to different timeframes & save them for future uses\n",
        "AGGREGATION = {'open': 'first', 'high': 'max', 'low': 'min', 'close': 'last', 'volume': 'sum'}\n",
        "TIMEFRAMES = ['5T', '15T', '1H', '1D']\n",
        "\n",
        "for timeframe in TIMEFRAMES:\n",
        "    print(f'Converting & Saving {timeframe} Data...')\n",
        "    df = df.resample(timeframe).agg(AGGREGATION).dropna()\n",
        "    df.to_csv(f'OIH_{timeframe}.csv.gz', compression='gzip')\n"
      ],
      "metadata": {
        "colab": {
          "base_uri": "https://localhost:8080/"
        },
        "id": "vwVEhwTODY4n",
        "outputId": "797f478a-66be-4fbf-87d7-10b6f19354df"
      },
      "execution_count": 3,
      "outputs": [
        {
          "output_type": "stream",
          "name": "stdout",
          "text": [
            "Downloading OIH_adjusted.txt...\n",
            "Converting & Saving 5T Data...\n",
            "Converting & Saving 15T Data...\n",
            "Converting & Saving 1H Data...\n",
            "Converting & Saving 1D Data...\n"
          ]
        }
      ]
    },
    {
      "cell_type": "code",
      "source": [
        "# Constants\n",
        "SOLUTIONS = 20\n",
        "GENERATIONS = 50\n",
        "TIMEFRAMES = ['5T','15T','1H','1D']"
      ],
      "metadata": {
        "id": "36mzjkH6B-7a"
      },
      "execution_count": 4,
      "outputs": []
    },
    {
      "cell_type": "code",
      "source": [
        "# Configuration\n",
        "np.set_printoptions(suppress=True)\n",
        "pd.options.mode.chained_assignment = None"
      ],
      "metadata": {
        "id": "Eck0aed5QLR4"
      },
      "execution_count": 5,
      "outputs": []
    },
    {
      "cell_type": "code",
      "source": [
        "# Loading data, and split in train and test datasets\n",
        "def get_data(timeframe):\n",
        "\n",
        "    df = pd.read_csv(f'OIH_{timeframe}.csv.gz', compression='gzip')\n",
        "    df.ta.bbands(close=df['close'], length=20, append=True)\n",
        "    df = df.dropna()\n",
        "    df['high_limit'] = df['BBU_20_2.0'] + (df['BBU_20_2.0'] - df['BBL_20_2.0']) / 2\n",
        "    df['low_limit'] = df['BBL_20_2.0'] - (df['BBU_20_2.0'] - df['BBL_20_2.0']) / 2\n",
        "    df['close_percentage'] = np.clip((df['close'] - df['low_limit']) / (df['high_limit'] - df['low_limit']), 0, 1)\n",
        "    df['volatility'] = df['BBU_20_2.0'] / df['BBL_20_2.0'] - 1\n",
        "\n",
        "    train = df[df['date'] < '2022-01-01']\n",
        "    test = df[df['date'] >= '2022-01-01']\n",
        "\n",
        "    return train, test"
      ],
      "metadata": {
        "id": "Olt-N2rNCBa6"
      },
      "execution_count": 6,
      "outputs": []
    },
    {
      "cell_type": "code",
      "source": [
        "# Define fitness function to be used by the PyGAD instance\n",
        "def fitness_func(self, solution, sol_idx):\n",
        "\n",
        "    # Get Reward from train data\n",
        "    total_reward, _, _ = get_result(train, solution[0], solution[1], solution[2])\n",
        "\n",
        "    # Return the solution reward\n",
        "    return total_reward"
      ],
      "metadata": {
        "id": "ytemL7k3QRGf"
      },
      "execution_count": 7,
      "outputs": []
    },
    {
      "cell_type": "code",
      "source": [
        "# Define a reward function\n",
        "def get_result(df, min_volatility, max_buy_perc, min_sell_perc):\n",
        "\n",
        "    # Generate a copy to avoid changing the original data\n",
        "    df = df.copy().reset_index(drop=True)\n",
        "\n",
        "    # Buy Signal\n",
        "    df['signal'] = np.where((df['volatility'] > min_volatility) & (df['close_percentage'] < max_buy_perc), 1, 0)\n",
        "\n",
        "    # Sell Signal\n",
        "    df['signal'] = np.where((df['close_percentage'] > min_sell_perc), -1, df['signal'])\n",
        "\n",
        "    # Remove all rows without operations, rows with the same consecutive operation, first row selling, and last row buying\n",
        "    result = df[df['signal'] != 0]\n",
        "    result = result[result['signal'] != result['signal'].shift()]\n",
        "    if (len(result) > 0) and (result.iat[0, -1] == -1): result = result.iloc[1:]\n",
        "    if (len(result) > 0) and (result.iat[-1, -1] == 1): result = result.iloc[:-1]\n",
        "\n",
        "    # Calculate the reward / operation\n",
        "    result['total_reward'] = np.where(result['signal'] == -1, result['close'] - result['close'].shift(), 0)\n",
        "\n",
        "    # Generate the result\n",
        "    total_reward = result['total_reward'].sum()\n",
        "    wins = len(result[result['total_reward'] > 0])\n",
        "    losses = len(result[result['total_reward'] < 0])\n",
        "    \n",
        "    return total_reward, wins, losses"
      ],
      "metadata": {
        "id": "SJop-YM2QSry"
      },
      "execution_count": 8,
      "outputs": []
    },
    {
      "cell_type": "code",
      "source": [
        "for timeframe in TIMEFRAMES:\n",
        "\n",
        "    # Get Train and Test data for timeframe\n",
        "    train, test = get_data(timeframe)\n",
        "\n",
        "    # Process timeframe\n",
        "    print(\"\".center(60, \"*\"))\n",
        "    print(f' PROCESSING TIMEFRAME {timeframe} '.center(60, '*'))\n",
        "    print(\"\".center(60, \"*\"))\n",
        "\n",
        "    with tqdm(total=GENERATIONS) as pbar:\n",
        "\n",
        "        # Create Genetic Algorithm\n",
        "        ga_instance = pygad.GA(num_generations=GENERATIONS,\n",
        "                               num_parents_mating=5,\n",
        "                               fitness_func=fitness_func,\n",
        "                               sol_per_pop=SOLUTIONS,\n",
        "                               num_genes=3,\n",
        "                               gene_space=[{'low': 0, 'high':1}, {'low': 0, 'high':1}, {'low': 0, 'high':1}],\n",
        "                               parent_selection_type=\"sss\",\n",
        "                               crossover_type=\"single_point\",\n",
        "                               mutation_type=\"random\",\n",
        "                               mutation_num_genes=1,\n",
        "                               keep_parents=-1,\n",
        "                               on_generation=lambda _: pbar.update(1),\n",
        "                               )\n",
        "\n",
        "        # Run the Genetic Algorithm\n",
        "        ga_instance.run()\n",
        "\n",
        "    # Show details of the best solution.\n",
        "    solution, solution_fitness, _ = ga_instance.best_solution()\n",
        "\n",
        "    #print(f\"Fitness value of the best solution: {solution_fitness:10.2f}\")\n",
        "    print(f' Best Solution Parameters '.center(60, '*'))\n",
        "    print(f\"Min Volatility   : {solution[0]:6.4f}\")\n",
        "    print(f\"Min Perc to Buy  : {solution[1]:6.4f}\")\n",
        "    print(f\"Max Perc to Sell : {solution[2]:6.4f}\")\n",
        "\n",
        "    # Get Reward from train data\n",
        "    profit, wins, losses = get_result(train, solution[0], solution[1], solution[2])\n",
        "\n",
        "    print(f' Result for timeframe {timeframe} (TRAIN) '.center(60, '*'))\n",
        "    print(f\"* Profit / Loss  : {profit:.2f}\")\n",
        "    print(f\"* Wins / Losses  : {wins} / {losses}\")\n",
        "    print(f\"* Win Rate       : {(100 * (wins/(wins + losses)) if wins + losses > 0 else 0):.2f}%\")\n",
        "\n",
        "    # Get Reward from test data\n",
        "    profit, wins, losses = get_result(test, solution[0], solution[1], solution[2])\n",
        "\n",
        "    # Show the final result\n",
        "    print(f' Result for timeframe {timeframe} (TEST) '.center(60, '*'))\n",
        "    print(f\"* Profit / Loss  : {profit:.2f}\")\n",
        "    print(f\"* Wins / Losses  : {wins} / {losses}\")\n",
        "    print(f\"* Win Rate       : {(100 * (wins/(wins + losses)) if wins + losses > 0 else 0):.2f}%\")\n",
        "\n",
        "    print(\"\")"
      ],
      "metadata": {
        "colab": {
          "base_uri": "https://localhost:8080/"
        },
        "id": "3wnO_sueQVOA",
        "outputId": "9d1a16ec-8b4e-40df-8a1d-0fef9ce15986"
      },
      "execution_count": 9,
      "outputs": [
        {
          "output_type": "stream",
          "name": "stdout",
          "text": [
            "************************************************************\n",
            "***************** PROCESSING TIMEFRAME 5T ******************\n",
            "************************************************************\n"
          ]
        },
        {
          "output_type": "stream",
          "name": "stderr",
          "text": [
            "100%|██████████| 50/50 [01:43<00:00,  2.07s/it]\n"
          ]
        },
        {
          "output_type": "stream",
          "name": "stdout",
          "text": [
            "***************** Best Solution Parameters *****************\n",
            "Min Volatility   : 0.0026\n",
            "Min Perc to Buy  : 0.8119\n",
            "Max Perc to Sell : 0.6306\n",
            "************* Result for timeframe 5T (TRAIN) **************\n",
            "* Profit / Loss  : 5205.69\n",
            "* Wins / Losses  : 21253 / 5394\n",
            "* Win Rate       : 79.76%\n",
            "************** Result for timeframe 5T (TEST) **************\n",
            "* Profit / Loss  : 198.23\n",
            "* Wins / Losses  : 893 / 231\n",
            "* Win Rate       : 79.45%\n",
            "\n",
            "************************************************************\n",
            "***************** PROCESSING TIMEFRAME 15T *****************\n",
            "************************************************************\n"
          ]
        },
        {
          "output_type": "stream",
          "name": "stderr",
          "text": [
            "100%|██████████| 50/50 [00:31<00:00,  1.57it/s]\n"
          ]
        },
        {
          "output_type": "stream",
          "name": "stdout",
          "text": [
            "***************** Best Solution Parameters *****************\n",
            "Min Volatility   : 0.0051\n",
            "Min Perc to Buy  : 0.7016\n",
            "Max Perc to Sell : 0.5965\n",
            "************* Result for timeframe 15T (TRAIN) *************\n",
            "* Profit / Loss  : 3132.70\n",
            "* Wins / Losses  : 7763 / 2070\n",
            "* Win Rate       : 78.95%\n",
            "************* Result for timeframe 15T (TEST) **************\n",
            "* Profit / Loss  : 46.90\n",
            "* Wins / Losses  : 276 / 85\n",
            "* Win Rate       : 76.45%\n",
            "\n",
            "************************************************************\n",
            "***************** PROCESSING TIMEFRAME 1H ******************\n",
            "************************************************************\n"
          ]
        },
        {
          "output_type": "stream",
          "name": "stderr",
          "text": [
            "100%|██████████| 50/50 [00:12<00:00,  3.91it/s]\n"
          ]
        },
        {
          "output_type": "stream",
          "name": "stdout",
          "text": [
            "***************** Best Solution Parameters *****************\n",
            "Min Volatility   : 0.0096\n",
            "Min Perc to Buy  : 0.6363\n",
            "Max Perc to Sell : 0.5166\n",
            "************* Result for timeframe 1H (TRAIN) **************\n",
            "* Profit / Loss  : 671.25\n",
            "* Wins / Losses  : 2143 / 676\n",
            "* Win Rate       : 76.02%\n",
            "************** Result for timeframe 1H (TEST) **************\n",
            "* Profit / Loss  : 2.23\n",
            "* Wins / Losses  : 76 / 23\n",
            "* Win Rate       : 76.77%\n",
            "\n",
            "************************************************************\n",
            "***************** PROCESSING TIMEFRAME 1D ******************\n",
            "************************************************************\n"
          ]
        },
        {
          "output_type": "stream",
          "name": "stderr",
          "text": [
            "100%|██████████| 50/50 [00:06<00:00,  8.17it/s]\n"
          ]
        },
        {
          "output_type": "stream",
          "name": "stdout",
          "text": [
            "***************** Best Solution Parameters *****************\n",
            "Min Volatility   : 0.2139\n",
            "Min Perc to Buy  : 0.5089\n",
            "Max Perc to Sell : 0.8034\n",
            "************* Result for timeframe 1D (TRAIN) **************\n",
            "* Profit / Loss  : 618.20\n",
            "* Wins / Losses  : 17 / 10\n",
            "* Win Rate       : 62.96%\n",
            "************** Result for timeframe 1D (TEST) **************\n",
            "* Profit / Loss  : 52.03\n",
            "* Wins / Losses  : 1 / 0\n",
            "* Win Rate       : 100.00%\n",
            "\n"
          ]
        }
      ]
    },
    {
      "cell_type": "code",
      "source": [],
      "metadata": {
        "id": "RG1FAr0nQdj5"
      },
      "execution_count": 9,
      "outputs": []
    }
  ]
}