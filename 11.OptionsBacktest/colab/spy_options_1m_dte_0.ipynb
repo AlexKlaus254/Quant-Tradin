{
  "nbformat": 4,
  "nbformat_minor": 0,
  "metadata": {
    "colab": {
      "provenance": []
    },
    "kernelspec": {
      "name": "python3",
      "display_name": "Python 3"
    },
    "language_info": {
      "name": "python"
    }
  },
  "cells": [
    {
      "cell_type": "markdown",
      "source": [
        "Copy the file **spy_dte_0.csv.gz** located in https://github.com/crapher/medium/tree/main/11.OptionsBacktest/data to your colab folder"
      ],
      "metadata": {
        "id": "_XQkxgIHPS8z"
      }
    },
    {
      "cell_type": "code",
      "execution_count": 1,
      "metadata": {
        "id": "-LjpN-v8Btt7"
      },
      "outputs": [],
      "source": [
        "import warnings\n",
        "warnings.filterwarnings(\"ignore\")\n",
        "\n",
        "import numpy as np\n",
        "import pandas as pd"
      ]
    },
    {
      "cell_type": "code",
      "source": [
        "# Configuration\n",
        "pd.set_option('display.float_format', lambda x: '%.4f' % x)"
      ],
      "metadata": {
        "id": "ov9plUUMnEso"
      },
      "execution_count": 2,
      "outputs": []
    },
    {
      "cell_type": "code",
      "source": [
        "# Constants\n",
        "BARS = 15        # Range: 0 - 30\n",
        "STOP_LOSS = 0.7  # Range: 0 - 1 (0 -> 0% | 1 -> 100%)\n",
        "POO = 0.01       # Range: 0 - 1 (0 -> 0% | 1 -> 100%)\n",
        "\n",
        "OPTIONS_FILE='SPY_dte_0.csv.gz'\n",
        "\n",
        "FEES_PER_CONTRACT = 0.6\n",
        "CASH = 1000"
      ],
      "metadata": {
        "id": "I1F7CD1kQPEx"
      },
      "execution_count": 3,
      "outputs": []
    },
    {
      "cell_type": "code",
      "source": [
        "### Read File ###\n",
        "df_base = pd.read_csv(OPTIONS_FILE, header=0)\n",
        "df_base['date'] = pd.to_datetime(df_base['date'])"
      ],
      "metadata": {
        "id": "36mzjkH6B-7a"
      },
      "execution_count": 4,
      "outputs": []
    },
    {
      "cell_type": "code",
      "source": [
        "### Get the trend of each day to see which option we should buy ###\n",
        "\n",
        "# Get first bar (To get Underlying Open Price)\n",
        "df_day_open = df_base[(df_base['date'].dt.hour == 9) & (df_base['date'].dt.minute == 30)]\n",
        "\n",
        "# Get *BARS* bar (To get Underlying Close Price)\n",
        "df = df_base[(df_base['date'].dt.hour == 9) & (df_base['date'].dt.minute == 30 + BARS - 1)]\n",
        "\n",
        "# Calculate the trend\n",
        "df = df.merge(df_day_open,\n",
        "              how='left',\n",
        "              left_on=['expire_date','strike','kind'],\n",
        "              right_on=['expire_date','strike','kind'],\n",
        "              suffixes=('','_dayopen'))\n",
        "\n",
        "df.loc[:,'trend'] = np.where(df['open_underlying_dayopen'] < df['close_underlying'], 1,\n",
        "                    np.where(df['open_underlying_dayopen'] > df['close_underlying'], -1,\n",
        "                    np.NaN))\n",
        "\n",
        "# Keep the first open value for each strike\n",
        "df = df.rename(columns={'open_dayopen': 'option_open'})\n",
        "\n",
        "# Remove all previous merged values for trend calculation and rows with NaN values\n",
        "df = df.loc[:,~df.columns.str.endswith('_dayopen')]\n",
        "df = df.dropna()"
      ],
      "metadata": {
        "id": "Eck0aed5QLR4"
      },
      "execution_count": 5,
      "outputs": []
    },
    {
      "cell_type": "code",
      "source": [
        "### Get the closest ITM option ###\n",
        "\n",
        "# Filter all puts when trend is going down and calls when trend is going up\n",
        "df = df[((df['kind'] == 'P') & (df['trend'] == -1)) |\n",
        "        ((df['kind'] == 'C') & (df['trend'] == 1))]\n",
        "\n",
        "# Calculate Strike distance from Underlying price\n",
        "df['distance'] = df['trend'] * (df['close_underlying'] - df['strike'])\n",
        "\n",
        "# Remove OTM & ATM Options\n",
        "df = df[df['distance'] > 0]\n",
        "\n",
        "# Get the closest ITM options\n",
        "idx = df.groupby(['expire_date'])['distance'].transform(min) == df['distance']\n",
        "df = df[idx]\n",
        "\n",
        "# Remove distance column\n",
        "df = df.drop('distance', axis=1)"
      ],
      "metadata": {
        "id": "NpX4bi5qnTM4"
      },
      "execution_count": 6,
      "outputs": []
    },
    {
      "cell_type": "code",
      "source": [
        "### Calculate close points ###\n",
        "\n",
        "# Get trade bars\n",
        "df_trade = df_base[((df_base['date'].dt.hour == 9) & (df_base['date'].dt.minute > 30 + BARS - 1)) |\n",
        "                    (df_base['date'].dt.hour >= 10)]\n",
        "\n",
        "# Get Option Open and Close Points\n",
        "df = df_trade.merge(df[['expire_date','kind','strike','option_open']],\n",
        "                    how='right',\n",
        "                    left_on=['expire_date','kind','strike'],\n",
        "                    right_on=['expire_date','kind','strike'])\n",
        "\n",
        "df.loc[:,'open_point'] = np.where((df['open'] >= df['option_open'] * (1 + POO)) &\n",
        "                                  ((df['open'].shift() < df['option_open'].shift() * (1 + POO)) |\n",
        "                                   (df['expire_date'] != df['expire_date'].shift())), 1, 0)\n",
        "\n",
        "df.loc[:,'stop_loss'] = df['option_open'] * STOP_LOSS\n",
        "df.loc[:,'last_date'] = df.groupby(['expire_date','kind','strike'])['date'].transform('last')\n",
        "\n",
        "df.loc[:,'close_point'] = np.where(((df['close'] <= df['stop_loss']) &\n",
        "                                    ((df['close'].shift() > df['stop_loss'].shift()) | (df['expire_date'] != df['expire_date'].shift()))) |\n",
        "                                   (df['last_date'] == df['date']), 1, 0)\n",
        "\n",
        "df_tmp = df[(df['open_point'] - df['close_point']) == 0]\n",
        "df = df[(df['open_point'] - df['close_point']) != 0]\n",
        "df.loc[:,'open_point'] = np.where((df['open_point'] - df['close_point']) == (df['open_point'].shift(-1) - df['close_point'].shift(-1)), 0, df['open_point'])\n",
        "\n",
        "df = pd.concat([df, df_tmp])\n",
        "df = df.sort_values(by=['date','expire_date','kind','strike'])\n",
        "\n",
        "# Get Open Price, Close Price, Open Date, and Close Date\n",
        "df = df[(df['open_point'] != 0) | (df['close_point'] != 0)]\n",
        "\n",
        "df['open_price'] = np.where(df['open_point'] == 1, df['open'], np.NaN)\n",
        "df['close_price'] = np.where(df['close_point'] == 1, df['close'], np.NaN)\n",
        "df['close_price'] = df['close_price'].fillna(method='bfill', limit=1)\n",
        "\n",
        "df['close_date'] = np.where(df['open_point'] - df['close_point'] == 0, df['date'], df['date'].shift(-1))\n",
        "df = df.rename(columns={'date':'open_date'})\n",
        "\n",
        "# Clean all Rows with NaN values (This is going to remove all invalid closes)\n",
        "df = df.dropna()\n",
        "\n",
        "# Clean all the unneeded columns\n",
        "df = df.drop(['last_date','open_point','close_point','open','close'], axis=1)\n",
        "df = df.loc[:,~df.columns.str.endswith('_underlying')]\n",
        "\n",
        "# Save the trigger of the closing\n",
        "df.loc[:,'trigger'] = np.where(df['close_price'] <= df['stop_loss'], 'SL', 'EXPIRED')"
      ],
      "metadata": {
        "id": "vzPXDAynnTKZ"
      },
      "execution_count": 7,
      "outputs": []
    },
    {
      "cell_type": "code",
      "source": [
        "### Generate result ###\n",
        "\n",
        "# Calculate the variables required in the result\n",
        "df['contracts'] = (CASH // (100 * df['open_price'])).astype(int)\n",
        "df['fees'] = np.where(df['trigger'] == 'EXPIRED', FEES_PER_CONTRACT, 2 * FEES_PER_CONTRACT) * df['contracts']\n",
        "df['gross_result'] = df['contracts'] * 100 * (df['close_price'] - df['open_price'])\n",
        "df['net_result'] = df['gross_result'] - df['fees']\n",
        "\n",
        "sl = len(df[df[\"trigger\"] == \"SL\"])\n",
        "exp = len(df[df[\"trigger\"] != \"SL\"])\n",
        "total = len(df)\n",
        "\n",
        "# Configuration\n",
        "print(f' CONFIGURATION '.center(70, '*'))\n",
        "print(f'* Bars: {BARS}')\n",
        "print(f'* Stop Loss: {STOP_LOSS * 100:.0f}%')\n",
        "print(f'* Percentage over price: {POO * 100:.0f}%')\n",
        "\n",
        "# Show the Total Result\n",
        "print(f' SUMMARIZED RESULT '.center(70, '*'))\n",
        "print(f'* Trading Days: {len(df[\"expire_date\"].unique())}')\n",
        "print(f'* Operations: {len(df)} - Stop Loss: {sl} ({100 * sl / total:.2f}%) - Expired: {exp} ({100 * exp / total:.2f}%)')\n",
        "print(f'* Gross PnL: $ {df[\"gross_result\"].sum():.2f}')\n",
        "print(f'* Net PnL: $ {df[\"net_result\"].sum():.2f}')\n",
        "\n",
        "# Show The Monthly Result\n",
        "print(f' MONTHLY DETAIL RESULT '.center(70, '*'))\n",
        "df_monthly = df[['expire_date','gross_result','net_result']]\n",
        "df_monthly['year_month'] = df_monthly['expire_date'].str[0:7]\n",
        "df_monthly = df_monthly.groupby(['year_month'])[['gross_result','net_result']].sum()\n",
        "print(df_monthly)"
      ],
      "metadata": {
        "colab": {
          "base_uri": "https://localhost:8080/"
        },
        "id": "5_9jY3TtnTH-",
        "outputId": "541e854c-a9f3-4bc3-d8d9-57b170ab2fea"
      },
      "execution_count": 8,
      "outputs": [
        {
          "output_type": "stream",
          "name": "stdout",
          "text": [
            "*************************** CONFIGURATION ****************************\n",
            "* Bars: 15\n",
            "* Stop Loss: 70%\n",
            "* Percentage over price: 1%\n",
            "************************* SUMMARIZED RESULT **************************\n",
            "* Trading Days: 367\n",
            "* Operations: 595 - Stop Loss: 429 (72.10%) - Expired: 166 (27.90%)\n",
            "* Gross PnL: $ 50106.00\n",
            "* Net PnL: $ 45985.80\n",
            "*********************** MONTHLY DETAIL RESULT ************************\n",
            "            gross_result  net_result\n",
            "year_month                          \n",
            "2021-06       -1050.0000  -1114.2000\n",
            "2021-07        3195.0000   2991.6000\n",
            "2021-08       -1367.0000  -1635.8000\n",
            "2021-09        5660.0000   5531.6000\n",
            "2021-10        1203.0000    996.0000\n",
            "2021-11       -4876.0000  -5076.4000\n",
            "2021-12        6131.0000   5977.4000\n",
            "2022-01        3564.0000   3376.2000\n",
            "2022-02       -2284.0000  -2372.2000\n",
            "2022-03        8935.0000   8830.0000\n",
            "2022-04        6353.0000   6212.6000\n",
            "2022-05        2375.0000   2303.6000\n",
            "2022-06       -5313.0000  -5496.0000\n",
            "2022-07        -890.0000  -1008.2000\n",
            "2022-08        5553.0000   5410.8000\n",
            "2022-09        8015.0000   7930.4000\n",
            "2022-10        4878.0000   4791.6000\n",
            "2022-11       -2614.0000  -2808.4000\n",
            "2022-12        2190.0000   2038.2000\n",
            "2023-01        4279.0000   4082.2000\n",
            "2023-02        -709.0000   -909.4000\n",
            "2023-03        1814.0000   1598.6000\n",
            "2023-04        6508.0000   6308.2000\n",
            "2023-05       -5279.0000  -5651.0000\n",
            "2023-06        3835.0000   3678.4000\n"
          ]
        }
      ]
    }
  ]
}