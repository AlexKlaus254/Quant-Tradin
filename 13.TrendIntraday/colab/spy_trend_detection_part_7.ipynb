{
  "nbformat": 4,
  "nbformat_minor": 0,
  "metadata": {
    "colab": {
      "provenance": []
    },
    "kernelspec": {
      "name": "python3",
      "display_name": "Python 3"
    },
    "language_info": {
      "name": "python"
    }
  },
  "cells": [
    {
      "cell_type": "markdown",
      "source": [
        "Copy all the files located in https://github.com/crapher/medium/tree/main/13.TrendIntraday/result to your colab folder"
      ],
      "metadata": {
        "id": "_XQkxgIHPS8z"
      }
    },
    {
      "cell_type": "code",
      "execution_count": 1,
      "metadata": {
        "id": "-LjpN-v8Btt7"
      },
      "outputs": [],
      "source": [
        "import os\n",
        "import glob\n",
        "import numpy as np\n",
        "import pandas as pd\n",
        "\n",
        "import warnings\n",
        "warnings.filterwarnings('ignore')\n",
        "\n",
        "from sklearn.metrics import confusion_matrix, classification_report"
      ]
    },
    {
      "cell_type": "code",
      "source": [
        "# Get return a dataset with all the level 1 results\n",
        "def generate_features_targets(files_pattern):\n",
        "\n",
        "    files = glob.glob(files_pattern)\n",
        "\n",
        "    x = None\n",
        "    y = None\n",
        "    for file in files:\n",
        "        col_name = os.path.basename(file).split('.')[0]\n",
        "        tmp_df = pd.read_csv(file)\n",
        "        tmp_df.columns = [col_name, 'target']\n",
        "\n",
        "        if y is None:\n",
        "            y = tmp_df['target']\n",
        "            x = tmp_df[[col_name]]\n",
        "        else:\n",
        "            x[col_name] = tmp_df[col_name]\n",
        "\n",
        "    return x.values, y.values"
      ],
      "metadata": {
        "id": "36mzjkH6B-7a"
      },
      "execution_count": 2,
      "outputs": []
    },
    {
      "cell_type": "code",
      "source": [
        "# Show the result of the operation\n",
        "def show_result(target, pred, ds_type='TEST'):\n",
        "\n",
        "    target = np.array(target)\n",
        "    pred = np.array(pred)\n",
        "\n",
        "    print(f' RESULT {ds_type.upper()} '.center(56, '*'))\n",
        "\n",
        "    print('* Confusion Matrix (Top: Predicted - Left: Real)')\n",
        "    print(confusion_matrix(y_true=target, y_pred=pred))\n",
        "\n",
        "    print('* Classification Report')\n",
        "    print(classification_report(target, pred))"
      ],
      "metadata": {
        "id": "Eck0aed5QLR4"
      },
      "execution_count": 3,
      "outputs": []
    },
    {
      "cell_type": "code",
      "source": [
        "# Return the predicted values\n",
        "def get_predicted_values(features):\n",
        "\n",
        "    pred_y = np.where(features.sum(axis=1) > features.shape[1] / 2, 1, 0)\n",
        "    return pred_y"
      ],
      "metadata": {
        "id": "vzPXDAynnTKZ"
      },
      "execution_count": 4,
      "outputs": []
    },
    {
      "cell_type": "code",
      "source": [
        "# Get the datasets to be used in the tests\n",
        "train_x, train_y = generate_features_targets('./*train.csv.gz')\n",
        "val_x, val_y = generate_features_targets('./*val.csv.gz')\n",
        "test_x, test_y = generate_features_targets('./*test.csv.gz')"
      ],
      "metadata": {
        "id": "mSE7UGfkcU6N"
      },
      "execution_count": 5,
      "outputs": []
    },
    {
      "cell_type": "code",
      "source": [
        "# Predict and show train values\n",
        "pred_y = get_predicted_values(train_x)\n",
        "show_result(train_y, pred_y, 'TRAIN')"
      ],
      "metadata": {
        "id": "X0mNkcZMcVa5",
        "colab": {
          "base_uri": "https://localhost:8080/"
        },
        "outputId": "c7d335c8-40da-456f-b91d-e9f9839b8ed8"
      },
      "execution_count": 6,
      "outputs": [
        {
          "output_type": "stream",
          "name": "stdout",
          "text": [
            "********************* RESULT TRAIN *********************\n",
            "* Confusion Matrix (Top: Predicted - Left: Real)\n",
            "[[ 832  477]\n",
            " [ 534 1015]]\n",
            "* Classification Report\n",
            "              precision    recall  f1-score   support\n",
            "\n",
            "           0       0.61      0.64      0.62      1309\n",
            "           1       0.68      0.66      0.67      1549\n",
            "\n",
            "    accuracy                           0.65      2858\n",
            "   macro avg       0.64      0.65      0.64      2858\n",
            "weighted avg       0.65      0.65      0.65      2858\n",
            "\n"
          ]
        }
      ]
    },
    {
      "cell_type": "code",
      "source": [
        "# Predict and show validation values\n",
        "pred_y = get_predicted_values(val_x)\n",
        "show_result(val_y, pred_y, 'VALIDATION')"
      ],
      "metadata": {
        "id": "rbj01H3UcXvy",
        "colab": {
          "base_uri": "https://localhost:8080/"
        },
        "outputId": "a3c77ca6-f173-4c11-c06a-8656a7e60f8c"
      },
      "execution_count": 7,
      "outputs": [
        {
          "output_type": "stream",
          "name": "stdout",
          "text": [
            "****************** RESULT VALIDATION *******************\n",
            "* Confusion Matrix (Top: Predicted - Left: Real)\n",
            "[[125  84]\n",
            " [ 97 181]]\n",
            "* Classification Report\n",
            "              precision    recall  f1-score   support\n",
            "\n",
            "           0       0.56      0.60      0.58       209\n",
            "           1       0.68      0.65      0.67       278\n",
            "\n",
            "    accuracy                           0.63       487\n",
            "   macro avg       0.62      0.62      0.62       487\n",
            "weighted avg       0.63      0.63      0.63       487\n",
            "\n"
          ]
        }
      ]
    },
    {
      "cell_type": "code",
      "source": [
        "# Predict and show test values\n",
        "pred_y = get_predicted_values(test_x)\n",
        "show_result(test_y, pred_y)"
      ],
      "metadata": {
        "colab": {
          "base_uri": "https://localhost:8080/"
        },
        "id": "1KzfChgicZgi",
        "outputId": "4296e489-5e63-4ea6-e152-54f80791e210"
      },
      "execution_count": 8,
      "outputs": [
        {
          "output_type": "stream",
          "name": "stdout",
          "text": [
            "********************* RESULT TEST **********************\n",
            "* Confusion Matrix (Top: Predicted - Left: Real)\n",
            "[[142 107]\n",
            " [ 94 186]]\n",
            "* Classification Report\n",
            "              precision    recall  f1-score   support\n",
            "\n",
            "           0       0.60      0.57      0.59       249\n",
            "           1       0.63      0.66      0.65       280\n",
            "\n",
            "    accuracy                           0.62       529\n",
            "   macro avg       0.62      0.62      0.62       529\n",
            "weighted avg       0.62      0.62      0.62       529\n",
            "\n"
          ]
        }
      ]
    }
  ]
}