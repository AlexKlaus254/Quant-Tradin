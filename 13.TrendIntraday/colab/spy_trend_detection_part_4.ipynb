{
  "nbformat": 4,
  "nbformat_minor": 0,
  "metadata": {
    "colab": {
      "provenance": []
    },
    "kernelspec": {
      "name": "python3",
      "display_name": "Python 3"
    },
    "language_info": {
      "name": "python"
    }
  },
  "cells": [
    {
      "cell_type": "markdown",
      "source": [
        "Copy the file **spy.2008.2021.csv.gz** and **spy.csv.gz** located in https://github.com/crapher/medium/tree/main/13.TrendIntraday\\data to your colab folder"
      ],
      "metadata": {
        "id": "_XQkxgIHPS8z"
      }
    },
    {
      "cell_type": "code",
      "execution_count": 1,
      "metadata": {
        "id": "-LjpN-v8Btt7"
      },
      "outputs": [],
      "source": [
        "import os\n",
        "import math\n",
        "import numpy as np\n",
        "import pandas as pd\n",
        "\n",
        "import warnings\n",
        "warnings.filterwarnings('ignore')\n",
        "\n",
        "from sklearn.cluster import KMeans\n",
        "from sklearn.metrics import confusion_matrix, classification_report"
      ]
    },
    {
      "cell_type": "code",
      "source": [
        "# Constants\n",
        "BARS=15\n",
        "RESULT_DIR='./result'\n",
        "DATE_SPLIT='2019-06-01'"
      ],
      "metadata": {
        "id": "ov9plUUMnEso"
      },
      "execution_count": 2,
      "outputs": []
    },
    {
      "cell_type": "code",
      "source": [
        "# Get the data and generate the train, validation, and test datasets\n",
        "def get_datasets():\n",
        "\n",
        "    train_val = pd.read_csv('./spy.2008.2021.csv.gz', compression='gzip')\n",
        "    train_val = train_val[['date','open','close']]\n",
        "    train_val['date'] = pd.to_datetime(train_val['date'])\n",
        "\n",
        "    test = pd.read_csv('./spy.csv.gz', compression='gzip')\n",
        "    test = test[['date','open','close']]\n",
        "    test['date'] = pd.to_datetime(test['date'])\n",
        "\n",
        "    train = train_val[train_val['date'] <= DATE_SPLIT]\n",
        "    validation = train_val[(train_val['date'] > DATE_SPLIT) & (train_val['date'] < test['date'].min())]\n",
        "\n",
        "    return train, validation, test"
      ],
      "metadata": {
        "id": "VjwWa8rtcop6"
      },
      "execution_count": 3,
      "outputs": []
    },
    {
      "cell_type": "code",
      "source": [
        "# Process Dataframe and return features and targets\n",
        "def get_features_targets(df, scale_obs=True):\n",
        "\n",
        "    feature_result = []\n",
        "    dates = []\n",
        "\n",
        "    # Remove duplicated dates\n",
        "    df = df.groupby(by='date').mean().reset_index()\n",
        "\n",
        "    # Get Features based on BARS configuration\n",
        "    features = df[((df['date'].dt.hour == 9) & (df['date'].dt.minute >= 30)) &\n",
        "                   (df['date'].dt.hour == 9) & (df['date'].dt.minute < 30 + BARS)]\n",
        "    features = features.groupby(features['date'].dt.date)\n",
        "\n",
        "    for dt, feature in features:\n",
        "\n",
        "        if len(feature) != BARS:\n",
        "            feature = feature.set_index('date')\n",
        "            feature = feature.resample('1T').asfreq().reindex(pd.date_range(str(dt) + ' 09:30:00', str(dt) + f' 09:{30+BARS-1}:00', freq='1T'))\n",
        "            feature = feature.reset_index()\n",
        "            feature['close'] = feature['close'].fillna(method='ffill')\n",
        "            feature['open'] = feature['open'].fillna(feature['close'])\n",
        "            feature = feature.dropna()\n",
        "\n",
        "        if len(feature) == BARS:\n",
        "            feature = feature['close'].values\n",
        "\n",
        "            if scale_obs:\n",
        "                feature -= np.min(feature)\n",
        "                feature /= np.max(np.abs(feature))\n",
        "                feature = np.nan_to_num(feature, nan=0.0, posinf=0.0, neginf=0.0)\n",
        "\n",
        "            feature_result.append(feature)\n",
        "            dates.append(dt)\n",
        "\n",
        "    # Get Targets Trend based on first and last value / day (0: DOWN - 1: UP)\n",
        "    targets = df.set_index('date')\n",
        "    targets = targets.resample('1D').agg({'open':'first', 'close':'last'})\n",
        "    targets = targets.loc[dates].reset_index().sort_values(by='date')\n",
        "    targets['trend'] = np.where(targets['open'] < targets['close'], 1, 0)\n",
        "\n",
        "    print(len(feature_result), len(targets))\n",
        "    return np.array(feature_result), np.array(targets['trend'].values)"
      ],
      "metadata": {
        "id": "36mzjkH6B-7a"
      },
      "execution_count": 4,
      "outputs": []
    },
    {
      "cell_type": "code",
      "source": [
        "# Show the result of the operation\n",
        "def show_result(target, pred, ds_type='TEST'):\n",
        "\n",
        "    target = np.array(target)\n",
        "    pred = np.array(pred)\n",
        "\n",
        "    print(f' RESULT {ds_type.upper()} '.center(56, '*'))\n",
        "\n",
        "    print('* Confusion Matrix (Top: Predicted - Left: Real)')\n",
        "    print(confusion_matrix(y_true=target, y_pred=pred))\n",
        "\n",
        "    print('* Classification Report')\n",
        "    print(classification_report(target, pred))"
      ],
      "metadata": {
        "id": "Eck0aed5QLR4"
      },
      "execution_count": 5,
      "outputs": []
    },
    {
      "cell_type": "code",
      "source": [
        "# Save the results\n",
        "def save_result(target, pred, name):\n",
        "\n",
        "    os.makedirs(RESULT_DIR, exist_ok=True)\n",
        "    df = pd.DataFrame.from_dict({'pred': pred, 'target': target})\n",
        "    df.to_csv(f'{RESULT_DIR}/{name}', index=False)"
      ],
      "metadata": {
        "id": "NpX4bi5qnTM4"
      },
      "execution_count": 6,
      "outputs": []
    },
    {
      "cell_type": "code",
      "source": [
        "# Return the predicted values\n",
        "def get_predicted_values(model, features):\n",
        "\n",
        "    pred_y = model.predict(features)\n",
        "\n",
        "    # Transform 0s to 1s and 1s to 0s (In this example we have the values in the opposite site)\n",
        "    pred_y = ~pred_y + 2\n",
        "\n",
        "    return pred_y"
      ],
      "metadata": {
        "id": "vzPXDAynnTKZ"
      },
      "execution_count": 7,
      "outputs": []
    },
    {
      "cell_type": "code",
      "source": [
        "# Get the datasets to be used in the tests\n",
        "train, validation, test = get_datasets()"
      ],
      "metadata": {
        "id": "5_9jY3TtnTH-"
      },
      "execution_count": 8,
      "outputs": []
    },
    {
      "cell_type": "code",
      "source": [
        "# Get Features and Targets\n",
        "train_x, train_y = get_features_targets(train)\n",
        "val_x, val_y = get_features_targets(validation)\n",
        "test_x, test_y = get_features_targets(test)"
      ],
      "metadata": {
        "colab": {
          "base_uri": "https://localhost:8080/"
        },
        "id": "mSE7UGfkcU6N",
        "outputId": "9ec4208f-4798-4ee8-8675-074656131841"
      },
      "execution_count": 9,
      "outputs": [
        {
          "output_type": "stream",
          "name": "stdout",
          "text": [
            "2858 2858\n",
            "487 487\n",
            "529 529\n"
          ]
        }
      ]
    },
    {
      "cell_type": "code",
      "source": [
        "# Train Model\n",
        "model = KMeans(n_clusters=2, random_state=42, n_init=\"auto\")\n",
        "model.fit(train_x)"
      ],
      "metadata": {
        "colab": {
          "base_uri": "https://localhost:8080/",
          "height": 75
        },
        "id": "tOPs6-6nFAu0",
        "outputId": "19eba29f-ca9d-4d01-f89d-d4c65b8f069b"
      },
      "execution_count": 10,
      "outputs": [
        {
          "output_type": "execute_result",
          "data": {
            "text/plain": [
              "KMeans(n_clusters=2, n_init='auto', random_state=42)"
            ],
            "text/html": [
              "<style>#sk-container-id-1 {color: black;background-color: white;}#sk-container-id-1 pre{padding: 0;}#sk-container-id-1 div.sk-toggleable {background-color: white;}#sk-container-id-1 label.sk-toggleable__label {cursor: pointer;display: block;width: 100%;margin-bottom: 0;padding: 0.3em;box-sizing: border-box;text-align: center;}#sk-container-id-1 label.sk-toggleable__label-arrow:before {content: \"▸\";float: left;margin-right: 0.25em;color: #696969;}#sk-container-id-1 label.sk-toggleable__label-arrow:hover:before {color: black;}#sk-container-id-1 div.sk-estimator:hover label.sk-toggleable__label-arrow:before {color: black;}#sk-container-id-1 div.sk-toggleable__content {max-height: 0;max-width: 0;overflow: hidden;text-align: left;background-color: #f0f8ff;}#sk-container-id-1 div.sk-toggleable__content pre {margin: 0.2em;color: black;border-radius: 0.25em;background-color: #f0f8ff;}#sk-container-id-1 input.sk-toggleable__control:checked~div.sk-toggleable__content {max-height: 200px;max-width: 100%;overflow: auto;}#sk-container-id-1 input.sk-toggleable__control:checked~label.sk-toggleable__label-arrow:before {content: \"▾\";}#sk-container-id-1 div.sk-estimator input.sk-toggleable__control:checked~label.sk-toggleable__label {background-color: #d4ebff;}#sk-container-id-1 div.sk-label input.sk-toggleable__control:checked~label.sk-toggleable__label {background-color: #d4ebff;}#sk-container-id-1 input.sk-hidden--visually {border: 0;clip: rect(1px 1px 1px 1px);clip: rect(1px, 1px, 1px, 1px);height: 1px;margin: -1px;overflow: hidden;padding: 0;position: absolute;width: 1px;}#sk-container-id-1 div.sk-estimator {font-family: monospace;background-color: #f0f8ff;border: 1px dotted black;border-radius: 0.25em;box-sizing: border-box;margin-bottom: 0.5em;}#sk-container-id-1 div.sk-estimator:hover {background-color: #d4ebff;}#sk-container-id-1 div.sk-parallel-item::after {content: \"\";width: 100%;border-bottom: 1px solid gray;flex-grow: 1;}#sk-container-id-1 div.sk-label:hover label.sk-toggleable__label {background-color: #d4ebff;}#sk-container-id-1 div.sk-serial::before {content: \"\";position: absolute;border-left: 1px solid gray;box-sizing: border-box;top: 0;bottom: 0;left: 50%;z-index: 0;}#sk-container-id-1 div.sk-serial {display: flex;flex-direction: column;align-items: center;background-color: white;padding-right: 0.2em;padding-left: 0.2em;position: relative;}#sk-container-id-1 div.sk-item {position: relative;z-index: 1;}#sk-container-id-1 div.sk-parallel {display: flex;align-items: stretch;justify-content: center;background-color: white;position: relative;}#sk-container-id-1 div.sk-item::before, #sk-container-id-1 div.sk-parallel-item::before {content: \"\";position: absolute;border-left: 1px solid gray;box-sizing: border-box;top: 0;bottom: 0;left: 50%;z-index: -1;}#sk-container-id-1 div.sk-parallel-item {display: flex;flex-direction: column;z-index: 1;position: relative;background-color: white;}#sk-container-id-1 div.sk-parallel-item:first-child::after {align-self: flex-end;width: 50%;}#sk-container-id-1 div.sk-parallel-item:last-child::after {align-self: flex-start;width: 50%;}#sk-container-id-1 div.sk-parallel-item:only-child::after {width: 0;}#sk-container-id-1 div.sk-dashed-wrapped {border: 1px dashed gray;margin: 0 0.4em 0.5em 0.4em;box-sizing: border-box;padding-bottom: 0.4em;background-color: white;}#sk-container-id-1 div.sk-label label {font-family: monospace;font-weight: bold;display: inline-block;line-height: 1.2em;}#sk-container-id-1 div.sk-label-container {text-align: center;}#sk-container-id-1 div.sk-container {/* jupyter's `normalize.less` sets `[hidden] { display: none; }` but bootstrap.min.css set `[hidden] { display: none !important; }` so we also need the `!important` here to be able to override the default hidden behavior on the sphinx rendered scikit-learn.org. See: https://github.com/scikit-learn/scikit-learn/issues/21755 */display: inline-block !important;position: relative;}#sk-container-id-1 div.sk-text-repr-fallback {display: none;}</style><div id=\"sk-container-id-1\" class=\"sk-top-container\"><div class=\"sk-text-repr-fallback\"><pre>KMeans(n_clusters=2, n_init=&#x27;auto&#x27;, random_state=42)</pre><b>In a Jupyter environment, please rerun this cell to show the HTML representation or trust the notebook. <br />On GitHub, the HTML representation is unable to render, please try loading this page with nbviewer.org.</b></div><div class=\"sk-container\" hidden><div class=\"sk-item\"><div class=\"sk-estimator sk-toggleable\"><input class=\"sk-toggleable__control sk-hidden--visually\" id=\"sk-estimator-id-1\" type=\"checkbox\" checked><label for=\"sk-estimator-id-1\" class=\"sk-toggleable__label sk-toggleable__label-arrow\">KMeans</label><div class=\"sk-toggleable__content\"><pre>KMeans(n_clusters=2, n_init=&#x27;auto&#x27;, random_state=42)</pre></div></div></div></div></div>"
            ]
          },
          "metadata": {},
          "execution_count": 10
        }
      ]
    },
    {
      "cell_type": "code",
      "source": [
        "# Predict and save train values\n",
        "pred_y = get_predicted_values(model, train_x)\n",
        "save_result(train_y, pred_y, 'kmeans.train.csv.gz')"
      ],
      "metadata": {
        "id": "X0mNkcZMcVa5"
      },
      "execution_count": 11,
      "outputs": []
    },
    {
      "cell_type": "code",
      "source": [
        "# Predict and save validation values\n",
        "pred_y = get_predicted_values(model, val_x)\n",
        "save_result(val_y, pred_y, 'kmeans.val.csv.gz')"
      ],
      "metadata": {
        "id": "rbj01H3UcXvy"
      },
      "execution_count": 12,
      "outputs": []
    },
    {
      "cell_type": "code",
      "source": [
        "# Predict, show and save test values\n",
        "pred_y = get_predicted_values(model, test_x)\n",
        "show_result(test_y, pred_y)\n",
        "save_result(test_y, pred_y, 'kmeans.test.csv.gz')"
      ],
      "metadata": {
        "colab": {
          "base_uri": "https://localhost:8080/"
        },
        "id": "1KzfChgicZgi",
        "outputId": "716259cb-714f-4699-99fc-d9df000c880d"
      },
      "execution_count": 13,
      "outputs": [
        {
          "output_type": "stream",
          "name": "stdout",
          "text": [
            "********************* RESULT TEST **********************\n",
            "* Confusion Matrix (Top: Predicted - Left: Real)\n",
            "[[153  96]\n",
            " [107 173]]\n",
            "* Classification Report\n",
            "              precision    recall  f1-score   support\n",
            "\n",
            "           0       0.59      0.61      0.60       249\n",
            "           1       0.64      0.62      0.63       280\n",
            "\n",
            "    accuracy                           0.62       529\n",
            "   macro avg       0.62      0.62      0.62       529\n",
            "weighted avg       0.62      0.62      0.62       529\n",
            "\n"
          ]
        }
      ]
    }
  ]
}