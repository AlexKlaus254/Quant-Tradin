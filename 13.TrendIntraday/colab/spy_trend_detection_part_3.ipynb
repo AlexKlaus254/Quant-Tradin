{
  "nbformat": 4,
  "nbformat_minor": 0,
  "metadata": {
    "colab": {
      "provenance": []
    },
    "kernelspec": {
      "name": "python3",
      "display_name": "Python 3"
    },
    "language_info": {
      "name": "python"
    }
  },
  "cells": [
    {
      "cell_type": "markdown",
      "source": [
        "Copy the file **spy.2008.2021.csv.gz** and **spy.csv.gz** located in https://github.com/crapher/medium/tree/main/13.TrendIntraday\\data to your colab folder"
      ],
      "metadata": {
        "id": "_XQkxgIHPS8z"
      }
    },
    {
      "cell_type": "code",
      "execution_count": 1,
      "metadata": {
        "id": "-LjpN-v8Btt7"
      },
      "outputs": [],
      "source": [
        "import os\n",
        "import math\n",
        "import numpy as np\n",
        "import pandas as pd\n",
        "\n",
        "import warnings\n",
        "warnings.filterwarnings('ignore')\n",
        "\n",
        "from keras.models import Sequential\n",
        "from keras.layers import Dense\n",
        "from keras.callbacks import EarlyStopping\n",
        "from keras.utils import set_random_seed\n",
        "from sklearn.metrics import confusion_matrix, classification_report"
      ]
    },
    {
      "cell_type": "code",
      "source": [
        "# Constants\n",
        "BARS=15\n",
        "RESULT_DIR='./result'\n",
        "DATE_SPLIT='2019-06-01'"
      ],
      "metadata": {
        "id": "ov9plUUMnEso"
      },
      "execution_count": 2,
      "outputs": []
    },
    {
      "cell_type": "code",
      "source": [
        "# Get the data and generate the train, validation, and test datasets\n",
        "def get_datasets():\n",
        "\n",
        "    train_val = pd.read_csv('./spy.2008.2021.csv.gz', compression='gzip')\n",
        "    train_val = train_val[['date','open','close']]\n",
        "    train_val['date'] = pd.to_datetime(train_val['date'])\n",
        "\n",
        "    test = pd.read_csv('./spy.csv.gz', compression='gzip')\n",
        "    test = test[['date','open','close']]\n",
        "    test['date'] = pd.to_datetime(test['date'])\n",
        "\n",
        "    train = train_val[train_val['date'] <= DATE_SPLIT]\n",
        "    validation = train_val[(train_val['date'] > DATE_SPLIT) & (train_val['date'] < test['date'].min())]\n",
        "\n",
        "    return train, validation, test"
      ],
      "metadata": {
        "id": "VjwWa8rtcop6"
      },
      "execution_count": 3,
      "outputs": []
    },
    {
      "cell_type": "code",
      "source": [
        "# Process Dataframe and return features and targets\n",
        "def get_features_targets(df, scale_obs=True):\n",
        "\n",
        "    feature_result = []\n",
        "    dates = []\n",
        "\n",
        "    # Remove duplicated dates\n",
        "    df = df.groupby(by='date').mean().reset_index()\n",
        "\n",
        "    # Get Features based on BARS configuration\n",
        "    features = df[((df['date'].dt.hour == 9) & (df['date'].dt.minute >= 30)) &\n",
        "                   (df['date'].dt.hour == 9) & (df['date'].dt.minute < 30 + BARS)]\n",
        "    features = features.groupby(features['date'].dt.date)\n",
        "\n",
        "    for dt, feature in features:\n",
        "\n",
        "        if len(feature) != BARS:\n",
        "            feature = feature.set_index('date')\n",
        "            feature = feature.resample('1T').asfreq().reindex(pd.date_range(str(dt) + ' 09:30:00', str(dt) + f' 09:{30+BARS-1}:00', freq='1T'))\n",
        "            feature = feature.reset_index()\n",
        "            feature['close'] = feature['close'].fillna(method='ffill')\n",
        "            feature['open'] = feature['open'].fillna(feature['close'])\n",
        "            feature = feature.dropna()\n",
        "\n",
        "        if len(feature) == BARS:\n",
        "            feature = feature['close'].values\n",
        "\n",
        "            if scale_obs:\n",
        "                feature -= np.min(feature)\n",
        "                feature /= np.max(np.abs(feature))\n",
        "                feature = np.nan_to_num(feature, nan=0.0, posinf=0.0, neginf=0.0)\n",
        "\n",
        "            feature_result.append(feature)\n",
        "            dates.append(dt)\n",
        "\n",
        "    # Get Targets Trend based on first and last value / day (0: DOWN - 1: UP)\n",
        "    targets = df.set_index('date')\n",
        "    targets = targets.resample('1D').agg({'open':'first', 'close':'last'})\n",
        "    targets = targets.loc[dates].reset_index().sort_values(by='date')\n",
        "    targets['trend'] = np.where(targets['open'] < targets['close'], 1, 0)\n",
        "\n",
        "    print(len(feature_result), len(targets))\n",
        "    return np.array(feature_result), np.array(targets['trend'].values)"
      ],
      "metadata": {
        "id": "36mzjkH6B-7a"
      },
      "execution_count": 4,
      "outputs": []
    },
    {
      "cell_type": "code",
      "source": [
        "# Show the result of the operation\n",
        "def show_result(target, pred, ds_type='TEST'):\n",
        "\n",
        "    target = np.array(target)\n",
        "    pred = np.array(pred)\n",
        "\n",
        "    print(f' RESULT {ds_type.upper()} '.center(56, '*'))\n",
        "\n",
        "    print('* Confusion Matrix (Top: Predicted - Left: Real)')\n",
        "    print(confusion_matrix(y_true=target, y_pred=pred))\n",
        "\n",
        "    print('* Classification Report')\n",
        "    print(classification_report(target, pred))"
      ],
      "metadata": {
        "id": "Eck0aed5QLR4"
      },
      "execution_count": 5,
      "outputs": []
    },
    {
      "cell_type": "code",
      "source": [
        "# Save the results\n",
        "def save_result(target, pred, name):\n",
        "\n",
        "    os.makedirs(RESULT_DIR, exist_ok=True)\n",
        "    df = pd.DataFrame.from_dict({'pred': pred, 'target': target})\n",
        "    df.to_csv(f'{RESULT_DIR}/{name}', index=False)"
      ],
      "metadata": {
        "id": "NpX4bi5qnTM4"
      },
      "execution_count": 6,
      "outputs": []
    },
    {
      "cell_type": "code",
      "source": [
        "# Return the predicted values\n",
        "def get_predicted_values(model, features):\n",
        "\n",
        "    pred_y = model.predict(features)\n",
        "    pred_y = pred_y.flatten()\n",
        "    pred_y = np.where(pred_y > 0.5, 1, 0)\n",
        "    return pred_y"
      ],
      "metadata": {
        "id": "vzPXDAynnTKZ"
      },
      "execution_count": 7,
      "outputs": []
    },
    {
      "cell_type": "code",
      "source": [
        "# Get the datasets to be used in the tests\n",
        "train, validation, test = get_datasets()"
      ],
      "metadata": {
        "id": "5_9jY3TtnTH-"
      },
      "execution_count": 8,
      "outputs": []
    },
    {
      "cell_type": "code",
      "source": [
        "# Get Features and Targets\n",
        "train_x, train_y = get_features_targets(train)\n",
        "val_x, val_y = get_features_targets(validation)\n",
        "test_x, test_y = get_features_targets(test)"
      ],
      "metadata": {
        "colab": {
          "base_uri": "https://localhost:8080/"
        },
        "id": "mSE7UGfkcU6N",
        "outputId": "4b428ba6-26a8-4b9f-9205-60845fc92357"
      },
      "execution_count": 9,
      "outputs": [
        {
          "output_type": "stream",
          "name": "stdout",
          "text": [
            "2858 2858\n",
            "487 487\n",
            "529 529\n"
          ]
        }
      ]
    },
    {
      "cell_type": "code",
      "source": [
        "# Train Model\n",
        "set_random_seed(42)                         # Allow reproducibility\n",
        "early_stopping = EarlyStopping(patience=2)  # Stop if the model does not improve\n",
        "\n",
        "model = Sequential()\n",
        "model.add(Dense(16, input_dim=15, activation='relu'))\n",
        "model.add(Dense(1, activation='sigmoid'))\n",
        "\n",
        "model.compile(optimizer='adam', loss='binary_crossentropy', metrics=['accuracy'])\n",
        "model.fit(train_x, train_y, epochs=100, batch_size=32, validation_data=(val_x, val_y), callbacks=[early_stopping])"
      ],
      "metadata": {
        "colab": {
          "base_uri": "https://localhost:8080/"
        },
        "id": "tOPs6-6nFAu0",
        "outputId": "de2b2ff1-3371-46d1-a10b-9792715384b3"
      },
      "execution_count": 10,
      "outputs": [
        {
          "output_type": "stream",
          "name": "stdout",
          "text": [
            "Epoch 1/100\n",
            "90/90 [==============================] - 1s 5ms/step - loss: 0.6832 - accuracy: 0.5675 - val_loss: 0.6743 - val_accuracy: 0.5852\n",
            "Epoch 2/100\n",
            "90/90 [==============================] - 0s 2ms/step - loss: 0.6646 - accuracy: 0.6043 - val_loss: 0.6727 - val_accuracy: 0.5975\n",
            "Epoch 3/100\n",
            "90/90 [==============================] - 0s 3ms/step - loss: 0.6599 - accuracy: 0.6057 - val_loss: 0.6699 - val_accuracy: 0.6057\n",
            "Epoch 4/100\n",
            "90/90 [==============================] - 0s 2ms/step - loss: 0.6582 - accuracy: 0.6123 - val_loss: 0.6682 - val_accuracy: 0.5955\n",
            "Epoch 5/100\n",
            "90/90 [==============================] - 0s 3ms/step - loss: 0.6569 - accuracy: 0.6106 - val_loss: 0.6666 - val_accuracy: 0.6078\n",
            "Epoch 6/100\n",
            "90/90 [==============================] - 0s 2ms/step - loss: 0.6557 - accuracy: 0.6148 - val_loss: 0.6657 - val_accuracy: 0.6037\n",
            "Epoch 7/100\n",
            "90/90 [==============================] - 0s 2ms/step - loss: 0.6547 - accuracy: 0.6137 - val_loss: 0.6653 - val_accuracy: 0.5996\n",
            "Epoch 8/100\n",
            "90/90 [==============================] - 0s 2ms/step - loss: 0.6544 - accuracy: 0.6127 - val_loss: 0.6641 - val_accuracy: 0.6119\n",
            "Epoch 9/100\n",
            "90/90 [==============================] - 0s 2ms/step - loss: 0.6536 - accuracy: 0.6130 - val_loss: 0.6636 - val_accuracy: 0.6099\n",
            "Epoch 10/100\n",
            "90/90 [==============================] - 0s 2ms/step - loss: 0.6538 - accuracy: 0.6183 - val_loss: 0.6642 - val_accuracy: 0.5955\n",
            "Epoch 11/100\n",
            "90/90 [==============================] - 0s 3ms/step - loss: 0.6538 - accuracy: 0.6148 - val_loss: 0.6634 - val_accuracy: 0.6016\n",
            "Epoch 12/100\n",
            "90/90 [==============================] - 0s 3ms/step - loss: 0.6532 - accuracy: 0.6127 - val_loss: 0.6620 - val_accuracy: 0.6016\n",
            "Epoch 13/100\n",
            "90/90 [==============================] - 0s 4ms/step - loss: 0.6530 - accuracy: 0.6165 - val_loss: 0.6633 - val_accuracy: 0.5975\n",
            "Epoch 14/100\n",
            "90/90 [==============================] - 0s 3ms/step - loss: 0.6518 - accuracy: 0.6151 - val_loss: 0.6630 - val_accuracy: 0.6057\n"
          ]
        },
        {
          "output_type": "execute_result",
          "data": {
            "text/plain": [
              "<keras.callbacks.History at 0x78f76beebfd0>"
            ]
          },
          "metadata": {},
          "execution_count": 10
        }
      ]
    },
    {
      "cell_type": "code",
      "source": [
        "# Predict and save train values\n",
        "pred_y = get_predicted_values(model, train_x)\n",
        "save_result(train_y, pred_y, 'nn.train.csv.gz')"
      ],
      "metadata": {
        "id": "X0mNkcZMcVa5",
        "colab": {
          "base_uri": "https://localhost:8080/"
        },
        "outputId": "cc300989-29ce-412a-d64b-cf2b8db874ab"
      },
      "execution_count": 11,
      "outputs": [
        {
          "output_type": "stream",
          "name": "stdout",
          "text": [
            "90/90 [==============================] - 0s 1ms/step\n"
          ]
        }
      ]
    },
    {
      "cell_type": "code",
      "source": [
        "# Predict and save validation values\n",
        "pred_y = get_predicted_values(model, val_x)\n",
        "save_result(val_y, pred_y, 'nn.val.csv.gz')"
      ],
      "metadata": {
        "id": "rbj01H3UcXvy",
        "colab": {
          "base_uri": "https://localhost:8080/"
        },
        "outputId": "f795d7c0-96a8-4cd5-93ac-cf8fc99a3aae"
      },
      "execution_count": 12,
      "outputs": [
        {
          "output_type": "stream",
          "name": "stdout",
          "text": [
            "16/16 [==============================] - 0s 1ms/step\n"
          ]
        }
      ]
    },
    {
      "cell_type": "code",
      "source": [
        "# Predict, show and save test values\n",
        "pred_y = get_predicted_values(model, test_x)\n",
        "show_result(test_y, pred_y)\n",
        "save_result(test_y, pred_y, 'nn.test.csv.gz')"
      ],
      "metadata": {
        "colab": {
          "base_uri": "https://localhost:8080/"
        },
        "id": "1KzfChgicZgi",
        "outputId": "68f853ac-f977-465f-ed01-c691b8014632"
      },
      "execution_count": 13,
      "outputs": [
        {
          "output_type": "stream",
          "name": "stdout",
          "text": [
            "17/17 [==============================] - 0s 1ms/step\n",
            "********************* RESULT TEST **********************\n",
            "* Confusion Matrix (Top: Predicted - Left: Real)\n",
            "[[130 119]\n",
            " [ 81 199]]\n",
            "* Classification Report\n",
            "              precision    recall  f1-score   support\n",
            "\n",
            "           0       0.62      0.52      0.57       249\n",
            "           1       0.63      0.71      0.67       280\n",
            "\n",
            "    accuracy                           0.62       529\n",
            "   macro avg       0.62      0.62      0.62       529\n",
            "weighted avg       0.62      0.62      0.62       529\n",
            "\n"
          ]
        }
      ]
    },
    {
      "cell_type": "code",
      "source": [],
      "metadata": {
        "id": "PTq_RJshJY5r"
      },
      "execution_count": 13,
      "outputs": []
    }
  ]
}