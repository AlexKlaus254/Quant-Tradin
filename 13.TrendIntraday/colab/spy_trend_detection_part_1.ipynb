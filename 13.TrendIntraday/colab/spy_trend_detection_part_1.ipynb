{
  "nbformat": 4,
  "nbformat_minor": 0,
  "metadata": {
    "colab": {
      "provenance": []
    },
    "kernelspec": {
      "name": "python3",
      "display_name": "Python 3"
    },
    "language_info": {
      "name": "python"
    }
  },
  "cells": [
    {
      "cell_type": "markdown",
      "source": [
        "Copy the file **spy.2008.2021.csv.gz** and **spy.csv.gz** located in https://github.com/crapher/medium/tree/main/13.TrendIntraday\\data to your colab folder"
      ],
      "metadata": {
        "id": "_XQkxgIHPS8z"
      }
    },
    {
      "cell_type": "code",
      "execution_count": 1,
      "metadata": {
        "id": "-LjpN-v8Btt7"
      },
      "outputs": [],
      "source": [
        "import os\n",
        "import math\n",
        "import numpy as np\n",
        "import pandas as pd\n",
        "\n",
        "import warnings\n",
        "warnings.filterwarnings('ignore')\n",
        "\n",
        "from sklearn.metrics import confusion_matrix, classification_report"
      ]
    },
    {
      "cell_type": "code",
      "source": [
        "# Constants\n",
        "BARS=15\n",
        "RESULT_DIR='./result'\n",
        "DATE_SPLIT='2019-06-01'"
      ],
      "metadata": {
        "id": "ov9plUUMnEso"
      },
      "execution_count": 2,
      "outputs": []
    },
    {
      "cell_type": "code",
      "source": [
        "# Get the data and generate the train, validation, and test datasets\n",
        "def get_datasets():\n",
        "\n",
        "    train_val = pd.read_csv('./spy.2008.2021.csv.gz', compression='gzip')\n",
        "    train_val = train_val[['date','open','close']]\n",
        "    train_val['date'] = pd.to_datetime(train_val['date'])\n",
        "\n",
        "    test = pd.read_csv('./spy.csv.gz', compression='gzip')\n",
        "    test = test[['date','open','close']]\n",
        "    test['date'] = pd.to_datetime(test['date'])\n",
        "\n",
        "    train = train_val[train_val['date'] <= DATE_SPLIT]\n",
        "    validation = train_val[(train_val['date'] > DATE_SPLIT) & (train_val['date'] < test['date'].min())]\n",
        "\n",
        "    return train, validation, test"
      ],
      "metadata": {
        "id": "VjwWa8rtcop6"
      },
      "execution_count": 3,
      "outputs": []
    },
    {
      "cell_type": "code",
      "source": [
        "# Process Dataframe and return features and targets\n",
        "def get_features_targets(df, scale_obs=True):\n",
        "\n",
        "    feature_result = []\n",
        "    dates = []\n",
        "\n",
        "    # Remove duplicated dates\n",
        "    df = df.groupby(by='date').mean().reset_index()\n",
        "\n",
        "    # Get Features based on BARS configuration\n",
        "    features = df[((df['date'].dt.hour == 9) & (df['date'].dt.minute >= 30)) &\n",
        "                   (df['date'].dt.hour == 9) & (df['date'].dt.minute < 30 + BARS)]\n",
        "    features = features.groupby(features['date'].dt.date)\n",
        "\n",
        "    for dt, feature in features:\n",
        "\n",
        "        if len(feature) != BARS:\n",
        "            feature = feature.set_index('date')\n",
        "            feature = feature.resample('1T').asfreq().reindex(pd.date_range(str(dt) + ' 09:30:00', str(dt) + f' 09:{30+BARS-1}:00', freq='1T'))\n",
        "            feature = feature.reset_index()\n",
        "            feature['close'] = feature['close'].fillna(method='ffill')\n",
        "            feature['open'] = feature['open'].fillna(feature['close'])\n",
        "            feature = feature.dropna()\n",
        "\n",
        "        if len(feature) == BARS:\n",
        "            feature = feature['close'].values\n",
        "\n",
        "            if scale_obs:\n",
        "                feature -= np.min(feature)\n",
        "                feature /= np.max(np.abs(feature))\n",
        "                feature = np.nan_to_num(feature, nan=0.0, posinf=0.0, neginf=0.0)\n",
        "\n",
        "            feature_result.append(feature)\n",
        "            dates.append(dt)\n",
        "\n",
        "    # Get Targets Trend based on first and last value / day (0: DOWN - 1: UP)\n",
        "    targets = df.set_index('date')\n",
        "    targets = targets.resample('1D').agg({'open':'first', 'close':'last'})\n",
        "    targets = targets.loc[dates].reset_index().sort_values(by='date')\n",
        "    targets['trend'] = np.where(targets['open'] < targets['close'], 1, 0)\n",
        "\n",
        "    print(len(feature_result), len(targets))\n",
        "    return np.array(feature_result), np.array(targets['trend'].values)"
      ],
      "metadata": {
        "id": "36mzjkH6B-7a"
      },
      "execution_count": 4,
      "outputs": []
    },
    {
      "cell_type": "code",
      "source": [
        "# Show the result of the operation\n",
        "def show_result(target, pred, ds_type='TEST'):\n",
        "\n",
        "    target = np.array(target)\n",
        "    pred = np.array(pred)\n",
        "\n",
        "    print(f' RESULT {ds_type.upper()} '.center(56, '*'))\n",
        "\n",
        "    print('* Confusion Matrix (Top: Predicted - Left: Real)')\n",
        "    print(confusion_matrix(y_true=target, y_pred=pred))\n",
        "\n",
        "    print('* Classification Report')\n",
        "    print(classification_report(target, pred))"
      ],
      "metadata": {
        "id": "Eck0aed5QLR4"
      },
      "execution_count": 5,
      "outputs": []
    },
    {
      "cell_type": "code",
      "source": [
        "# Save the results\n",
        "def save_result(target, pred, name):\n",
        "\n",
        "    os.makedirs(RESULT_DIR, exist_ok=True)\n",
        "    df = pd.DataFrame.from_dict({'pred': pred, 'target': target})\n",
        "    df.to_csv(f'{RESULT_DIR}/{name}', index=False)"
      ],
      "metadata": {
        "id": "NpX4bi5qnTM4"
      },
      "execution_count": 6,
      "outputs": []
    },
    {
      "cell_type": "code",
      "source": [
        "# Return the predicted values\n",
        "def get_predicted_values(features):\n",
        "\n",
        "    pred_y = []\n",
        "\n",
        "    for feature in features:\n",
        "        trend = np.where(feature[0] < feature[-1], 1, 0)\n",
        "        pred_y.append(trend)\n",
        "\n",
        "    return pred_y"
      ],
      "metadata": {
        "id": "vzPXDAynnTKZ"
      },
      "execution_count": 7,
      "outputs": []
    },
    {
      "cell_type": "code",
      "source": [
        "# Get the datasets to be used in the tests\n",
        "train, validation, test = get_datasets()"
      ],
      "metadata": {
        "id": "5_9jY3TtnTH-"
      },
      "execution_count": 8,
      "outputs": []
    },
    {
      "cell_type": "code",
      "source": [
        "# Get Features and Targets\n",
        "train_x, train_y = get_features_targets(train, False)\n",
        "val_x, val_y = get_features_targets(validation, False)\n",
        "test_x, test_y = get_features_targets(test, False)"
      ],
      "metadata": {
        "colab": {
          "base_uri": "https://localhost:8080/"
        },
        "id": "mSE7UGfkcU6N",
        "outputId": "03d6692d-6844-4ffa-e9b5-307bc217e543"
      },
      "execution_count": 9,
      "outputs": [
        {
          "output_type": "stream",
          "name": "stdout",
          "text": [
            "2858 2858\n",
            "487 487\n",
            "529 529\n"
          ]
        }
      ]
    },
    {
      "cell_type": "code",
      "source": [
        "# Predict and save train values\n",
        "pred_y = get_predicted_values(train_x)\n",
        "save_result(train_y, pred_y, 'stock.train.csv.gz')"
      ],
      "metadata": {
        "id": "X0mNkcZMcVa5"
      },
      "execution_count": 10,
      "outputs": []
    },
    {
      "cell_type": "code",
      "source": [
        "# Predict and save validation values\n",
        "pred_y = get_predicted_values(val_x)\n",
        "save_result(val_y, pred_y, 'stock.val.csv.gz')"
      ],
      "metadata": {
        "id": "rbj01H3UcXvy"
      },
      "execution_count": 11,
      "outputs": []
    },
    {
      "cell_type": "code",
      "source": [
        "# Predict, show, and save test values\n",
        "pred_y = get_predicted_values(test_x)\n",
        "show_result(test_y, pred_y)\n",
        "save_result(test_y, pred_y, 'stock.test.csv.gz')"
      ],
      "metadata": {
        "colab": {
          "base_uri": "https://localhost:8080/"
        },
        "id": "1KzfChgicZgi",
        "outputId": "98703e54-7597-4567-815d-a7956b430bf3"
      },
      "execution_count": 12,
      "outputs": [
        {
          "output_type": "stream",
          "name": "stdout",
          "text": [
            "********************* RESULT TEST **********************\n",
            "* Confusion Matrix (Top: Predicted - Left: Real)\n",
            "[[149 100]\n",
            " [118 162]]\n",
            "* Classification Report\n",
            "              precision    recall  f1-score   support\n",
            "\n",
            "           0       0.56      0.60      0.58       249\n",
            "           1       0.62      0.58      0.60       280\n",
            "\n",
            "    accuracy                           0.59       529\n",
            "   macro avg       0.59      0.59      0.59       529\n",
            "weighted avg       0.59      0.59      0.59       529\n",
            "\n"
          ]
        }
      ]
    }
  ]
}