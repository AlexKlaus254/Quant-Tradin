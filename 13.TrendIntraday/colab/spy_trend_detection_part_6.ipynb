{
  "nbformat": 4,
  "nbformat_minor": 0,
  "metadata": {
    "colab": {
      "provenance": []
    },
    "kernelspec": {
      "name": "python3",
      "display_name": "Python 3"
    },
    "language_info": {
      "name": "python"
    }
  },
  "cells": [
    {
      "cell_type": "markdown",
      "source": [
        "Copy the file **spy.2008.2021.csv.gz** and **spy.csv.gz** located in https://github.com/crapher/medium/tree/main/13.TrendIntraday\\data to your colab folder"
      ],
      "metadata": {
        "id": "_XQkxgIHPS8z"
      }
    },
    {
      "cell_type": "code",
      "execution_count": 1,
      "metadata": {
        "id": "-LjpN-v8Btt7"
      },
      "outputs": [],
      "source": [
        "import os\n",
        "import math\n",
        "import numpy as np\n",
        "import pandas as pd\n",
        "import xgboost as xgb\n",
        "\n",
        "import warnings\n",
        "warnings.filterwarnings('ignore')\n",
        "\n",
        "from sklearn.metrics import confusion_matrix, classification_report\n",
        "from sklearn.model_selection import RandomizedSearchCV"
      ]
    },
    {
      "cell_type": "code",
      "source": [
        "# Constants\n",
        "BARS=15\n",
        "RESULT_DIR='./result'\n",
        "DATE_SPLIT='2019-06-01'"
      ],
      "metadata": {
        "id": "ov9plUUMnEso"
      },
      "execution_count": 2,
      "outputs": []
    },
    {
      "cell_type": "code",
      "source": [
        "# Get the data and generate the train, validation, and test datasets\n",
        "def get_datasets():\n",
        "\n",
        "    train_val = pd.read_csv('./spy.2008.2021.csv.gz', compression='gzip')\n",
        "    train_val = train_val[['date','open','close']]\n",
        "    train_val['date'] = pd.to_datetime(train_val['date'])\n",
        "\n",
        "    test = pd.read_csv('./spy.csv.gz', compression='gzip')\n",
        "    test = test[['date','open','close']]\n",
        "    test['date'] = pd.to_datetime(test['date'])\n",
        "\n",
        "    train = train_val[train_val['date'] <= DATE_SPLIT]\n",
        "    validation = train_val[(train_val['date'] > DATE_SPLIT) & (train_val['date'] < test['date'].min())]\n",
        "\n",
        "    return train, validation, test"
      ],
      "metadata": {
        "id": "VjwWa8rtcop6"
      },
      "execution_count": 3,
      "outputs": []
    },
    {
      "cell_type": "code",
      "source": [
        "# Process Dataframe and return features and targets\n",
        "def get_features_targets(df, scale_obs=True):\n",
        "\n",
        "    feature_result = []\n",
        "    dates = []\n",
        "\n",
        "    # Remove duplicated dates\n",
        "    df = df.groupby(by='date').mean().reset_index()\n",
        "\n",
        "    # Get Features based on BARS configuration\n",
        "    features = df[((df['date'].dt.hour == 9) & (df['date'].dt.minute >= 30)) &\n",
        "                   (df['date'].dt.hour == 9) & (df['date'].dt.minute < 30 + BARS)]\n",
        "    features = features.groupby(features['date'].dt.date)\n",
        "\n",
        "    for dt, feature in features:\n",
        "\n",
        "        if len(feature) != BARS:\n",
        "            feature = feature.set_index('date')\n",
        "            feature = feature.resample('1T').asfreq().reindex(pd.date_range(str(dt) + ' 09:30:00', str(dt) + f' 09:{30+BARS-1}:00', freq='1T'))\n",
        "            feature = feature.reset_index()\n",
        "            feature['close'] = feature['close'].fillna(method='ffill')\n",
        "            feature['open'] = feature['open'].fillna(feature['close'])\n",
        "            feature = feature.dropna()\n",
        "\n",
        "        if len(feature) == BARS:\n",
        "            feature = feature['close'].values\n",
        "\n",
        "            if scale_obs:\n",
        "                feature -= np.min(feature)\n",
        "                feature /= np.max(np.abs(feature))\n",
        "                feature = np.nan_to_num(feature, nan=0.0, posinf=0.0, neginf=0.0)\n",
        "\n",
        "            feature_result.append(feature)\n",
        "            dates.append(dt)\n",
        "\n",
        "    # Get Targets Trend based on first and last value / day (0: DOWN - 1: UP)\n",
        "    targets = df.set_index('date')\n",
        "    targets = targets.resample('1D').agg({'open':'first', 'close':'last'})\n",
        "    targets = targets.loc[dates].reset_index().sort_values(by='date')\n",
        "    targets['trend'] = np.where(targets['open'] < targets['close'], 1, 0)\n",
        "\n",
        "    print(len(feature_result), len(targets))\n",
        "    return np.array(feature_result), np.array(targets['trend'].values)"
      ],
      "metadata": {
        "id": "36mzjkH6B-7a"
      },
      "execution_count": 4,
      "outputs": []
    },
    {
      "cell_type": "code",
      "source": [
        "# Show the result of the operation\n",
        "def show_result(target, pred, ds_type='TEST'):\n",
        "\n",
        "    target = np.array(target)\n",
        "    pred = np.array(pred)\n",
        "\n",
        "    print(f' RESULT {ds_type.upper()} '.center(56, '*'))\n",
        "\n",
        "    print('* Confusion Matrix (Top: Predicted - Left: Real)')\n",
        "    print(confusion_matrix(y_true=target, y_pred=pred))\n",
        "\n",
        "    print('* Classification Report')\n",
        "    print(classification_report(target, pred))"
      ],
      "metadata": {
        "id": "Eck0aed5QLR4"
      },
      "execution_count": 5,
      "outputs": []
    },
    {
      "cell_type": "code",
      "source": [
        "# Save the results\n",
        "def save_result(target, pred, name):\n",
        "\n",
        "    os.makedirs(RESULT_DIR, exist_ok=True)\n",
        "    df = pd.DataFrame.from_dict({'pred': pred, 'target': target})\n",
        "    df.to_csv(f'{RESULT_DIR}/{name}', index=False)"
      ],
      "metadata": {
        "id": "NpX4bi5qnTM4"
      },
      "execution_count": 6,
      "outputs": []
    },
    {
      "cell_type": "code",
      "source": [
        "# Return the predicted values\n",
        "def get_predicted_values(model, features):\n",
        "\n",
        "    pred_y = model.predict(features)\n",
        "    return pred_y"
      ],
      "metadata": {
        "id": "vzPXDAynnTKZ"
      },
      "execution_count": 7,
      "outputs": []
    },
    {
      "cell_type": "code",
      "source": [
        "# Get the datasets to be used in the tests\n",
        "train, validation, test = get_datasets()"
      ],
      "metadata": {
        "id": "5_9jY3TtnTH-"
      },
      "execution_count": 8,
      "outputs": []
    },
    {
      "cell_type": "code",
      "source": [
        "# Get Features and Targets\n",
        "train_x, train_y = get_features_targets(train)\n",
        "val_x, val_y = get_features_targets(validation)\n",
        "test_x, test_y = get_features_targets(test)"
      ],
      "metadata": {
        "colab": {
          "base_uri": "https://localhost:8080/"
        },
        "id": "mSE7UGfkcU6N",
        "outputId": "610de0c4-25a5-4693-fe96-eac8a9f0a346"
      },
      "execution_count": 9,
      "outputs": [
        {
          "output_type": "stream",
          "name": "stdout",
          "text": [
            "2858 2858\n",
            "487 487\n",
            "529 529\n"
          ]
        }
      ]
    },
    {
      "cell_type": "code",
      "source": [
        "# Find the best parameters\n",
        "model = xgb.XGBClassifier(\n",
        "    n_estimators=10000,\n",
        "    seed=42,\n",
        "    early_stopping_rounds=10)\n",
        "\n",
        "params = {\n",
        "        'min_child_weight': [50, 100, 300, 500],\n",
        "        'subsample': [0.6, 0.8, 1.0],\n",
        "        'colsample_bytree': [0.6, 0.8, 1.0],\n",
        "        'max_depth': [4, 5, 6, 7, 8],\n",
        "        'eta': [0.01, 0.05, 0.1]}\n",
        "\n",
        "grid = RandomizedSearchCV(\n",
        "    model,\n",
        "    param_distributions=params,\n",
        "    n_iter=30,\n",
        "    scoring='roc_auc',\n",
        "    n_jobs=4,\n",
        "    random_state=42)\n",
        "\n",
        "grid.fit(\n",
        "    train_x,\n",
        "    train_y,\n",
        "    eval_set=[(train_x, train_y), (val_x, val_y)],\n",
        "    verbose=False)\n",
        "\n",
        "print(grid.best_params_)"
      ],
      "metadata": {
        "colab": {
          "base_uri": "https://localhost:8080/"
        },
        "id": "jUjo6qMsE9yk",
        "outputId": "dff22840-515f-4689-d3a2-dbd05c8d7e6a"
      },
      "execution_count": 10,
      "outputs": [
        {
          "output_type": "stream",
          "name": "stdout",
          "text": [
            "{'subsample': 0.8, 'min_child_weight': 50, 'max_depth': 5, 'eta': 0.01, 'colsample_bytree': 1.0}\n"
          ]
        }
      ]
    },
    {
      "cell_type": "code",
      "source": [
        "# Train Model\n",
        "model = xgb.XGBClassifier(\n",
        "    max_depth=grid.best_params_['max_depth'],\n",
        "    n_estimators=10000,\n",
        "    min_child_weight=grid.best_params_['min_child_weight'],\n",
        "    colsample_bytree=grid.best_params_['colsample_bytree'],\n",
        "    subsample=grid.best_params_['subsample'],\n",
        "    eta=grid.best_params_['eta'],\n",
        "    seed=42,\n",
        "    early_stopping_rounds=10)\n",
        "\n",
        "model.fit(\n",
        "    train_x,\n",
        "    train_y,\n",
        "    eval_set=[(train_x, train_y), (val_x, val_y)],\n",
        "    verbose=True)"
      ],
      "metadata": {
        "colab": {
          "base_uri": "https://localhost:8080/",
          "height": 1000
        },
        "id": "tOPs6-6nFAu0",
        "outputId": "337459eb-9c9e-4ca9-ad09-fc4f4e3a76d3"
      },
      "execution_count": 11,
      "outputs": [
        {
          "output_type": "stream",
          "name": "stdout",
          "text": [
            "[0]\tvalidation_0-logloss:0.69226\tvalidation_1-logloss:0.69251\n",
            "[1]\tvalidation_0-logloss:0.69137\tvalidation_1-logloss:0.69182\n",
            "[2]\tvalidation_0-logloss:0.69049\tvalidation_1-logloss:0.69111\n",
            "[3]\tvalidation_0-logloss:0.68960\tvalidation_1-logloss:0.69045\n",
            "[4]\tvalidation_0-logloss:0.68876\tvalidation_1-logloss:0.68984\n",
            "[5]\tvalidation_0-logloss:0.68790\tvalidation_1-logloss:0.68914\n",
            "[6]\tvalidation_0-logloss:0.68710\tvalidation_1-logloss:0.68843\n",
            "[7]\tvalidation_0-logloss:0.68630\tvalidation_1-logloss:0.68789\n",
            "[8]\tvalidation_0-logloss:0.68547\tvalidation_1-logloss:0.68729\n",
            "[9]\tvalidation_0-logloss:0.68471\tvalidation_1-logloss:0.68671\n",
            "[10]\tvalidation_0-logloss:0.68399\tvalidation_1-logloss:0.68615\n",
            "[11]\tvalidation_0-logloss:0.68328\tvalidation_1-logloss:0.68562\n",
            "[12]\tvalidation_0-logloss:0.68255\tvalidation_1-logloss:0.68510\n",
            "[13]\tvalidation_0-logloss:0.68186\tvalidation_1-logloss:0.68460\n",
            "[14]\tvalidation_0-logloss:0.68110\tvalidation_1-logloss:0.68403\n",
            "[15]\tvalidation_0-logloss:0.68040\tvalidation_1-logloss:0.68348\n",
            "[16]\tvalidation_0-logloss:0.67972\tvalidation_1-logloss:0.68306\n",
            "[17]\tvalidation_0-logloss:0.67902\tvalidation_1-logloss:0.68250\n",
            "[18]\tvalidation_0-logloss:0.67832\tvalidation_1-logloss:0.68199\n",
            "[19]\tvalidation_0-logloss:0.67771\tvalidation_1-logloss:0.68157\n",
            "[20]\tvalidation_0-logloss:0.67704\tvalidation_1-logloss:0.68105\n",
            "[21]\tvalidation_0-logloss:0.67636\tvalidation_1-logloss:0.68060\n",
            "[22]\tvalidation_0-logloss:0.67576\tvalidation_1-logloss:0.68020\n",
            "[23]\tvalidation_0-logloss:0.67515\tvalidation_1-logloss:0.67974\n",
            "[24]\tvalidation_0-logloss:0.67450\tvalidation_1-logloss:0.67927\n",
            "[25]\tvalidation_0-logloss:0.67392\tvalidation_1-logloss:0.67892\n",
            "[26]\tvalidation_0-logloss:0.67330\tvalidation_1-logloss:0.67849\n",
            "[27]\tvalidation_0-logloss:0.67276\tvalidation_1-logloss:0.67807\n",
            "[28]\tvalidation_0-logloss:0.67224\tvalidation_1-logloss:0.67768\n",
            "[29]\tvalidation_0-logloss:0.67167\tvalidation_1-logloss:0.67724\n",
            "[30]\tvalidation_0-logloss:0.67113\tvalidation_1-logloss:0.67684\n",
            "[31]\tvalidation_0-logloss:0.67061\tvalidation_1-logloss:0.67641\n",
            "[32]\tvalidation_0-logloss:0.67008\tvalidation_1-logloss:0.67611\n",
            "[33]\tvalidation_0-logloss:0.66953\tvalidation_1-logloss:0.67571\n",
            "[34]\tvalidation_0-logloss:0.66901\tvalidation_1-logloss:0.67533\n",
            "[35]\tvalidation_0-logloss:0.66851\tvalidation_1-logloss:0.67493\n",
            "[36]\tvalidation_0-logloss:0.66801\tvalidation_1-logloss:0.67453\n",
            "[37]\tvalidation_0-logloss:0.66749\tvalidation_1-logloss:0.67415\n",
            "[38]\tvalidation_0-logloss:0.66700\tvalidation_1-logloss:0.67377\n",
            "[39]\tvalidation_0-logloss:0.66652\tvalidation_1-logloss:0.67351\n",
            "[40]\tvalidation_0-logloss:0.66604\tvalidation_1-logloss:0.67321\n",
            "[41]\tvalidation_0-logloss:0.66557\tvalidation_1-logloss:0.67296\n",
            "[42]\tvalidation_0-logloss:0.66516\tvalidation_1-logloss:0.67262\n",
            "[43]\tvalidation_0-logloss:0.66474\tvalidation_1-logloss:0.67230\n",
            "[44]\tvalidation_0-logloss:0.66432\tvalidation_1-logloss:0.67200\n",
            "[45]\tvalidation_0-logloss:0.66386\tvalidation_1-logloss:0.67168\n",
            "[46]\tvalidation_0-logloss:0.66338\tvalidation_1-logloss:0.67135\n",
            "[47]\tvalidation_0-logloss:0.66293\tvalidation_1-logloss:0.67115\n",
            "[48]\tvalidation_0-logloss:0.66253\tvalidation_1-logloss:0.67088\n",
            "[49]\tvalidation_0-logloss:0.66208\tvalidation_1-logloss:0.67056\n",
            "[50]\tvalidation_0-logloss:0.66169\tvalidation_1-logloss:0.67032\n",
            "[51]\tvalidation_0-logloss:0.66131\tvalidation_1-logloss:0.67010\n",
            "[52]\tvalidation_0-logloss:0.66093\tvalidation_1-logloss:0.66985\n",
            "[53]\tvalidation_0-logloss:0.66053\tvalidation_1-logloss:0.66960\n",
            "[54]\tvalidation_0-logloss:0.66009\tvalidation_1-logloss:0.66934\n",
            "[55]\tvalidation_0-logloss:0.65971\tvalidation_1-logloss:0.66905\n",
            "[56]\tvalidation_0-logloss:0.65933\tvalidation_1-logloss:0.66880\n",
            "[57]\tvalidation_0-logloss:0.65894\tvalidation_1-logloss:0.66853\n",
            "[58]\tvalidation_0-logloss:0.65855\tvalidation_1-logloss:0.66816\n",
            "[59]\tvalidation_0-logloss:0.65822\tvalidation_1-logloss:0.66797\n",
            "[60]\tvalidation_0-logloss:0.65782\tvalidation_1-logloss:0.66772\n",
            "[61]\tvalidation_0-logloss:0.65743\tvalidation_1-logloss:0.66748\n",
            "[62]\tvalidation_0-logloss:0.65703\tvalidation_1-logloss:0.66721\n",
            "[63]\tvalidation_0-logloss:0.65668\tvalidation_1-logloss:0.66701\n",
            "[64]\tvalidation_0-logloss:0.65637\tvalidation_1-logloss:0.66677\n",
            "[65]\tvalidation_0-logloss:0.65601\tvalidation_1-logloss:0.66666\n",
            "[66]\tvalidation_0-logloss:0.65568\tvalidation_1-logloss:0.66645\n",
            "[67]\tvalidation_0-logloss:0.65534\tvalidation_1-logloss:0.66626\n",
            "[68]\tvalidation_0-logloss:0.65502\tvalidation_1-logloss:0.66610\n",
            "[69]\tvalidation_0-logloss:0.65470\tvalidation_1-logloss:0.66594\n",
            "[70]\tvalidation_0-logloss:0.65437\tvalidation_1-logloss:0.66576\n",
            "[71]\tvalidation_0-logloss:0.65402\tvalidation_1-logloss:0.66552\n",
            "[72]\tvalidation_0-logloss:0.65373\tvalidation_1-logloss:0.66532\n",
            "[73]\tvalidation_0-logloss:0.65343\tvalidation_1-logloss:0.66510\n",
            "[74]\tvalidation_0-logloss:0.65312\tvalidation_1-logloss:0.66501\n",
            "[75]\tvalidation_0-logloss:0.65280\tvalidation_1-logloss:0.66484\n",
            "[76]\tvalidation_0-logloss:0.65249\tvalidation_1-logloss:0.66470\n",
            "[77]\tvalidation_0-logloss:0.65220\tvalidation_1-logloss:0.66456\n",
            "[78]\tvalidation_0-logloss:0.65192\tvalidation_1-logloss:0.66442\n",
            "[79]\tvalidation_0-logloss:0.65163\tvalidation_1-logloss:0.66424\n",
            "[80]\tvalidation_0-logloss:0.65136\tvalidation_1-logloss:0.66418\n",
            "[81]\tvalidation_0-logloss:0.65109\tvalidation_1-logloss:0.66400\n",
            "[82]\tvalidation_0-logloss:0.65084\tvalidation_1-logloss:0.66386\n",
            "[83]\tvalidation_0-logloss:0.65060\tvalidation_1-logloss:0.66376\n",
            "[84]\tvalidation_0-logloss:0.65034\tvalidation_1-logloss:0.66366\n",
            "[85]\tvalidation_0-logloss:0.65007\tvalidation_1-logloss:0.66351\n",
            "[86]\tvalidation_0-logloss:0.64985\tvalidation_1-logloss:0.66342\n",
            "[87]\tvalidation_0-logloss:0.64960\tvalidation_1-logloss:0.66324\n",
            "[88]\tvalidation_0-logloss:0.64934\tvalidation_1-logloss:0.66313\n",
            "[89]\tvalidation_0-logloss:0.64910\tvalidation_1-logloss:0.66309\n",
            "[90]\tvalidation_0-logloss:0.64886\tvalidation_1-logloss:0.66302\n",
            "[91]\tvalidation_0-logloss:0.64860\tvalidation_1-logloss:0.66296\n",
            "[92]\tvalidation_0-logloss:0.64837\tvalidation_1-logloss:0.66280\n",
            "[93]\tvalidation_0-logloss:0.64814\tvalidation_1-logloss:0.66274\n",
            "[94]\tvalidation_0-logloss:0.64788\tvalidation_1-logloss:0.66264\n",
            "[95]\tvalidation_0-logloss:0.64765\tvalidation_1-logloss:0.66259\n",
            "[96]\tvalidation_0-logloss:0.64745\tvalidation_1-logloss:0.66250\n",
            "[97]\tvalidation_0-logloss:0.64720\tvalidation_1-logloss:0.66237\n",
            "[98]\tvalidation_0-logloss:0.64695\tvalidation_1-logloss:0.66231\n",
            "[99]\tvalidation_0-logloss:0.64675\tvalidation_1-logloss:0.66221\n",
            "[100]\tvalidation_0-logloss:0.64653\tvalidation_1-logloss:0.66221\n",
            "[101]\tvalidation_0-logloss:0.64630\tvalidation_1-logloss:0.66217\n",
            "[102]\tvalidation_0-logloss:0.64607\tvalidation_1-logloss:0.66212\n",
            "[103]\tvalidation_0-logloss:0.64584\tvalidation_1-logloss:0.66204\n",
            "[104]\tvalidation_0-logloss:0.64562\tvalidation_1-logloss:0.66198\n",
            "[105]\tvalidation_0-logloss:0.64542\tvalidation_1-logloss:0.66191\n",
            "[106]\tvalidation_0-logloss:0.64522\tvalidation_1-logloss:0.66182\n",
            "[107]\tvalidation_0-logloss:0.64502\tvalidation_1-logloss:0.66177\n",
            "[108]\tvalidation_0-logloss:0.64482\tvalidation_1-logloss:0.66174\n",
            "[109]\tvalidation_0-logloss:0.64461\tvalidation_1-logloss:0.66167\n",
            "[110]\tvalidation_0-logloss:0.64440\tvalidation_1-logloss:0.66171\n",
            "[111]\tvalidation_0-logloss:0.64421\tvalidation_1-logloss:0.66165\n",
            "[112]\tvalidation_0-logloss:0.64398\tvalidation_1-logloss:0.66156\n",
            "[113]\tvalidation_0-logloss:0.64379\tvalidation_1-logloss:0.66150\n",
            "[114]\tvalidation_0-logloss:0.64359\tvalidation_1-logloss:0.66144\n",
            "[115]\tvalidation_0-logloss:0.64342\tvalidation_1-logloss:0.66127\n",
            "[116]\tvalidation_0-logloss:0.64324\tvalidation_1-logloss:0.66119\n",
            "[117]\tvalidation_0-logloss:0.64304\tvalidation_1-logloss:0.66113\n",
            "[118]\tvalidation_0-logloss:0.64289\tvalidation_1-logloss:0.66106\n",
            "[119]\tvalidation_0-logloss:0.64273\tvalidation_1-logloss:0.66100\n",
            "[120]\tvalidation_0-logloss:0.64258\tvalidation_1-logloss:0.66096\n",
            "[121]\tvalidation_0-logloss:0.64242\tvalidation_1-logloss:0.66087\n",
            "[122]\tvalidation_0-logloss:0.64225\tvalidation_1-logloss:0.66091\n",
            "[123]\tvalidation_0-logloss:0.64208\tvalidation_1-logloss:0.66085\n",
            "[124]\tvalidation_0-logloss:0.64191\tvalidation_1-logloss:0.66084\n",
            "[125]\tvalidation_0-logloss:0.64175\tvalidation_1-logloss:0.66085\n",
            "[126]\tvalidation_0-logloss:0.64159\tvalidation_1-logloss:0.66082\n",
            "[127]\tvalidation_0-logloss:0.64142\tvalidation_1-logloss:0.66081\n",
            "[128]\tvalidation_0-logloss:0.64120\tvalidation_1-logloss:0.66076\n",
            "[129]\tvalidation_0-logloss:0.64101\tvalidation_1-logloss:0.66072\n",
            "[130]\tvalidation_0-logloss:0.64085\tvalidation_1-logloss:0.66064\n",
            "[131]\tvalidation_0-logloss:0.64069\tvalidation_1-logloss:0.66064\n",
            "[132]\tvalidation_0-logloss:0.64054\tvalidation_1-logloss:0.66056\n",
            "[133]\tvalidation_0-logloss:0.64040\tvalidation_1-logloss:0.66056\n",
            "[134]\tvalidation_0-logloss:0.64026\tvalidation_1-logloss:0.66050\n",
            "[135]\tvalidation_0-logloss:0.64012\tvalidation_1-logloss:0.66042\n",
            "[136]\tvalidation_0-logloss:0.63996\tvalidation_1-logloss:0.66040\n",
            "[137]\tvalidation_0-logloss:0.63977\tvalidation_1-logloss:0.66036\n",
            "[138]\tvalidation_0-logloss:0.63962\tvalidation_1-logloss:0.66031\n",
            "[139]\tvalidation_0-logloss:0.63947\tvalidation_1-logloss:0.66031\n",
            "[140]\tvalidation_0-logloss:0.63931\tvalidation_1-logloss:0.66026\n",
            "[141]\tvalidation_0-logloss:0.63917\tvalidation_1-logloss:0.66027\n",
            "[142]\tvalidation_0-logloss:0.63899\tvalidation_1-logloss:0.66028\n",
            "[143]\tvalidation_0-logloss:0.63885\tvalidation_1-logloss:0.66039\n",
            "[144]\tvalidation_0-logloss:0.63869\tvalidation_1-logloss:0.66036\n",
            "[145]\tvalidation_0-logloss:0.63850\tvalidation_1-logloss:0.66028\n",
            "[146]\tvalidation_0-logloss:0.63838\tvalidation_1-logloss:0.66040\n",
            "[147]\tvalidation_0-logloss:0.63825\tvalidation_1-logloss:0.66039\n",
            "[148]\tvalidation_0-logloss:0.63810\tvalidation_1-logloss:0.66038\n",
            "[149]\tvalidation_0-logloss:0.63798\tvalidation_1-logloss:0.66036\n"
          ]
        },
        {
          "output_type": "execute_result",
          "data": {
            "text/plain": [
              "XGBClassifier(base_score=None, booster=None, callbacks=None,\n",
              "              colsample_bylevel=None, colsample_bynode=None,\n",
              "              colsample_bytree=1.0, early_stopping_rounds=10,\n",
              "              enable_categorical=False, eta=0.01, eval_metric=None,\n",
              "              feature_types=None, gamma=None, gpu_id=None, grow_policy=None,\n",
              "              importance_type=None, interaction_constraints=None,\n",
              "              learning_rate=None, max_bin=None, max_cat_threshold=None,\n",
              "              max_cat_to_onehot=None, max_delta_step=None, max_depth=5,\n",
              "              max_leaves=None, min_child_weight=50, missing=nan,\n",
              "              monotone_constraints=None, n_estimators=10000, n_jobs=None,\n",
              "              num_parallel_tree=None, predictor=None, ...)"
            ],
            "text/html": [
              "<style>#sk-container-id-1 {color: black;background-color: white;}#sk-container-id-1 pre{padding: 0;}#sk-container-id-1 div.sk-toggleable {background-color: white;}#sk-container-id-1 label.sk-toggleable__label {cursor: pointer;display: block;width: 100%;margin-bottom: 0;padding: 0.3em;box-sizing: border-box;text-align: center;}#sk-container-id-1 label.sk-toggleable__label-arrow:before {content: \"▸\";float: left;margin-right: 0.25em;color: #696969;}#sk-container-id-1 label.sk-toggleable__label-arrow:hover:before {color: black;}#sk-container-id-1 div.sk-estimator:hover label.sk-toggleable__label-arrow:before {color: black;}#sk-container-id-1 div.sk-toggleable__content {max-height: 0;max-width: 0;overflow: hidden;text-align: left;background-color: #f0f8ff;}#sk-container-id-1 div.sk-toggleable__content pre {margin: 0.2em;color: black;border-radius: 0.25em;background-color: #f0f8ff;}#sk-container-id-1 input.sk-toggleable__control:checked~div.sk-toggleable__content {max-height: 200px;max-width: 100%;overflow: auto;}#sk-container-id-1 input.sk-toggleable__control:checked~label.sk-toggleable__label-arrow:before {content: \"▾\";}#sk-container-id-1 div.sk-estimator input.sk-toggleable__control:checked~label.sk-toggleable__label {background-color: #d4ebff;}#sk-container-id-1 div.sk-label input.sk-toggleable__control:checked~label.sk-toggleable__label {background-color: #d4ebff;}#sk-container-id-1 input.sk-hidden--visually {border: 0;clip: rect(1px 1px 1px 1px);clip: rect(1px, 1px, 1px, 1px);height: 1px;margin: -1px;overflow: hidden;padding: 0;position: absolute;width: 1px;}#sk-container-id-1 div.sk-estimator {font-family: monospace;background-color: #f0f8ff;border: 1px dotted black;border-radius: 0.25em;box-sizing: border-box;margin-bottom: 0.5em;}#sk-container-id-1 div.sk-estimator:hover {background-color: #d4ebff;}#sk-container-id-1 div.sk-parallel-item::after {content: \"\";width: 100%;border-bottom: 1px solid gray;flex-grow: 1;}#sk-container-id-1 div.sk-label:hover label.sk-toggleable__label {background-color: #d4ebff;}#sk-container-id-1 div.sk-serial::before {content: \"\";position: absolute;border-left: 1px solid gray;box-sizing: border-box;top: 0;bottom: 0;left: 50%;z-index: 0;}#sk-container-id-1 div.sk-serial {display: flex;flex-direction: column;align-items: center;background-color: white;padding-right: 0.2em;padding-left: 0.2em;position: relative;}#sk-container-id-1 div.sk-item {position: relative;z-index: 1;}#sk-container-id-1 div.sk-parallel {display: flex;align-items: stretch;justify-content: center;background-color: white;position: relative;}#sk-container-id-1 div.sk-item::before, #sk-container-id-1 div.sk-parallel-item::before {content: \"\";position: absolute;border-left: 1px solid gray;box-sizing: border-box;top: 0;bottom: 0;left: 50%;z-index: -1;}#sk-container-id-1 div.sk-parallel-item {display: flex;flex-direction: column;z-index: 1;position: relative;background-color: white;}#sk-container-id-1 div.sk-parallel-item:first-child::after {align-self: flex-end;width: 50%;}#sk-container-id-1 div.sk-parallel-item:last-child::after {align-self: flex-start;width: 50%;}#sk-container-id-1 div.sk-parallel-item:only-child::after {width: 0;}#sk-container-id-1 div.sk-dashed-wrapped {border: 1px dashed gray;margin: 0 0.4em 0.5em 0.4em;box-sizing: border-box;padding-bottom: 0.4em;background-color: white;}#sk-container-id-1 div.sk-label label {font-family: monospace;font-weight: bold;display: inline-block;line-height: 1.2em;}#sk-container-id-1 div.sk-label-container {text-align: center;}#sk-container-id-1 div.sk-container {/* jupyter's `normalize.less` sets `[hidden] { display: none; }` but bootstrap.min.css set `[hidden] { display: none !important; }` so we also need the `!important` here to be able to override the default hidden behavior on the sphinx rendered scikit-learn.org. See: https://github.com/scikit-learn/scikit-learn/issues/21755 */display: inline-block !important;position: relative;}#sk-container-id-1 div.sk-text-repr-fallback {display: none;}</style><div id=\"sk-container-id-1\" class=\"sk-top-container\"><div class=\"sk-text-repr-fallback\"><pre>XGBClassifier(base_score=None, booster=None, callbacks=None,\n",
              "              colsample_bylevel=None, colsample_bynode=None,\n",
              "              colsample_bytree=1.0, early_stopping_rounds=10,\n",
              "              enable_categorical=False, eta=0.01, eval_metric=None,\n",
              "              feature_types=None, gamma=None, gpu_id=None, grow_policy=None,\n",
              "              importance_type=None, interaction_constraints=None,\n",
              "              learning_rate=None, max_bin=None, max_cat_threshold=None,\n",
              "              max_cat_to_onehot=None, max_delta_step=None, max_depth=5,\n",
              "              max_leaves=None, min_child_weight=50, missing=nan,\n",
              "              monotone_constraints=None, n_estimators=10000, n_jobs=None,\n",
              "              num_parallel_tree=None, predictor=None, ...)</pre><b>In a Jupyter environment, please rerun this cell to show the HTML representation or trust the notebook. <br />On GitHub, the HTML representation is unable to render, please try loading this page with nbviewer.org.</b></div><div class=\"sk-container\" hidden><div class=\"sk-item\"><div class=\"sk-estimator sk-toggleable\"><input class=\"sk-toggleable__control sk-hidden--visually\" id=\"sk-estimator-id-1\" type=\"checkbox\" checked><label for=\"sk-estimator-id-1\" class=\"sk-toggleable__label sk-toggleable__label-arrow\">XGBClassifier</label><div class=\"sk-toggleable__content\"><pre>XGBClassifier(base_score=None, booster=None, callbacks=None,\n",
              "              colsample_bylevel=None, colsample_bynode=None,\n",
              "              colsample_bytree=1.0, early_stopping_rounds=10,\n",
              "              enable_categorical=False, eta=0.01, eval_metric=None,\n",
              "              feature_types=None, gamma=None, gpu_id=None, grow_policy=None,\n",
              "              importance_type=None, interaction_constraints=None,\n",
              "              learning_rate=None, max_bin=None, max_cat_threshold=None,\n",
              "              max_cat_to_onehot=None, max_delta_step=None, max_depth=5,\n",
              "              max_leaves=None, min_child_weight=50, missing=nan,\n",
              "              monotone_constraints=None, n_estimators=10000, n_jobs=None,\n",
              "              num_parallel_tree=None, predictor=None, ...)</pre></div></div></div></div></div>"
            ]
          },
          "metadata": {},
          "execution_count": 11
        }
      ]
    },
    {
      "cell_type": "code",
      "source": [
        "# Predict and save train values\n",
        "pred_y = get_predicted_values(model, train_x)\n",
        "save_result(train_y, pred_y, 'xgb.train.csv.gz')"
      ],
      "metadata": {
        "id": "X0mNkcZMcVa5"
      },
      "execution_count": 12,
      "outputs": []
    },
    {
      "cell_type": "code",
      "source": [
        "# Predict and save validation values\n",
        "pred_y = get_predicted_values(model, val_x)\n",
        "save_result(val_y, pred_y, 'xgb.val.csv.gz')"
      ],
      "metadata": {
        "id": "rbj01H3UcXvy"
      },
      "execution_count": 13,
      "outputs": []
    },
    {
      "cell_type": "code",
      "source": [
        "# Predict, show and save test values\n",
        "pred_y = get_predicted_values(model, test_x)\n",
        "show_result(test_y, pred_y)\n",
        "save_result(test_y, pred_y, 'xgb.test.csv.gz')\n"
      ],
      "metadata": {
        "colab": {
          "base_uri": "https://localhost:8080/"
        },
        "id": "1KzfChgicZgi",
        "outputId": "4eecdc29-fd7c-48cf-8ee9-78cd0e51515c"
      },
      "execution_count": 14,
      "outputs": [
        {
          "output_type": "stream",
          "name": "stdout",
          "text": [
            "********************* RESULT TEST **********************\n",
            "* Confusion Matrix (Top: Predicted - Left: Real)\n",
            "[[115 134]\n",
            " [ 64 216]]\n",
            "* Classification Report\n",
            "              precision    recall  f1-score   support\n",
            "\n",
            "           0       0.64      0.46      0.54       249\n",
            "           1       0.62      0.77      0.69       280\n",
            "\n",
            "    accuracy                           0.63       529\n",
            "   macro avg       0.63      0.62      0.61       529\n",
            "weighted avg       0.63      0.63      0.62       529\n",
            "\n"
          ]
        }
      ]
    }
  ]
}