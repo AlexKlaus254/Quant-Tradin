{
  "nbformat": 4,
  "nbformat_minor": 0,
  "metadata": {
    "colab": {
      "provenance": []
    },
    "kernelspec": {
      "name": "python3",
      "display_name": "Python 3"
    },
    "language_info": {
      "name": "python"
    }
  },
  "cells": [
    {
      "cell_type": "markdown",
      "source": [
        "Copy the file **spy.2008.2021.csv.gz** and **spy.csv.gz** located in https://github.com/crapher/medium/tree/main/13.TrendIntraday/data to your colab folder"
      ],
      "metadata": {
        "id": "_XQkxgIHPS8z"
      }
    },
    {
      "cell_type": "code",
      "source": [
        "!pip install pygad"
      ],
      "metadata": {
        "colab": {
          "base_uri": "https://localhost:8080/"
        },
        "id": "QBIivVFng-UM",
        "outputId": "bab22521-22f2-4514-acf1-48a9db0bec48"
      },
      "execution_count": 1,
      "outputs": [
        {
          "output_type": "stream",
          "name": "stdout",
          "text": [
            "Requirement already satisfied: pygad in /usr/local/lib/python3.10/dist-packages (3.1.0)\n",
            "Requirement already satisfied: cloudpickle in /usr/local/lib/python3.10/dist-packages (from pygad) (2.2.1)\n",
            "Requirement already satisfied: matplotlib in /usr/local/lib/python3.10/dist-packages (from pygad) (3.7.1)\n",
            "Requirement already satisfied: numpy in /usr/local/lib/python3.10/dist-packages (from pygad) (1.22.4)\n",
            "Requirement already satisfied: contourpy>=1.0.1 in /usr/local/lib/python3.10/dist-packages (from matplotlib->pygad) (1.1.0)\n",
            "Requirement already satisfied: cycler>=0.10 in /usr/local/lib/python3.10/dist-packages (from matplotlib->pygad) (0.11.0)\n",
            "Requirement already satisfied: fonttools>=4.22.0 in /usr/local/lib/python3.10/dist-packages (from matplotlib->pygad) (4.41.1)\n",
            "Requirement already satisfied: kiwisolver>=1.0.1 in /usr/local/lib/python3.10/dist-packages (from matplotlib->pygad) (1.4.4)\n",
            "Requirement already satisfied: packaging>=20.0 in /usr/local/lib/python3.10/dist-packages (from matplotlib->pygad) (23.1)\n",
            "Requirement already satisfied: pillow>=6.2.0 in /usr/local/lib/python3.10/dist-packages (from matplotlib->pygad) (9.4.0)\n",
            "Requirement already satisfied: pyparsing>=2.3.1 in /usr/local/lib/python3.10/dist-packages (from matplotlib->pygad) (3.1.0)\n",
            "Requirement already satisfied: python-dateutil>=2.7 in /usr/local/lib/python3.10/dist-packages (from matplotlib->pygad) (2.8.2)\n",
            "Requirement already satisfied: six>=1.5 in /usr/local/lib/python3.10/dist-packages (from python-dateutil>=2.7->matplotlib->pygad) (1.16.0)\n"
          ]
        }
      ]
    },
    {
      "cell_type": "code",
      "execution_count": 2,
      "metadata": {
        "id": "-LjpN-v8Btt7"
      },
      "outputs": [],
      "source": [
        "import os\n",
        "import math\n",
        "import numpy as np\n",
        "import pandas as pd\n",
        "\n",
        "import warnings\n",
        "warnings.filterwarnings('ignore')\n",
        "\n",
        "from sklearn.metrics import confusion_matrix, classification_report\n",
        "from sklearn.metrics import f1_score\n",
        "from tqdm import tqdm\n",
        "\n",
        "import numpy as np\n",
        "import pygad"
      ]
    },
    {
      "cell_type": "code",
      "source": [
        "# Constants\n",
        "BARS=15\n",
        "RESULT_DIR='./result'\n",
        "DATE_SPLIT='2019-06-01'\n",
        "SOLUTIONS = 30\n",
        "GENERATIONS = 50"
      ],
      "metadata": {
        "id": "ov9plUUMnEso"
      },
      "execution_count": 3,
      "outputs": []
    },
    {
      "cell_type": "code",
      "source": [
        "# Get the data and generate the train, validation, and test datasets\n",
        "def get_datasets():\n",
        "\n",
        "    train_val = pd.read_csv('./spy.2008.2021.csv.gz', compression='gzip')\n",
        "    train_val = train_val[['date','open','close']]\n",
        "    train_val['date'] = pd.to_datetime(train_val['date'])\n",
        "\n",
        "    test = pd.read_csv('./spy.csv.gz', compression='gzip')\n",
        "    test = test[['date','open','close']]\n",
        "    test['date'] = pd.to_datetime(test['date'])\n",
        "\n",
        "    train = train_val[train_val['date'] <= DATE_SPLIT]\n",
        "    validation = train_val[(train_val['date'] > DATE_SPLIT) & (train_val['date'] < test['date'].min())]\n",
        "\n",
        "    return train, validation, test"
      ],
      "metadata": {
        "id": "VjwWa8rtcop6"
      },
      "execution_count": 4,
      "outputs": []
    },
    {
      "cell_type": "code",
      "source": [
        "# Process Dataframe and return features and targets\n",
        "def get_features_targets(df, scale_obs=True):\n",
        "\n",
        "    feature_result = []\n",
        "    dates = []\n",
        "\n",
        "    # Remove duplicated dates\n",
        "    df = df.groupby(by='date').mean().reset_index()\n",
        "\n",
        "    # Get Features based on BARS configuration\n",
        "    features = df[((df['date'].dt.hour == 9) & (df['date'].dt.minute >= 30)) &\n",
        "                   (df['date'].dt.hour == 9) & (df['date'].dt.minute < 30 + BARS)]\n",
        "    features = features.groupby(features['date'].dt.date)\n",
        "\n",
        "    for dt, feature in features:\n",
        "\n",
        "        if len(feature) != BARS:\n",
        "            feature = feature.set_index('date')\n",
        "            feature = feature.resample('1T').asfreq().reindex(pd.date_range(str(dt) + ' 09:30:00', str(dt) + f' 09:{30+BARS-1}:00', freq='1T'))\n",
        "            feature = feature.reset_index()\n",
        "            feature['close'] = feature['close'].fillna(method='ffill')\n",
        "            feature['open'] = feature['open'].fillna(feature['close'])\n",
        "            feature = feature.dropna()\n",
        "\n",
        "        if len(feature) == BARS:\n",
        "            feature = feature['close'].values\n",
        "\n",
        "            if scale_obs:\n",
        "                feature -= np.min(feature)\n",
        "                feature /= np.max(np.abs(feature))\n",
        "                feature = np.nan_to_num(feature, nan=0.0, posinf=0.0, neginf=0.0)\n",
        "\n",
        "            feature_result.append(feature)\n",
        "            dates.append(dt)\n",
        "\n",
        "    # Get Targets Trend based on first and last value / day (0: DOWN - 1: UP)\n",
        "    targets = df.set_index('date')\n",
        "    targets = targets.resample('1D').agg({'open':'first', 'close':'last'})\n",
        "    targets = targets.loc[dates].reset_index().sort_values(by='date')\n",
        "    targets['trend'] = np.where(targets['open'] < targets['close'], 1, 0)\n",
        "\n",
        "    print(len(feature_result), len(targets))\n",
        "    return np.array(feature_result), np.array(targets['trend'].values)"
      ],
      "metadata": {
        "id": "36mzjkH6B-7a"
      },
      "execution_count": 5,
      "outputs": []
    },
    {
      "cell_type": "code",
      "source": [
        "# Show the result of the operation\n",
        "def show_result(target, pred, ds_type='TEST'):\n",
        "\n",
        "    target = np.array(target)\n",
        "    pred = np.array(pred)\n",
        "\n",
        "    print(f' RESULT {ds_type.upper()} '.center(56, '*'))\n",
        "\n",
        "    print('* Confusion Matrix (Top: Predicted - Left: Real)')\n",
        "    print(confusion_matrix(y_true=target, y_pred=pred))\n",
        "\n",
        "    print('* Classification Report')\n",
        "    print(classification_report(target, pred))"
      ],
      "metadata": {
        "id": "Eck0aed5QLR4"
      },
      "execution_count": 6,
      "outputs": []
    },
    {
      "cell_type": "code",
      "source": [
        "# Save the results\n",
        "def save_result(target, pred, name):\n",
        "\n",
        "    os.makedirs(RESULT_DIR, exist_ok=True)\n",
        "    df = pd.DataFrame.from_dict({'pred': pred, 'target': target})\n",
        "    df.to_csv(f'{RESULT_DIR}/{name}', index=False)"
      ],
      "metadata": {
        "id": "NpX4bi5qnTM4"
      },
      "execution_count": 7,
      "outputs": []
    },
    {
      "cell_type": "code",
      "source": [
        "# Return the predicted values\n",
        "def get_predicted_values(solution, features):\n",
        "\n",
        "    pred_y = np.clip(np.dot(features, solution), 0, 1)\n",
        "    pred_y = np.where(pred_y > 0.5, 1, 0)\n",
        "    return pred_y"
      ],
      "metadata": {
        "id": "vzPXDAynnTKZ"
      },
      "execution_count": 8,
      "outputs": []
    },
    {
      "cell_type": "code",
      "source": [
        "# Define fitness function to be used by the PyGAD instance\n",
        "def fitness_func(self, solution, sol_idx):\n",
        "\n",
        "    global train_x, train_y\n",
        "\n",
        "    pred_y = get_predicted_values(solution, train_x)\n",
        "    result = f1_score(train_y, pred_y, average='binary', pos_label=1) + \\\n",
        "             f1_score(train_y, pred_y, average='binary', pos_label=0)\n",
        "\n",
        "    return result"
      ],
      "metadata": {
        "id": "gGuC21Ydgqqa"
      },
      "execution_count": 9,
      "outputs": []
    },
    {
      "cell_type": "code",
      "source": [
        "# Get the datasets to be used in the tests\n",
        "train, validation, test = get_datasets()"
      ],
      "metadata": {
        "id": "5_9jY3TtnTH-"
      },
      "execution_count": 10,
      "outputs": []
    },
    {
      "cell_type": "code",
      "source": [
        "# Get Features and Targets\n",
        "train_x, train_y = get_features_targets(train)\n",
        "val_x, val_y = get_features_targets(validation)\n",
        "test_x, test_y = get_features_targets(test)"
      ],
      "metadata": {
        "colab": {
          "base_uri": "https://localhost:8080/"
        },
        "id": "mSE7UGfkcU6N",
        "outputId": "37c8bcb9-e34a-457b-ffd0-25c0634f0b65"
      },
      "execution_count": 11,
      "outputs": [
        {
          "output_type": "stream",
          "name": "stdout",
          "text": [
            "2858 2858\n",
            "487 487\n",
            "529 529\n"
          ]
        }
      ]
    },
    {
      "cell_type": "code",
      "source": [
        "# Train Model\n",
        "with tqdm(total=GENERATIONS) as pbar:\n",
        "\n",
        "    # Create Genetic Algorithm\n",
        "    ga_instance = pygad.GA(num_generations=GENERATIONS,\n",
        "                           num_parents_mating=5,\n",
        "                           fitness_func=fitness_func,\n",
        "                           sol_per_pop=SOLUTIONS,\n",
        "                           num_genes=BARS,\n",
        "                           gene_space={'low': -1, 'high': 1},\n",
        "                           random_seed=42,\n",
        "                           on_generation=lambda _: pbar.update(1),\n",
        "                           )\n",
        "\n",
        "    # Run the Genetic Algorithm\n",
        "    ga_instance.run()"
      ],
      "metadata": {
        "colab": {
          "base_uri": "https://localhost:8080/"
        },
        "id": "tOPs6-6nFAu0",
        "outputId": "09add9a4-63ce-42b3-dc03-87b3a4b9cf57"
      },
      "execution_count": 12,
      "outputs": [
        {
          "output_type": "stream",
          "name": "stderr",
          "text": [
            "100%|██████████| 50/50 [00:28<00:00,  1.78it/s]\n"
          ]
        }
      ]
    },
    {
      "cell_type": "code",
      "source": [
        "# Set the best weights\n",
        "solution, _, _ = ga_instance.best_solution()"
      ],
      "metadata": {
        "id": "a0AmjQMVgv2T"
      },
      "execution_count": 13,
      "outputs": []
    },
    {
      "cell_type": "code",
      "source": [
        "# Predict and save train values\n",
        "pred_y = get_predicted_values(solution, train_x)\n",
        "save_result(train_y, pred_y, 'ga.train.csv.gz')"
      ],
      "metadata": {
        "id": "X0mNkcZMcVa5"
      },
      "execution_count": 14,
      "outputs": []
    },
    {
      "cell_type": "code",
      "source": [
        "# Predict and save validation values\n",
        "pred_y = get_predicted_values(solution, val_x)\n",
        "save_result(val_y, pred_y, 'ga.val.csv.gz')"
      ],
      "metadata": {
        "id": "rbj01H3UcXvy"
      },
      "execution_count": 15,
      "outputs": []
    },
    {
      "cell_type": "code",
      "source": [
        "# Predict, show and save test values\n",
        "pred_y = get_predicted_values(solution, test_x)\n",
        "show_result(test_y, pred_y)\n",
        "save_result(test_y, pred_y, 'ga.test.csv.gz')"
      ],
      "metadata": {
        "colab": {
          "base_uri": "https://localhost:8080/"
        },
        "id": "1KzfChgicZgi",
        "outputId": "2088ffad-d9dd-4d50-a0e4-0a0d43bbb8ba"
      },
      "execution_count": 16,
      "outputs": [
        {
          "output_type": "stream",
          "name": "stdout",
          "text": [
            "********************* RESULT TEST **********************\n",
            "* Confusion Matrix (Top: Predicted - Left: Real)\n",
            "[[149 100]\n",
            " [ 97 183]]\n",
            "* Classification Report\n",
            "              precision    recall  f1-score   support\n",
            "\n",
            "           0       0.61      0.60      0.60       249\n",
            "           1       0.65      0.65      0.65       280\n",
            "\n",
            "    accuracy                           0.63       529\n",
            "   macro avg       0.63      0.63      0.63       529\n",
            "weighted avg       0.63      0.63      0.63       529\n",
            "\n"
          ]
        }
      ]
    },
    {
      "cell_type": "code",
      "source": [],
      "metadata": {
        "id": "8v0MjaqnhSLt"
      },
      "execution_count": 16,
      "outputs": []
    }
  ]
}