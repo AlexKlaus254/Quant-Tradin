{
  "nbformat": 4,
  "nbformat_minor": 0,
  "metadata": {
    "colab": {
      "provenance": []
    },
    "kernelspec": {
      "name": "python3",
      "display_name": "Python 3"
    },
    "language_info": {
      "name": "python"
    }
  },
  "cells": [
    {
      "cell_type": "code",
      "source": [
        "!pip install pandas_ta tqdm pygad"
      ],
      "metadata": {
        "colab": {
          "base_uri": "https://localhost:8080/"
        },
        "id": "bU4G0gi-gdc5",
        "outputId": "c21bd942-bd4e-4515-bf2e-6e34613c32eb"
      },
      "execution_count": 1,
      "outputs": [
        {
          "output_type": "stream",
          "name": "stdout",
          "text": [
            "Looking in indexes: https://pypi.org/simple, https://us-python.pkg.dev/colab-wheels/public/simple/\n",
            "Collecting pandas_ta\n",
            "  Downloading pandas_ta-0.3.14b.tar.gz (115 kB)\n",
            "\u001b[2K     \u001b[90m━━━━━━━━━━━━━━━━━━━━━━━━━━━━━━━━━━━━━━━\u001b[0m \u001b[32m115.1/115.1 kB\u001b[0m \u001b[31m3.2 MB/s\u001b[0m eta \u001b[36m0:00:00\u001b[0m\n",
            "\u001b[?25h  Preparing metadata (setup.py) ... \u001b[?25l\u001b[?25hdone\n",
            "Requirement already satisfied: tqdm in /usr/local/lib/python3.10/dist-packages (4.65.0)\n",
            "Collecting pygad\n",
            "  Downloading pygad-3.0.1-py3-none-any.whl (67 kB)\n",
            "\u001b[2K     \u001b[90m━━━━━━━━━━━━━━━━━━━━━━━━━━━━━━━━━━━━━━━━\u001b[0m \u001b[32m68.0/68.0 kB\u001b[0m \u001b[31m4.7 MB/s\u001b[0m eta \u001b[36m0:00:00\u001b[0m\n",
            "\u001b[?25hRequirement already satisfied: pandas in /usr/local/lib/python3.10/dist-packages (from pandas_ta) (1.5.3)\n",
            "Requirement already satisfied: cloudpickle in /usr/local/lib/python3.10/dist-packages (from pygad) (2.2.1)\n",
            "Requirement already satisfied: matplotlib in /usr/local/lib/python3.10/dist-packages (from pygad) (3.7.1)\n",
            "Requirement already satisfied: numpy in /usr/local/lib/python3.10/dist-packages (from pygad) (1.22.4)\n",
            "Requirement already satisfied: contourpy>=1.0.1 in /usr/local/lib/python3.10/dist-packages (from matplotlib->pygad) (1.0.7)\n",
            "Requirement already satisfied: cycler>=0.10 in /usr/local/lib/python3.10/dist-packages (from matplotlib->pygad) (0.11.0)\n",
            "Requirement already satisfied: fonttools>=4.22.0 in /usr/local/lib/python3.10/dist-packages (from matplotlib->pygad) (4.39.3)\n",
            "Requirement already satisfied: kiwisolver>=1.0.1 in /usr/local/lib/python3.10/dist-packages (from matplotlib->pygad) (1.4.4)\n",
            "Requirement already satisfied: packaging>=20.0 in /usr/local/lib/python3.10/dist-packages (from matplotlib->pygad) (23.1)\n",
            "Requirement already satisfied: pillow>=6.2.0 in /usr/local/lib/python3.10/dist-packages (from matplotlib->pygad) (8.4.0)\n",
            "Requirement already satisfied: pyparsing>=2.3.1 in /usr/local/lib/python3.10/dist-packages (from matplotlib->pygad) (3.0.9)\n",
            "Requirement already satisfied: python-dateutil>=2.7 in /usr/local/lib/python3.10/dist-packages (from matplotlib->pygad) (2.8.2)\n",
            "Requirement already satisfied: pytz>=2020.1 in /usr/local/lib/python3.10/dist-packages (from pandas->pandas_ta) (2022.7.1)\n",
            "Requirement already satisfied: six>=1.5 in /usr/local/lib/python3.10/dist-packages (from python-dateutil>=2.7->matplotlib->pygad) (1.16.0)\n",
            "Building wheels for collected packages: pandas_ta\n",
            "  Building wheel for pandas_ta (setup.py) ... \u001b[?25l\u001b[?25hdone\n",
            "  Created wheel for pandas_ta: filename=pandas_ta-0.3.14b0-py3-none-any.whl size=218908 sha256=721e6bb528c629116781be20a17a9dcc83b16b0ccafa265cebd468a9ce7f5424\n",
            "  Stored in directory: /root/.cache/pip/wheels/69/00/ac/f7fa862c34b0e2ef320175100c233377b4c558944f12474cf0\n",
            "Successfully built pandas_ta\n",
            "Installing collected packages: pygad, pandas_ta\n",
            "Successfully installed pandas_ta-0.3.14b0 pygad-3.0.1\n"
          ]
        }
      ]
    },
    {
      "cell_type": "code",
      "execution_count": 2,
      "metadata": {
        "id": "-LjpN-v8Btt7"
      },
      "outputs": [],
      "source": [
        "import numpy as np\n",
        "import pandas as pd\n",
        "import pandas_ta as ta\n",
        "import pygad\n",
        "\n",
        "from tqdm import tqdm\n"
      ]
    },
    {
      "cell_type": "code",
      "source": [
        "try:\n",
        "    from urllib.request import urlretrieve\n",
        "except ImportError:\n",
        "    from urllib import urlretrieve\n",
        "\n",
        "# Download data\n",
        "print(f'Downloading OIH_adjusted.txt...')\n",
        "urlretrieve('http://api.kibot.com/?action=history&symbol=OIH&interval=1&unadjusted=0&bp=1&user=guest', 'OIH_adjusted.txt')\n",
        "\n",
        "# Read data and assign names to the columns\n",
        "df = pd.read_csv('OIH_adjusted.txt')\n",
        "df.columns = ['date','time','open','high','low','close','volume']\n",
        "\n",
        "# Combine date and time in the date column\n",
        "df['date'] = df['date'] + ' ' + df['time']\n",
        "df['date'] = pd.to_datetime(df['date'], format='%m/%d/%Y %H:%M')\n",
        "df = df[['date','open','high','low','close','volume']]\n",
        "\n",
        "# Sort by date and assign the date as index\n",
        "df = df.sort_values('date').reset_index(drop=True).set_index('date')\n",
        "\n",
        "# Convert the data to different timeframes & save them for future uses\n",
        "AGGREGATION = {'open': 'first', 'high': 'max', 'low': 'min', 'close': 'last', 'volume': 'sum'}\n",
        "TIMEFRAMES = ['5T', '15T', '1H', '1D']\n",
        "\n",
        "for timeframe in TIMEFRAMES:\n",
        "    print(f'Converting & Saving {timeframe} Data...')\n",
        "    df = df.resample(timeframe).agg(AGGREGATION).dropna()\n",
        "    df.to_csv(f'OIH_{timeframe}.csv.gz', compression='gzip')\n"
      ],
      "metadata": {
        "colab": {
          "base_uri": "https://localhost:8080/"
        },
        "id": "vwVEhwTODY4n",
        "outputId": "0ffec9d0-83a3-48c5-e368-acd69f6afa64"
      },
      "execution_count": 3,
      "outputs": [
        {
          "output_type": "stream",
          "name": "stdout",
          "text": [
            "Downloading OIH_adjusted.txt...\n",
            "Converting & Saving 5T Data...\n",
            "Converting & Saving 15T Data...\n",
            "Converting & Saving 1H Data...\n",
            "Converting & Saving 1D Data...\n"
          ]
        }
      ]
    },
    {
      "cell_type": "code",
      "source": [
        "# Constants\n",
        "SOLUTIONS = 20\n",
        "GENERATIONS = 50\n",
        "DAYS = 7\n",
        "TIMEFRAMES = ['5T','15T','1H','1D']\n",
        "LEN = {'5T': int(6.5 * DAYS * 12), '15T': int(6.5 * DAYS * 4), '1H': int(6.5 * DAYS), '1D': DAYS}"
      ],
      "metadata": {
        "id": "36mzjkH6B-7a"
      },
      "execution_count": 4,
      "outputs": []
    },
    {
      "cell_type": "code",
      "source": [
        "# Configuration\n",
        "np.set_printoptions(suppress=True)\n",
        "pd.options.mode.chained_assignment = None"
      ],
      "metadata": {
        "id": "Eck0aed5QLR4"
      },
      "execution_count": 5,
      "outputs": []
    },
    {
      "cell_type": "code",
      "source": [
        "def get_data(timeframe, length):\n",
        "\n",
        "    # Read the data\n",
        "    df = pd.read_csv(f'OIH_{timeframe}.csv.gz', compression='gzip')\n",
        "\n",
        "    # Get close in LEN bars in the future\n",
        "    df['close_future'] = df['close'].shift(-length)\n",
        "\n",
        "    # Get High/Low in LEN bars in the future\n",
        "    df['high_future'] = df['high'].shift(-length).rolling(length).max()\n",
        "    df['low_future'] = df['low'].shift(-length).rolling(length).min()\n",
        "    \n",
        "    # Calculate Moving Volatility & Upper/Lower limits\n",
        "    df['change'] = np.log(df['close'] / df['close'].shift())\n",
        "    df['volatility'] = df['change'].rolling(length).agg(lambda c: c.std() * length ** .5)\n",
        "    \n",
        "    df['upper_limit'] = df['close'] * (1 + df['volatility'])\n",
        "    df['lower_limit'] = df['close'] * (1 - df['volatility'])\n",
        "    \n",
        "    # Calculate Trend\n",
        "    df['ema200'] = ta.ema(df['close'], length=200)\n",
        "    df['ema50'] = ta.ema(df['close'], length=50)\n",
        "    \n",
        "    df['trend_up'] = df['ema200'] < df['ema50']\n",
        "    \n",
        "    # Clean all NaN values\n",
        "    df = df.dropna()\n",
        "    \n",
        "    # Calculate the close percentage relative to limits \n",
        "    df['close_perc'] = np.clip((df['close_future'] - df['lower_limit']) / (df['upper_limit'] - df['lower_limit']), 0, 1)\n",
        "    \n",
        "    # Check values out of bounds\n",
        "    df['out_of_bounds'] = ((df['high_future'] > df['upper_limit']) & (df['trend_up'] == True)) | ((df['low_future'] < df['lower_limit']) & (df['trend_up'] == False))\n",
        "    \n",
        "    # Split Train and Test datasets\n",
        "    train = df[df['date'] < '2022-01-01']\n",
        "    test = df[df['date'] >= '2022-01-01']\n",
        "\n",
        "    return train, test"
      ],
      "metadata": {
        "id": "Olt-N2rNCBa6"
      },
      "execution_count": 6,
      "outputs": []
    },
    {
      "cell_type": "code",
      "source": [
        "# Define fitness function to be used by the PyGAD instance\n",
        "def fitness_func(self, solution, sol_idx):\n",
        "\n",
        "    # Get Reward from train data\n",
        "    total_reward, _, _, _ = get_result(train, solution[0], solution[1], solution[2])\n",
        "\n",
        "    # Return the solution reward\n",
        "    return total_reward"
      ],
      "metadata": {
        "id": "ytemL7k3QRGf"
      },
      "execution_count": 7,
      "outputs": []
    },
    {
      "cell_type": "code",
      "source": [
        "# Define a reward function\n",
        "def get_result(df, min_volatility, bottom_perc, top_perc):\n",
        "    \n",
        "    # Get Total data Len\n",
        "    total_len = len(df)\n",
        "    \n",
        "    # Filter data\n",
        "    df = df[(df['close_perc'] > bottom_perc) & (df['close_perc'] < top_perc) & (df['volatility'] > min_volatility)]\n",
        "    after_filter_len = len(df)\n",
        "    \n",
        "    # Get values under/over limit\n",
        "    out_of_bounds = df['out_of_bounds'].sum()\n",
        "    \n",
        "    # Calculate Reward\n",
        "    if after_filter_len > 0:\n",
        "        in_bounds = after_filter_len - out_of_bounds\n",
        "        percentage = in_bounds / after_filter_len\n",
        "        total_reward = percentage * in_bounds - ((1 - percentage) * out_of_bounds)\n",
        "    else:\n",
        "        total_reward = -1\n",
        "\n",
        "    return total_reward, total_len, after_filter_len, out_of_bounds"
      ],
      "metadata": {
        "id": "SJop-YM2QSry"
      },
      "execution_count": 8,
      "outputs": []
    },
    {
      "cell_type": "code",
      "source": [
        "for timeframe in TIMEFRAMES:\n",
        "\n",
        "    # Get Train and Test data for timeframe\n",
        "    train, test = get_data(timeframe, LEN[timeframe])\n",
        "\n",
        "    # Process timeframe\n",
        "    print(\"\".center(60, \"*\"))\n",
        "    print(f' PROCESSING TIMEFRAME {timeframe} '.center(60, '*'))\n",
        "    print(\"\".center(60, \"*\"))\n",
        "\n",
        "    with tqdm(total=GENERATIONS) as pbar:\n",
        "\n",
        "        # Create Genetic Algorithm\n",
        "        ga_instance = pygad.GA(num_generations=GENERATIONS,\n",
        "                               num_parents_mating=5,\n",
        "                               fitness_func=fitness_func,\n",
        "                               sol_per_pop=SOLUTIONS,\n",
        "                               num_genes=3,\n",
        "                               gene_space=[{'low': 0, 'high':0.05}, {'low': 0, 'high':1}, {'low': 0, 'high':1}],\n",
        "                               parent_selection_type=\"sss\",\n",
        "                               crossover_type=\"single_point\",\n",
        "                               mutation_type=\"random\",\n",
        "                               mutation_num_genes=1,\n",
        "                               keep_parents=-1,\n",
        "                               on_generation=lambda _: pbar.update(1),\n",
        "                               )\n",
        "\n",
        "        # Run the Genetic Algorithm\n",
        "        ga_instance.run()\n",
        "\n",
        "    # Show details of the best solution.\n",
        "    solution, solution_fitness, _ = ga_instance.best_solution()\n",
        "\n",
        "    print(f' Best Solution Parameters '.center(60, '*'))\n",
        "    print(f\"* Min Volatility       : {solution[0]:.4f}\")\n",
        "    print(f\"* Bottom Perc.         : {solution[1]:.4f}\")\n",
        "    print(f\"* Top Perc.            : {solution[2]:.4f}\")\n",
        "\n",
        "    # Get Reward from train data\n",
        "    total_reward, total_len, after_filter_len, out_of_bounds = get_result(train, solution[0], solution[1], solution[2])\n",
        "\n",
        "    print(f' Result for timeframe {timeframe} (TRAIN) '.center(60, '*'))\n",
        "    print(f\"* Total Records        : {total_len}\")\n",
        "    print(f\"* Records after filter : {after_filter_len}\")\n",
        "    print(f\"* Out Of Bounds        : {out_of_bounds} ({100 * (out_of_bounds / after_filter_len):.1f}%)\")\n",
        "    print(f\"* Inside Bounds        : {after_filter_len - out_of_bounds} ({100*((after_filter_len - out_of_bounds) / after_filter_len):.1f}%)\")\n",
        "\n",
        "    # Get Reward from test data\n",
        "    total_reward, total_len, after_filter_len, out_of_bounds = get_result(test, solution[0], solution[1], solution[2])\n",
        "\n",
        "    # Show the final result\n",
        "    print(f' Result for timeframe {timeframe} (TEST) '.center(60, '*'))\n",
        "    print(f\"* Total Records        : {total_len}\")\n",
        "    print(f\"* Records after filter : {after_filter_len}\")\n",
        "    print(f\"* Out Of Bounds        : {out_of_bounds} ({100 * (out_of_bounds / after_filter_len):.1f}%)\")\n",
        "    print(f\"* Inside Bounds        : {after_filter_len - out_of_bounds} ({100*((after_filter_len - out_of_bounds) / after_filter_len):.1f}%)\")\n",
        "\n",
        "    print(\"\")"
      ],
      "metadata": {
        "colab": {
          "base_uri": "https://localhost:8080/"
        },
        "id": "3wnO_sueQVOA",
        "outputId": "f9d24f71-482a-4c9d-a3a9-fd7ed16029ae"
      },
      "execution_count": 9,
      "outputs": [
        {
          "output_type": "stream",
          "name": "stdout",
          "text": [
            "************************************************************\n",
            "***************** PROCESSING TIMEFRAME 5T ******************\n",
            "************************************************************\n"
          ]
        },
        {
          "output_type": "stream",
          "name": "stderr",
          "text": [
            "100%|██████████| 50/50 [00:18<00:00,  2.70it/s]\n"
          ]
        },
        {
          "output_type": "stream",
          "name": "stdout",
          "text": [
            "***************** Best Solution Parameters *****************\n",
            "* Min Volatility       : 0.0204\n",
            "* Bottom Perc.         : 0.0212\n",
            "* Top Perc.            : 0.9979\n",
            "************* Result for timeframe 5T (TRAIN) **************\n",
            "* Total Records        : 444894\n",
            "* Records after filter : 311419\n",
            "* Out Of Bounds        : 60828 (19.5%)\n",
            "* Inside Bounds        : 250591 (80.5%)\n",
            "************** Result for timeframe 5T (TEST) **************\n",
            "* Total Records        : 16729\n",
            "* Records after filter : 11675\n",
            "* Out Of Bounds        : 1922 (16.5%)\n",
            "* Inside Bounds        : 9753 (83.5%)\n",
            "\n",
            "************************************************************\n",
            "***************** PROCESSING TIMEFRAME 15T *****************\n",
            "************************************************************\n"
          ]
        },
        {
          "output_type": "stream",
          "name": "stderr",
          "text": [
            "100%|██████████| 50/50 [00:07<00:00,  6.34it/s]\n"
          ]
        },
        {
          "output_type": "stream",
          "name": "stdout",
          "text": [
            "***************** Best Solution Parameters *****************\n",
            "* Min Volatility       : 0.0176\n",
            "* Bottom Perc.         : 0.0036\n",
            "* Top Perc.            : 0.9896\n",
            "************* Result for timeframe 15T (TRAIN) *************\n",
            "* Total Records        : 166316\n",
            "* Records after filter : 115174\n",
            "* Out Of Bounds        : 24037 (20.9%)\n",
            "* Inside Bounds        : 91137 (79.1%)\n",
            "************* Result for timeframe 15T (TEST) **************\n",
            "* Total Records        : 6312\n",
            "* Records after filter : 4333\n",
            "* Out Of Bounds        : 974 (22.5%)\n",
            "* Inside Bounds        : 3359 (77.5%)\n",
            "\n",
            "************************************************************\n",
            "***************** PROCESSING TIMEFRAME 1H ******************\n",
            "************************************************************\n"
          ]
        },
        {
          "output_type": "stream",
          "name": "stderr",
          "text": [
            "100%|██████████| 50/50 [00:02<00:00, 18.10it/s]\n"
          ]
        },
        {
          "output_type": "stream",
          "name": "stdout",
          "text": [
            "***************** Best Solution Parameters *****************\n",
            "* Min Volatility       : 0.0145\n",
            "* Bottom Perc.         : 0.0008\n",
            "* Top Perc.            : 0.9940\n",
            "************* Result for timeframe 1H (TRAIN) **************\n",
            "* Total Records        : 52039\n",
            "* Records after filter : 35221\n",
            "* Out Of Bounds        : 7858 (22.3%)\n",
            "* Inside Bounds        : 27363 (77.7%)\n",
            "************** Result for timeframe 1H (TEST) **************\n",
            "* Total Records        : 2016\n",
            "* Records after filter : 1382\n",
            "* Out Of Bounds        : 371 (26.8%)\n",
            "* Inside Bounds        : 1011 (73.2%)\n",
            "\n",
            "************************************************************\n",
            "***************** PROCESSING TIMEFRAME 1D ******************\n",
            "************************************************************\n"
          ]
        },
        {
          "output_type": "stream",
          "name": "stderr",
          "text": [
            "100%|██████████| 50/50 [00:01<00:00, 46.56it/s]"
          ]
        },
        {
          "output_type": "stream",
          "name": "stdout",
          "text": [
            "***************** Best Solution Parameters *****************\n",
            "* Min Volatility       : 0.0189\n",
            "* Bottom Perc.         : 0.0000\n",
            "* Top Perc.            : 0.9735\n",
            "************* Result for timeframe 1D (TRAIN) **************\n",
            "* Total Records        : 5048\n",
            "* Records after filter : 3155\n",
            "* Out Of Bounds        : 703 (22.3%)\n",
            "* Inside Bounds        : 2452 (77.7%)\n",
            "************** Result for timeframe 1D (TEST) **************\n",
            "* Total Records        : 191\n",
            "* Records after filter : 131\n",
            "* Out Of Bounds        : 36 (27.5%)\n",
            "* Inside Bounds        : 95 (72.5%)\n",
            "\n"
          ]
        },
        {
          "output_type": "stream",
          "name": "stderr",
          "text": [
            "\n"
          ]
        }
      ]
    },
    {
      "cell_type": "code",
      "source": [],
      "metadata": {
        "id": "RG1FAr0nQdj5"
      },
      "execution_count": 9,
      "outputs": []
    }
  ]
}