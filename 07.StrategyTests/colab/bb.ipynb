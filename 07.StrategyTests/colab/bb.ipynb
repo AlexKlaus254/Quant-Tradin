{
  "nbformat": 4,
  "nbformat_minor": 0,
  "metadata": {
    "colab": {
      "provenance": []
    },
    "kernelspec": {
      "name": "python3",
      "display_name": "Python 3"
    },
    "language_info": {
      "name": "python"
    }
  },
  "cells": [
    {
      "cell_type": "code",
      "source": [
        "!pip install pandas_ta"
      ],
      "metadata": {
        "colab": {
          "base_uri": "https://localhost:8080/"
        },
        "id": "bU4G0gi-gdc5",
        "outputId": "de9f54e5-dbfc-496f-843a-d399a3d549fd"
      },
      "execution_count": 1,
      "outputs": [
        {
          "output_type": "stream",
          "name": "stdout",
          "text": [
            "Looking in indexes: https://pypi.org/simple, https://us-python.pkg.dev/colab-wheels/public/simple/\n",
            "Collecting pandas_ta\n",
            "  Downloading pandas_ta-0.3.14b.tar.gz (115 kB)\n",
            "\u001b[2K     \u001b[90m━━━━━━━━━━━━━━━━━━━━━━━━━━━━━━━━━━━━━━━\u001b[0m \u001b[32m115.1/115.1 kB\u001b[0m \u001b[31m5.5 MB/s\u001b[0m eta \u001b[36m0:00:00\u001b[0m\n",
            "\u001b[?25h  Preparing metadata (setup.py) ... \u001b[?25l\u001b[?25hdone\n",
            "Requirement already satisfied: pandas in /usr/local/lib/python3.10/dist-packages (from pandas_ta) (1.5.3)\n",
            "Requirement already satisfied: python-dateutil>=2.8.1 in /usr/local/lib/python3.10/dist-packages (from pandas->pandas_ta) (2.8.2)\n",
            "Requirement already satisfied: pytz>=2020.1 in /usr/local/lib/python3.10/dist-packages (from pandas->pandas_ta) (2022.7.1)\n",
            "Requirement already satisfied: numpy>=1.21.0 in /usr/local/lib/python3.10/dist-packages (from pandas->pandas_ta) (1.22.4)\n",
            "Requirement already satisfied: six>=1.5 in /usr/local/lib/python3.10/dist-packages (from python-dateutil>=2.8.1->pandas->pandas_ta) (1.16.0)\n",
            "Building wheels for collected packages: pandas_ta\n",
            "  Building wheel for pandas_ta (setup.py) ... \u001b[?25l\u001b[?25hdone\n",
            "  Created wheel for pandas_ta: filename=pandas_ta-0.3.14b0-py3-none-any.whl size=218908 sha256=ee108f3e23bfff4b4c9908b58e813fda5f7c4a2d3d073325509524e60e4f409b\n",
            "  Stored in directory: /root/.cache/pip/wheels/69/00/ac/f7fa862c34b0e2ef320175100c233377b4c558944f12474cf0\n",
            "Successfully built pandas_ta\n",
            "Installing collected packages: pandas_ta\n",
            "Successfully installed pandas_ta-0.3.14b0\n"
          ]
        }
      ]
    },
    {
      "cell_type": "code",
      "execution_count": 2,
      "metadata": {
        "id": "-LjpN-v8Btt7"
      },
      "outputs": [],
      "source": [
        "import numpy as np\n",
        "import pandas as pd\n",
        "import pandas_ta as ta"
      ]
    },
    {
      "cell_type": "code",
      "source": [
        "try:\n",
        "    from urllib.request import urlretrieve\n",
        "except ImportError:\n",
        "    from urllib import urlretrieve\n",
        "\n",
        "# Download data\n",
        "print(f'Downloading OIH_adjusted.txt...')\n",
        "urlretrieve('http://api.kibot.com/?action=history&symbol=OIH&interval=1&unadjusted=0&bp=1&user=guest', 'OIH_adjusted.txt')\n",
        "\n",
        "# Read data and assign names to the columns\n",
        "df = pd.read_csv('OIH_adjusted.txt')\n",
        "df.columns = ['date','time','open','high','low','close','volume']\n",
        "\n",
        "# Combine date and time in the date column\n",
        "df['date'] = df['date'] + ' ' + df['time']\n",
        "df['date'] = pd.to_datetime(df['date'], format='%m/%d/%Y %H:%M')\n",
        "df = df[['date','open','high','low','close','volume']]\n",
        "\n",
        "# Sort by date and assign the date as index\n",
        "df = df.sort_values('date').reset_index(drop=True).set_index('date')\n",
        "\n",
        "# Convert the data to different timeframes & save them for future uses\n",
        "AGGREGATION = {'open': 'first', 'high': 'max', 'low': 'min', 'close': 'last', 'volume': 'sum'}\n",
        "TIMEFRAMES = ['5T', '15T', '1H', '1D']\n",
        "\n",
        "for timeframe in TIMEFRAMES:\n",
        "    print(f'Converting & Saving {timeframe} Data...')\n",
        "    df = df.resample(timeframe).agg(AGGREGATION).dropna()\n",
        "    df.to_csv(f'OIH_{timeframe}.csv.gz', compression='gzip')\n"
      ],
      "metadata": {
        "colab": {
          "base_uri": "https://localhost:8080/"
        },
        "id": "vwVEhwTODY4n",
        "outputId": "1058db1f-c120-4d0a-a44a-f338402d4e23"
      },
      "execution_count": 3,
      "outputs": [
        {
          "output_type": "stream",
          "name": "stdout",
          "text": [
            "Downloading OIH_adjusted.txt...\n",
            "Converting & Saving 5T Data...\n",
            "Converting & Saving 15T Data...\n",
            "Converting & Saving 1H Data...\n",
            "Converting & Saving 1D Data...\n"
          ]
        }
      ]
    },
    {
      "cell_type": "code",
      "source": [
        "TIMEFRAMES = ['5T', '15T', '1H', '1D']"
      ],
      "metadata": {
        "id": "36mzjkH6B-7a"
      },
      "execution_count": 4,
      "outputs": []
    },
    {
      "cell_type": "code",
      "source": [
        "# Using this method, you can obtain buy and sell signals determined by the selected strategy.\n",
        "# The resulting signals are represented as a series of numerical values:\n",
        "#   '1' indicating a buy signal,\n",
        "#   '0' indicating a hold signal, and\n",
        "#   '-1' indicating a sell signal\n",
        "def get_signals(df):\n",
        "\n",
        "    pd.options.mode.chained_assignment = None\n",
        "    \n",
        "    df.ta.bbands(close=df['close'], length=20, append=True)    \n",
        "    df = df.dropna()\n",
        "    \n",
        "    df['high_limit'] = df['BBU_20_2.0'] + (df['BBU_20_2.0'] - df['BBL_20_2.0']) / 2\n",
        "    df['low_limit'] = df['BBL_20_2.0'] - (df['BBU_20_2.0'] - df['BBL_20_2.0']) / 2\n",
        "    df['close_percentage'] = np.clip((df['close'] - df['low_limit']) / (df['high_limit'] - df['low_limit']), 0, 1)\n",
        "    df['volatility'] = df['BBU_20_2.0'] / df['BBL_20_2.0'] - 1\n",
        "    min_volatility = df['volatility'].mean() - df['volatility'].std()\n",
        "    \n",
        "    # Buy Signals\n",
        "    df['signal'] = np.where((df['volatility'] > min_volatility) & (df['close_percentage'] < 0.25), 1, 0)\n",
        "    \n",
        "    # Sell Signals\n",
        "    df['signal'] = np.where((df['close_percentage'] > 0.75), -1, df['signal'])\n",
        "    \n",
        "    return df['signal']\n",
        "\n",
        "# Using this method, you can visualize the results of a simulated long position strategy.\n",
        "# Note that it assumes the purchase of one share per transaction and does not account for any fees.\n",
        "def show_stategy_result(timeframe, df):\n",
        "\n",
        "    waiting_for_close = False\n",
        "    open_price = 0\n",
        "\n",
        "    profit = 0.0\n",
        "    wins = 0\n",
        "    losses = 0\n",
        "\n",
        "    for i in range(len(df)):\n",
        "\n",
        "        signal = df.iloc[i]['signal']\n",
        "\n",
        "        if signal == 1 and not waiting_for_close:\n",
        "            waiting_for_close = True\n",
        "            open_price = df.iloc[i]['close']\n",
        "\n",
        "        elif signal == -1 and waiting_for_close:\n",
        "            waiting_for_close = False\n",
        "            close_price = df.iloc[i]['close']\n",
        "\n",
        "            profit += close_price - open_price\n",
        "            wins = wins + (1 if (close_price - open_price) > 0 else 0)\n",
        "            losses = losses + (1 if (close_price - open_price) < 0 else 0)\n",
        "\n",
        "    print(f' Result for timeframe {timeframe} '.center(60, '*'))\n",
        "    print(f'* Profit/Loss: {profit:.2f}')\n",
        "    print(f\"* Wins: {wins} - Losses: {losses}\")\n",
        "    print(f\"* Win Rate: {100 * (wins/(wins + losses)):6.2f}%\")\n"
      ],
      "metadata": {
        "id": "Olt-N2rNCBa6"
      },
      "execution_count": 5,
      "outputs": []
    },
    {
      "cell_type": "code",
      "source": [
        "# Iterate over each timeframe, apply the strategy and show the result\n",
        "for timeframe in TIMEFRAMES:\n",
        "\n",
        "    # Read the data\n",
        "    df = pd.read_csv(f'OIH_{timeframe}.csv.gz', compression='gzip')\n",
        "\n",
        "    # Add the signals to each row\n",
        "    df['signal'] = get_signals(df)\n",
        "\n",
        "    # Get the result of the strategy\n",
        "    show_stategy_result(timeframe, df)"
      ],
      "metadata": {
        "id": "z4TdOQA7DAoq",
        "colab": {
          "base_uri": "https://localhost:8080/"
        },
        "outputId": "462a7803-30f7-4049-9148-be442cb93ec2"
      },
      "execution_count": 6,
      "outputs": [
        {
          "output_type": "stream",
          "name": "stdout",
          "text": [
            "***************** Result for timeframe 5T ******************\n",
            "* Profit/Loss: 2403.68\n",
            "* Wins: 3379 - Losses: 1851\n",
            "* Win Rate:  64.61%\n",
            "***************** Result for timeframe 15T *****************\n",
            "* Profit/Loss: 2220.58\n",
            "* Wins: 1369 - Losses: 726\n",
            "* Win Rate:  65.35%\n",
            "***************** Result for timeframe 1H ******************\n",
            "* Profit/Loss: 251.15\n",
            "* Wins: 417 - Losses: 203\n",
            "* Win Rate:  67.26%\n",
            "***************** Result for timeframe 1D ******************\n",
            "* Profit/Loss: -122.69\n",
            "* Wins: 43 - Losses: 19\n",
            "* Win Rate:  69.35%\n"
          ]
        }
      ]
    }
  ]
}