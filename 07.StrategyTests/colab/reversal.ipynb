{
  "nbformat": 4,
  "nbformat_minor": 0,
  "metadata": {
    "colab": {
      "provenance": []
    },
    "kernelspec": {
      "name": "python3",
      "display_name": "Python 3"
    },
    "language_info": {
      "name": "python"
    }
  },
  "cells": [
    {
      "cell_type": "code",
      "execution_count": 1,
      "metadata": {
        "id": "-LjpN-v8Btt7"
      },
      "outputs": [],
      "source": [
        "import numpy as np\n",
        "import pandas as pd"
      ]
    },
    {
      "cell_type": "code",
      "source": [
        "try:\n",
        "    from urllib.request import urlretrieve\n",
        "except ImportError:\n",
        "    from urllib import urlretrieve\n",
        "\n",
        "# Download data\n",
        "print(f'Downloading OIH_adjusted.txt...')\n",
        "urlretrieve('http://api.kibot.com/?action=history&symbol=OIH&interval=1&unadjusted=0&bp=1&user=guest', 'OIH_adjusted.txt')\n",
        "\n",
        "# Read data and assign names to the columns\n",
        "df = pd.read_csv('OIH_adjusted.txt')\n",
        "df.columns = ['date','time','open','high','low','close','volume']\n",
        "\n",
        "# Combine date and time in the date column\n",
        "df['date'] = df['date'] + ' ' + df['time']\n",
        "df['date'] = pd.to_datetime(df['date'], format='%m/%d/%Y %H:%M')\n",
        "df = df[['date','open','high','low','close','volume']]\n",
        "\n",
        "# Sort by date and assign the date as index\n",
        "df = df.sort_values('date').reset_index(drop=True).set_index('date')\n",
        "\n",
        "# Convert the data to different timeframes & save them for future uses\n",
        "AGGREGATION = {'open': 'first', 'high': 'max', 'low': 'min', 'close': 'last', 'volume': 'sum'}\n",
        "TIMEFRAMES = ['5T', '15T', '1H', '1D']\n",
        "\n",
        "for timeframe in TIMEFRAMES:\n",
        "    print(f'Converting & Saving {timeframe} Data...')\n",
        "    df = df.resample(timeframe).agg(AGGREGATION).dropna()\n",
        "    df.to_csv(f'OIH_{timeframe}.csv.gz', compression='gzip')\n"
      ],
      "metadata": {
        "colab": {
          "base_uri": "https://localhost:8080/"
        },
        "id": "vwVEhwTODY4n",
        "outputId": "5ab2147f-46be-41ea-c684-795bb42ea04b"
      },
      "execution_count": 2,
      "outputs": [
        {
          "output_type": "stream",
          "name": "stdout",
          "text": [
            "Downloading OIH_adjusted.txt...\n",
            "Converting & Saving 5T Data...\n",
            "Converting & Saving 15T Data...\n",
            "Converting & Saving 1H Data...\n",
            "Converting & Saving 1D Data...\n"
          ]
        }
      ]
    },
    {
      "cell_type": "code",
      "source": [
        "TIMEFRAMES = ['5T', '15T', '1H', '1D']"
      ],
      "metadata": {
        "id": "36mzjkH6B-7a"
      },
      "execution_count": 3,
      "outputs": []
    },
    {
      "cell_type": "code",
      "source": [
        "# Using this method, you can obtain buy and sell signals determined by the selected strategy.\n",
        "# The resulting signals are represented as a series of numerical values:\n",
        "#   '1' indicating a buy signal,\n",
        "#   '0' indicating a hold signal, and\n",
        "#   '-1' indicating a sell signal\n",
        "def get_signals(df):\n",
        "\n",
        "    # Buy Signal\n",
        "    df['signal'] = np.where((df['low'] < df['low'].shift()) & (df['close'] > df['high'].shift()) & (df['open'] < df['close'].shift()), 1, 0)\n",
        "\n",
        "    # Sell Signal\n",
        "    df['signal'] = np.where((df['high'] > df['high'].shift()) & (df['close'] < df['low'].shift()) & (df['open'] > df['open'].shift()), -1, df['signal'])\n",
        "\n",
        "    return df['signal']\n",
        "\n",
        "# Using this method, you can visualize the results of a simulated long position strategy.\n",
        "# Note that it assumes the purchase of one share per transaction and does not account for any fees.\n",
        "def show_stategy_result(timeframe, df):\n",
        "\n",
        "    waiting_for_close = False\n",
        "    open_price = 0\n",
        "\n",
        "    profit = 0.0\n",
        "    wins = 0\n",
        "    losses = 0\n",
        "\n",
        "    for i in range(len(df)):\n",
        "\n",
        "        signal = df.iloc[i]['signal']\n",
        "\n",
        "        if signal == 1 and not waiting_for_close:\n",
        "            waiting_for_close = True\n",
        "            open_price = df.iloc[i]['close']\n",
        "\n",
        "        elif signal == -1 and waiting_for_close:\n",
        "            waiting_for_close = False\n",
        "            close_price = df.iloc[i]['close']\n",
        "\n",
        "            profit += close_price - open_price\n",
        "            wins = wins + (1 if (close_price - open_price) > 0 else 0)\n",
        "            losses = losses + (1 if (close_price - open_price) < 0 else 0)\n",
        "\n",
        "    print(f' Result for timeframe {timeframe} '.center(60, '*'))\n",
        "    print(f'* Profit/Loss: {profit:.2f}')\n",
        "    print(f\"* Wins: {wins} - Losses: {losses}\")\n",
        "    print(f\"* Win Rate: {100 * (wins/(wins + losses)):6.2f}%\")\n"
      ],
      "metadata": {
        "id": "Olt-N2rNCBa6"
      },
      "execution_count": 4,
      "outputs": []
    },
    {
      "cell_type": "code",
      "source": [
        "# Iterate over each timeframe, apply the strategy and show the result\n",
        "for timeframe in TIMEFRAMES:\n",
        "\n",
        "    # Read the data\n",
        "    df = pd.read_csv(f'OIH_{timeframe}.csv.gz', compression='gzip')\n",
        "\n",
        "    # Add the signals to each row\n",
        "    df['signal'] = get_signals(df)\n",
        "\n",
        "    # Get the result of the strategy\n",
        "    show_stategy_result(timeframe, df)"
      ],
      "metadata": {
        "id": "z4TdOQA7DAoq",
        "colab": {
          "base_uri": "https://localhost:8080/"
        },
        "outputId": "66e8b905-56af-434f-8037-7e8a63fb23fc"
      },
      "execution_count": 5,
      "outputs": [
        {
          "output_type": "stream",
          "name": "stdout",
          "text": [
            "***************** Result for timeframe 5T ******************\n",
            "* Profit/Loss: -398.47\n",
            "* Wins: 1676 - Losses: 1861\n",
            "* Win Rate:  47.38%\n",
            "***************** Result for timeframe 15T *****************\n",
            "* Profit/Loss: -237.29\n",
            "* Wins: 617 - Losses: 787\n",
            "* Win Rate:  43.95%\n",
            "***************** Result for timeframe 1H ******************\n",
            "* Profit/Loss: -4.06\n",
            "* Wins: 292 - Losses: 290\n",
            "* Win Rate:  50.17%\n",
            "***************** Result for timeframe 1D ******************\n",
            "* Profit/Loss: 130.31\n",
            "* Wins: 24 - Losses: 19\n",
            "* Win Rate:  55.81%\n"
          ]
        }
      ]
    }
  ]
}