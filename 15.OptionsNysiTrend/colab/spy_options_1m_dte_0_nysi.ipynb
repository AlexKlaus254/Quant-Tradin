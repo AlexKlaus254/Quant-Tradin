{
  "nbformat": 4,
  "nbformat_minor": 0,
  "metadata": {
    "colab": {
      "provenance": []
    },
    "kernelspec": {
      "name": "python3",
      "display_name": "Python 3"
    },
    "language_info": {
      "name": "python"
    }
  },
  "cells": [
    {
      "cell_type": "markdown",
      "source": [
        "Copy the files **spy_dte_0.csv.gz** and **nysi.csv.gz** located in https://github.com/crapher/medium/tree/main/15.OptionsNysiTrend/data to your colab folder"
      ],
      "metadata": {
        "id": "_XQkxgIHPS8z"
      }
    },
    {
      "cell_type": "code",
      "execution_count": 1,
      "metadata": {
        "id": "-LjpN-v8Btt7"
      },
      "outputs": [],
      "source": [
        "import warnings\n",
        "warnings.filterwarnings(\"ignore\")\n",
        "\n",
        "import numpy as np\n",
        "import pandas as pd"
      ]
    },
    {
      "cell_type": "code",
      "source": [
        "# Configuration\n",
        "pd.set_option('display.float_format', lambda x: '%.4f' % x)"
      ],
      "metadata": {
        "id": "ov9plUUMnEso"
      },
      "execution_count": 2,
      "outputs": []
    },
    {
      "cell_type": "code",
      "source": [
        "# Constants\n",
        "BARS = 15        # Range: 0 - 30\n",
        "STOP_LOSS = 0.7  # Range: 0 - 1 (0 -> 0% | 1 -> 100%)\n",
        "POO = 0.01       # Range: 0 - 1 (0 -> 0% | 1 -> 100%)\n",
        "\n",
        "OPTIONS_FILE='spy_dte_0.csv.gz'\n",
        "NYSI_FILE='nysi.csv.gz'\n",
        "\n",
        "FEES_PER_CONTRACT = 0.6\n",
        "CASH = 1000"
      ],
      "metadata": {
        "id": "I1F7CD1kQPEx"
      },
      "execution_count": 3,
      "outputs": []
    },
    {
      "cell_type": "code",
      "source": [
        "### Read Files ###\n",
        "df_base = pd.read_csv(OPTIONS_FILE, header=0)\n",
        "df_base['date'] = pd.to_datetime(df_base['date'])\n",
        "\n",
        "df_nysi = pd.read_csv(NYSI_FILE, header=0)"
      ],
      "metadata": {
        "id": "36mzjkH6B-7a"
      },
      "execution_count": 4,
      "outputs": []
    },
    {
      "cell_type": "code",
      "source": [
        "### Get the trend of each day to see which option we should buy ###\n",
        "\n",
        "# Get first bar (To get the Option Open Price)\n",
        "df_day_open = df_base[(df_base['date'].dt.hour == 9) & (df_base['date'].dt.minute == 30)]\n",
        "\n",
        "# Get *BARS* bar (To get Underlying Close Price)\n",
        "df = df_base[(df_base['date'].dt.hour == 9) & (df_base['date'].dt.minute == 30 + BARS - 1)]\n",
        "\n",
        "# Add the Option Open Price\n",
        "df = df.merge(df_day_open[['expire_date','strike','kind','open']],\n",
        "              how='left',\n",
        "              left_on=['expire_date','strike','kind'],\n",
        "              right_on=['expire_date','strike','kind'],\n",
        "              suffixes=('','_dayopen'))\n",
        "\n",
        "# Keep the first open value for each strike\n",
        "df = df.rename(columns={'open_dayopen': 'option_open'})\n",
        "\n",
        "# Calculate the NYSI trend\n",
        "df_nysi['day-1'] = df_nysi['value'].shift()\n",
        "df_nysi['day-2'] = df_nysi['day-1'].shift()\n",
        "df_nysi['trend'] = np.where(df_nysi['day-1'] > df_nysi['day-2'], 1,\n",
        "                   np.where(df_nysi['day-1'] < df_nysi['day-2'], -1,\n",
        "                   np.NaN))\n",
        "df_nysi = df_nysi[['date', 'trend']]\n",
        "\n",
        "# Add Trend to df\n",
        "df = df.merge(df_nysi,\n",
        "              how='left',\n",
        "              left_on=['expire_date'],\n",
        "              right_on=['date'],\n",
        "              suffixes=['','_nysi'])\n",
        "\n",
        "# Remove all previous merged values for trend calculation and rows with NaN values\n",
        "df = df.loc[:,~df.columns.str.endswith('_nysi')]\n",
        "df = df.dropna()"
      ],
      "metadata": {
        "id": "Eck0aed5QLR4"
      },
      "execution_count": 5,
      "outputs": []
    },
    {
      "cell_type": "code",
      "source": [
        "### Get the closest ITM option ###\n",
        "\n",
        "# Filter all puts when trend is going down and calls when trend is going up\n",
        "df = df[((df['kind'] == 'P') & (df['trend'] == -1)) |\n",
        "        ((df['kind'] == 'C') & (df['trend'] == 1))]\n",
        "\n",
        "# Calculate Strike distance from Underlying price\n",
        "df['distance'] = df['trend'] * (df['close_underlying'] - df['strike'])\n",
        "\n",
        "# Remove OTM & ATM Options\n",
        "df = df[df['distance'] > 0]\n",
        "\n",
        "# Get the closest ITM options\n",
        "idx = df.groupby(['expire_date'])['distance'].transform(min) == df['distance']\n",
        "df = df[idx]\n",
        "\n",
        "# Remove distance column\n",
        "df = df.drop('distance', axis=1)"
      ],
      "metadata": {
        "id": "NpX4bi5qnTM4"
      },
      "execution_count": 6,
      "outputs": []
    },
    {
      "cell_type": "code",
      "source": [
        "### Calculate close points ###\n",
        "\n",
        "# Get trade bars\n",
        "df_trade = df_base[((df_base['date'].dt.hour == 9) & (df_base['date'].dt.minute > 30 + BARS - 1)) |\n",
        "                    (df_base['date'].dt.hour >= 10)]\n",
        "\n",
        "# Get Option Open and Close Points\n",
        "df = df_trade.merge(df[['expire_date','kind','strike','option_open']],\n",
        "                    how='right',\n",
        "                    left_on=['expire_date','kind','strike'],\n",
        "                    right_on=['expire_date','kind','strike'])\n",
        "\n",
        "df.loc[:,'open_point'] = np.where((df['open'] >= df['option_open'] * (1 + POO)) &\n",
        "                                  ((df['open'].shift() < df['option_open'].shift() * (1 + POO)) |\n",
        "                                   (df['expire_date'] != df['expire_date'].shift())), 1, 0)\n",
        "\n",
        "df.loc[:,'stop_loss'] = df['option_open'] * STOP_LOSS\n",
        "df.loc[:,'last_date'] = df.groupby(['expire_date','kind','strike'])['date'].transform('last')\n",
        "\n",
        "df.loc[:,'close_point'] = np.where(((df['close'] <= df['stop_loss']) &\n",
        "                                    ((df['close'].shift() > df['stop_loss'].shift()) | (df['expire_date'] != df['expire_date'].shift()))) |\n",
        "                                   (df['last_date'] == df['date']), 1, 0)\n",
        "\n",
        "df_tmp = df[(df['open_point'] - df['close_point']) == 0]\n",
        "df = df[(df['open_point'] - df['close_point']) != 0]\n",
        "df.loc[:,'open_point'] = np.where((df['open_point'] - df['close_point']) == (df['open_point'].shift(-1) - df['close_point'].shift(-1)), 0, df['open_point'])\n",
        "\n",
        "df = pd.concat([df, df_tmp])\n",
        "df = df.sort_values(by=['date','expire_date','kind','strike'])\n",
        "\n",
        "# Get Open Price, Close Price, Open Date, and Close Date\n",
        "df = df[(df['open_point'] != 0) | (df['close_point'] != 0)]\n",
        "\n",
        "df['open_price'] = np.where(df['open_point'] == 1, df['open'], np.NaN)\n",
        "df['close_price'] = np.where(df['close_point'] == 1, df['close'], np.NaN)\n",
        "df['close_price'] = df['close_price'].fillna(method='bfill', limit=1)\n",
        "\n",
        "df['close_date'] = np.where(df['open_point'] - df['close_point'] == 0, df['date'], df['date'].shift(-1))\n",
        "df = df.rename(columns={'date':'open_date'})\n",
        "\n",
        "# Clean all Rows with NaN values (This is going to remove all invalid closes)\n",
        "df = df.dropna()\n",
        "\n",
        "# Clean all the unneeded columns\n",
        "df = df.drop(['last_date','open_point','close_point','open','close'], axis=1)\n",
        "df = df.loc[:,~df.columns.str.endswith('_underlying')]\n",
        "\n",
        "# Save the trigger of the closing\n",
        "df.loc[:,'trigger'] = np.where(df['close_price'] <= df['stop_loss'], 'SL', 'EXPIRED')"
      ],
      "metadata": {
        "id": "vzPXDAynnTKZ"
      },
      "execution_count": 7,
      "outputs": []
    },
    {
      "cell_type": "code",
      "source": [
        "### Generate result ###\n",
        "\n",
        "# Calculate the variables required in the result\n",
        "df['contracts'] = (CASH // (100 * df['open_price'])).astype(int)\n",
        "df['fees'] = np.where(df['trigger'] == 'EXPIRED', FEES_PER_CONTRACT, 2 * FEES_PER_CONTRACT) * df['contracts']\n",
        "df['gross_result'] = df['contracts'] * 100 * (df['close_price'] - df['open_price'])\n",
        "df['net_result'] = df['gross_result'] - df['fees']\n",
        "\n",
        "sl = len(df[df[\"trigger\"] == \"SL\"])\n",
        "exp = len(df[df[\"trigger\"] != \"SL\"])\n",
        "total = len(df)\n",
        "\n",
        "# Configuration\n",
        "print(f' CONFIGURATION '.center(70, '*'))\n",
        "print(f'* Bars: {BARS}')\n",
        "print(f'* Stop Loss: {STOP_LOSS * 100:.0f}%')\n",
        "print(f'* Percentage over price: {POO * 100:.0f}%')\n",
        "\n",
        "# Show the Total Result\n",
        "print(f' SUMMARIZED RESULT '.center(70, '*'))\n",
        "print(f'* Trading Days: {len(df[\"expire_date\"].unique())}')\n",
        "print(f'* Operations: {len(df)} - Stop Loss: {sl} ({100 * sl / total:.2f}%) - Expired: {exp} ({100 * exp / total:.2f}%)')\n",
        "print(f'* Gross PnL: $ {df[\"gross_result\"].sum():.2f}')\n",
        "print(f'* Net PnL: $ {df[\"net_result\"].sum():.2f}')\n",
        "\n",
        "# Show The Monthly Result\n",
        "print(f' MONTHLY DETAIL RESULT '.center(70, '*'))\n",
        "df_monthly = df[['expire_date','gross_result','net_result']]\n",
        "df_monthly['year_month'] = df_monthly['expire_date'].str[0:7]\n",
        "df_monthly = df_monthly.groupby(['year_month'])[['gross_result','net_result']].sum()\n",
        "print(df_monthly)"
      ],
      "metadata": {
        "colab": {
          "base_uri": "https://localhost:8080/"
        },
        "id": "5_9jY3TtnTH-",
        "outputId": "19135f82-2600-4dc3-8eaf-4af0cca36a37"
      },
      "execution_count": 8,
      "outputs": [
        {
          "output_type": "stream",
          "name": "stdout",
          "text": [
            "*************************** CONFIGURATION ****************************\n",
            "* Bars: 15\n",
            "* Stop Loss: 70%\n",
            "* Percentage over price: 1%\n",
            "************************* SUMMARIZED RESULT **************************\n",
            "* Trading Days: 316\n",
            "* Operations: 497 - Stop Loss: 349 (70.22%) - Expired: 148 (29.78%)\n",
            "* Gross PnL: $ 40715.00\n",
            "* Net PnL: $ 37778.60\n",
            "*********************** MONTHLY DETAIL RESULT ************************\n",
            "            gross_result  net_result\n",
            "year_month                          \n",
            "2021-06       -1325.0000  -1383.2000\n",
            "2021-07        2453.0000   2278.4000\n",
            "2021-08         174.0000     -5.4000\n",
            "2021-09        4343.0000   4230.8000\n",
            "2021-10        -523.0000   -635.2000\n",
            "2021-11         197.0000     30.8000\n",
            "2021-12        4062.0000   3910.2000\n",
            "2022-01       -1909.0000  -2048.2000\n",
            "2022-02       -1028.0000  -1106.6000\n",
            "2022-03        2415.0000   2337.6000\n",
            "2022-04        6724.0000   6676.0000\n",
            "2022-05        1039.0000    992.2000\n",
            "2022-06        -634.0000   -680.8000\n",
            "2022-07         166.0000     83.2000\n",
            "2022-08        7999.0000   7901.2000\n",
            "2022-09        2809.0000   2735.2000\n",
            "2022-10        3108.0000   3038.4000\n",
            "2022-11         987.0000    892.8000\n",
            "2022-12        1061.0000    931.4000\n",
            "2023-01        7402.0000   7274.8000\n",
            "2023-02       -1430.0000  -1587.2000\n",
            "2023-03        3094.0000   2936.8000\n",
            "2023-04        1245.0000   1066.8000\n",
            "2023-05       -5794.0000  -6043.6000\n",
            "2023-06        4080.0000   3952.2000\n"
          ]
        }
      ]
    }
  ]
}