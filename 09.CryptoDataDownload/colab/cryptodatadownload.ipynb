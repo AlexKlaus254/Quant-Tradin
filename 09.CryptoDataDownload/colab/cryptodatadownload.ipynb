{
  "nbformat": 4,
  "nbformat_minor": 0,
  "metadata": {
    "colab": {
      "provenance": []
    },
    "kernelspec": {
      "name": "python3",
      "display_name": "Python 3"
    },
    "language_info": {
      "name": "python"
    }
  },
  "cells": [
    {
      "cell_type": "code",
      "execution_count": 1,
      "metadata": {
        "id": "LSvNgfG_Lz1T"
      },
      "outputs": [],
      "source": [
        "import io\n",
        "import requests as rq\n",
        "import pandas as pd"
      ]
    },
    {
      "cell_type": "code",
      "source": [
        "# Constants\n",
        "URL_FORMAT='https://www.cryptodatadownload.com/cdd/Gemini_ETHUSD_{}_minute.csv'"
      ],
      "metadata": {
        "id": "NTLvmhz8MUVQ"
      },
      "execution_count": 2,
      "outputs": []
    },
    {
      "cell_type": "code",
      "source": [
        "df = pd.DataFrame()\n",
        "\n",
        "# Iterate the years we want to download\n",
        "for year in range(2016, 2024):\n",
        "\n",
        "    url = URL_FORMAT.format(year)\n",
        "\n",
        "    # Download the information\n",
        "    r = rq.get(url, verify=False)\n",
        "    r.raise_for_status()\n",
        "\n",
        "    # Prepare and generate the temporary dataframe with the downloaded information\n",
        "    tmp_df = pd.read_csv(io.StringIO(r.text), header=1)\n",
        "    tmp_df = tmp_df.drop(['unix','symbol'], axis=1)\n",
        "    \n",
        "    # If there are 2 Volume columns, remove the last one (USD)\n",
        "    if 'Volume' in tmp_df.columns[-2] and 'Volume' in tmp_df.columns[-1]:\n",
        "        tmp_df = tmp_df.iloc[: , :-1]\n",
        "\n",
        "    tmp_df['date'] = pd.to_datetime(tmp_df['date'])\n",
        "    tmp_df = tmp_df.sort_values('date').reset_index(drop=True).set_index('date')\n",
        "    \n",
        "    # Add the Temporary dataframe to the main dataframe\n",
        "    df = pd.concat([df, tmp_df])\n",
        "\n",
        "# Rename the columns to lowercase and replace any space in the column names with underscores\n",
        "df.columns = ['open','high','low','close','volume']\n",
        "\n",
        "# Set the index name and reset the index\n",
        "df.index.name = 'date'"
      ],
      "metadata": {
        "colab": {
          "base_uri": "https://localhost:8080/"
        },
        "id": "lCp63i6nL53u",
        "outputId": "ce1bc913-8e03-4583-cf94-81ab49498375"
      },
      "execution_count": 3,
      "outputs": [
        {
          "output_type": "stream",
          "name": "stderr",
          "text": [
            "/usr/local/lib/python3.10/dist-packages/urllib3/connectionpool.py:1045: InsecureRequestWarning: Unverified HTTPS request is being made to host 'www.cryptodatadownload.com'. Adding certificate verification is strongly advised. See: https://urllib3.readthedocs.io/en/1.26.x/advanced-usage.html#ssl-warnings\n",
            "  warnings.warn(\n",
            "/usr/local/lib/python3.10/dist-packages/urllib3/connectionpool.py:1045: InsecureRequestWarning: Unverified HTTPS request is being made to host 'www.cryptodatadownload.com'. Adding certificate verification is strongly advised. See: https://urllib3.readthedocs.io/en/1.26.x/advanced-usage.html#ssl-warnings\n",
            "  warnings.warn(\n",
            "/usr/local/lib/python3.10/dist-packages/urllib3/connectionpool.py:1045: InsecureRequestWarning: Unverified HTTPS request is being made to host 'www.cryptodatadownload.com'. Adding certificate verification is strongly advised. See: https://urllib3.readthedocs.io/en/1.26.x/advanced-usage.html#ssl-warnings\n",
            "  warnings.warn(\n",
            "/usr/local/lib/python3.10/dist-packages/urllib3/connectionpool.py:1045: InsecureRequestWarning: Unverified HTTPS request is being made to host 'www.cryptodatadownload.com'. Adding certificate verification is strongly advised. See: https://urllib3.readthedocs.io/en/1.26.x/advanced-usage.html#ssl-warnings\n",
            "  warnings.warn(\n",
            "/usr/local/lib/python3.10/dist-packages/urllib3/connectionpool.py:1045: InsecureRequestWarning: Unverified HTTPS request is being made to host 'www.cryptodatadownload.com'. Adding certificate verification is strongly advised. See: https://urllib3.readthedocs.io/en/1.26.x/advanced-usage.html#ssl-warnings\n",
            "  warnings.warn(\n",
            "/usr/local/lib/python3.10/dist-packages/urllib3/connectionpool.py:1045: InsecureRequestWarning: Unverified HTTPS request is being made to host 'www.cryptodatadownload.com'. Adding certificate verification is strongly advised. See: https://urllib3.readthedocs.io/en/1.26.x/advanced-usage.html#ssl-warnings\n",
            "  warnings.warn(\n",
            "/usr/local/lib/python3.10/dist-packages/urllib3/connectionpool.py:1045: InsecureRequestWarning: Unverified HTTPS request is being made to host 'www.cryptodatadownload.com'. Adding certificate verification is strongly advised. See: https://urllib3.readthedocs.io/en/1.26.x/advanced-usage.html#ssl-warnings\n",
            "  warnings.warn(\n",
            "/usr/local/lib/python3.10/dist-packages/urllib3/connectionpool.py:1045: InsecureRequestWarning: Unverified HTTPS request is being made to host 'www.cryptodatadownload.com'. Adding certificate verification is strongly advised. See: https://urllib3.readthedocs.io/en/1.26.x/advanced-usage.html#ssl-warnings\n",
            "  warnings.warn(\n"
          ]
        }
      ]
    },
    {
      "cell_type": "code",
      "source": [
        "# Convert the data to different timeframes & save them for future uses\n",
        "AGGREGATION = {'open': 'first', 'high': 'max', 'low': 'min', 'close': 'last', 'volume': 'sum'}\n",
        "TIMEFRAMES = ['1T', '5T', '15T', '1H', '1D']\n",
        "\n",
        "for timeframe in TIMEFRAMES:\n",
        "    print(f'Converting & Saving {timeframe} Data...')\n",
        "    df = df.resample(timeframe).agg(AGGREGATION).dropna()\n",
        "    df.to_csv(f'OIH_{timeframe}.csv.gz', compression='gzip')    "
      ],
      "metadata": {
        "colab": {
          "base_uri": "https://localhost:8080/"
        },
        "id": "WnxNJtOvL_Ul",
        "outputId": "16ef268e-64f4-44fc-f798-fb05cbda90c6"
      },
      "execution_count": 4,
      "outputs": [
        {
          "output_type": "stream",
          "name": "stdout",
          "text": [
            "Converting & Saving 1T Data...\n",
            "Converting & Saving 5T Data...\n",
            "Converting & Saving 15T Data...\n",
            "Converting & Saving 1H Data...\n",
            "Converting & Saving 1D Data...\n"
          ]
        }
      ]
    },
    {
      "cell_type": "code",
      "source": [],
      "metadata": {
        "id": "iAdpoQ4sQVW1"
      },
      "execution_count": 4,
      "outputs": []
    }
  ]
}