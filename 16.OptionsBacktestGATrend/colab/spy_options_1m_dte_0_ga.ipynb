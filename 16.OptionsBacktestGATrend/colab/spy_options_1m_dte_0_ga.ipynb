{
  "nbformat": 4,
  "nbformat_minor": 0,
  "metadata": {
    "colab": {
      "provenance": []
    },
    "kernelspec": {
      "name": "python3",
      "display_name": "Python 3"
    },
    "language_info": {
      "name": "python"
    }
  },
  "cells": [
    {
      "cell_type": "markdown",
      "source": [
        "Copy the files **spy_dte_0.csv.gz** and **spy.2008.2021.csv.gz** located in https://github.com/crapher/medium/tree/main/16.OptionsBacktestGATrend/data to your colab folder"
      ],
      "metadata": {
        "id": "_XQkxgIHPS8z"
      }
    },
    {
      "cell_type": "code",
      "source": [
        "!pip install pygad"
      ],
      "metadata": {
        "colab": {
          "base_uri": "https://localhost:8080/"
        },
        "id": "e7-C2stv_Crj",
        "outputId": "eba90d4e-adc2-4719-c643-dfd5c1018382"
      },
      "execution_count": 1,
      "outputs": [
        {
          "output_type": "stream",
          "name": "stdout",
          "text": [
            "Requirement already satisfied: pygad in /usr/local/lib/python3.10/dist-packages (3.1.0)\n",
            "Requirement already satisfied: cloudpickle in /usr/local/lib/python3.10/dist-packages (from pygad) (2.2.1)\n",
            "Requirement already satisfied: matplotlib in /usr/local/lib/python3.10/dist-packages (from pygad) (3.7.1)\n",
            "Requirement already satisfied: numpy in /usr/local/lib/python3.10/dist-packages (from pygad) (1.23.5)\n",
            "Requirement already satisfied: contourpy>=1.0.1 in /usr/local/lib/python3.10/dist-packages (from matplotlib->pygad) (1.1.0)\n",
            "Requirement already satisfied: cycler>=0.10 in /usr/local/lib/python3.10/dist-packages (from matplotlib->pygad) (0.11.0)\n",
            "Requirement already satisfied: fonttools>=4.22.0 in /usr/local/lib/python3.10/dist-packages (from matplotlib->pygad) (4.42.0)\n",
            "Requirement already satisfied: kiwisolver>=1.0.1 in /usr/local/lib/python3.10/dist-packages (from matplotlib->pygad) (1.4.4)\n",
            "Requirement already satisfied: packaging>=20.0 in /usr/local/lib/python3.10/dist-packages (from matplotlib->pygad) (23.1)\n",
            "Requirement already satisfied: pillow>=6.2.0 in /usr/local/lib/python3.10/dist-packages (from matplotlib->pygad) (9.4.0)\n",
            "Requirement already satisfied: pyparsing>=2.3.1 in /usr/local/lib/python3.10/dist-packages (from matplotlib->pygad) (3.1.1)\n",
            "Requirement already satisfied: python-dateutil>=2.7 in /usr/local/lib/python3.10/dist-packages (from matplotlib->pygad) (2.8.2)\n",
            "Requirement already satisfied: six>=1.5 in /usr/local/lib/python3.10/dist-packages (from python-dateutil>=2.7->matplotlib->pygad) (1.16.0)\n"
          ]
        }
      ]
    },
    {
      "cell_type": "code",
      "execution_count": 2,
      "metadata": {
        "id": "-LjpN-v8Btt7"
      },
      "outputs": [],
      "source": [
        "from tqdm import tqdm\n",
        "from sklearn.metrics import f1_score\n",
        "\n",
        "import warnings\n",
        "warnings.filterwarnings(\"ignore\")\n",
        "\n",
        "import numpy as np\n",
        "import pandas as pd\n",
        "import pygad"
      ]
    },
    {
      "cell_type": "code",
      "source": [
        "# Configuration\n",
        "pd.set_option('display.float_format', lambda x: '%.4f' % x)"
      ],
      "metadata": {
        "id": "ov9plUUMnEso"
      },
      "execution_count": 3,
      "outputs": []
    },
    {
      "cell_type": "code",
      "source": [
        "# Constants\n",
        "BARS = 15        # Range: 0 - 30\n",
        "STOP_LOSS = 0.7  # Range: 0 - 1 (0 -> 0% | 1 -> 100%)\n",
        "POO = 0.01       # Range: 0 - 1 (0 -> 0% | 1 -> 100%)\n",
        "\n",
        "OPTIONS_FILE='./spy_dte_0.csv.gz'\n",
        "TRAIN_FILE='./spy.2008.2021.csv.gz'\n",
        "\n",
        "FEES_PER_CONTRACT = 0.6\n",
        "CASH = 1000\n",
        "\n",
        "DATE_SPLIT = '2019-06-01'\n",
        "\n",
        "SOLUTIONS = 30\n",
        "GENERATIONS = 50"
      ],
      "metadata": {
        "id": "I1F7CD1kQPEx"
      },
      "execution_count": 4,
      "outputs": []
    },
    {
      "cell_type": "code",
      "source": [
        "# Process Dataframe and return features and targets\n",
        "def get_features_targets(df, scale_obs=True):\n",
        "\n",
        "    feature_result = []\n",
        "    dates = []\n",
        "\n",
        "    # Remove duplicated dates\n",
        "    df = df.groupby(by='date').mean().reset_index()\n",
        "\n",
        "    # Get Features based on BARS configuration\n",
        "    features = df[((df['date'].dt.hour == 9) & (df['date'].dt.minute >= 30)) &\n",
        "                   (df['date'].dt.hour == 9) & (df['date'].dt.minute < 30 + BARS)]\n",
        "    features = features.groupby(features['date'].dt.date)\n",
        "\n",
        "    for dt, feature in features:\n",
        "\n",
        "        if len(feature) != BARS:\n",
        "            feature = feature.set_index('date')\n",
        "            feature = feature.resample('1T').asfreq().reindex(pd.date_range(str(dt) + ' 09:30:00', str(dt) + f' 09:{30+BARS-1}:00', freq='1T'))\n",
        "            feature = feature.reset_index()\n",
        "            feature['close'] = feature['close'].fillna(method='ffill')\n",
        "            feature['open'] = feature['open'].fillna(feature['close'])\n",
        "            feature = feature.dropna()\n",
        "\n",
        "        if len(feature) == BARS:\n",
        "            feature = feature['close'].values\n",
        "\n",
        "            if scale_obs:\n",
        "                feature -= np.min(feature)\n",
        "                feature /= np.max(np.abs(feature))\n",
        "                feature = np.nan_to_num(feature, nan=0.0, posinf=0.0, neginf=0.0)\n",
        "\n",
        "            feature_result.append(feature)\n",
        "            dates.append(dt)\n",
        "\n",
        "    # Get Targets Trend based on first and last value / day (0: DOWN - 1: UP)\n",
        "    targets = df.set_index('date')\n",
        "    targets = targets.resample('1D').agg({'open':'first', 'close':'last'})\n",
        "    targets = targets.loc[dates].reset_index().sort_values(by='date')\n",
        "    targets['trend'] = np.where(targets['open'] < targets['close'], 1, 0)\n",
        "\n",
        "    return np.array(feature_result), np.array(targets['trend'].values)"
      ],
      "metadata": {
        "id": "VoxhS_xm_IZv"
      },
      "execution_count": 5,
      "outputs": []
    },
    {
      "cell_type": "code",
      "source": [
        "# Return the predicted values\n",
        "def get_predicted_values(solution, features):\n",
        "\n",
        "    pred_y = np.clip(np.dot(features, solution), 0, 1)\n",
        "    pred_y = np.where(pred_y > 0.5, 1, 0)\n",
        "    return pred_y"
      ],
      "metadata": {
        "id": "Gj1IRHoC_LYc"
      },
      "execution_count": 6,
      "outputs": []
    },
    {
      "cell_type": "code",
      "source": [
        "# Define fitness function to be used by the PyGAD instance\n",
        "def fitness_func(self, solution, sol_idx):\n",
        "\n",
        "    global train_x, train_y\n",
        "\n",
        "    pred_y = get_predicted_values(solution, train_x)\n",
        "    result = f1_score(train_y, pred_y, average='binary', pos_label=1) + \\\n",
        "             f1_score(train_y, pred_y, average='binary', pos_label=0)\n",
        "\n",
        "    return result"
      ],
      "metadata": {
        "id": "4oJ4Tnf5_ND2"
      },
      "execution_count": 7,
      "outputs": []
    },
    {
      "cell_type": "code",
      "source": [
        "### Read Files & Prepare Datasets ###\n",
        "df_base = pd.read_csv(OPTIONS_FILE, header=0)\n",
        "df_base['date'] = pd.to_datetime(df_base['date'])\n",
        "\n",
        "train = pd.read_csv(TRAIN_FILE, header=0)\n",
        "train['date'] = pd.to_datetime(train['date'])\n",
        "train = train[train['date'] <= DATE_SPLIT]\n",
        "\n",
        "test = df_base[['date', 'open_underlying', 'close_underlying']]\n",
        "test.columns = ['date', 'open', 'close']\n",
        "test = test.drop_duplicates().reset_index(drop=True)"
      ],
      "metadata": {
        "id": "36mzjkH6B-7a"
      },
      "execution_count": 8,
      "outputs": []
    },
    {
      "cell_type": "code",
      "source": [
        "### Prepare model to predict trend ###\n",
        "\n",
        "# Get Features and Targets\n",
        "train_x, train_y = get_features_targets(train)\n",
        "test_x, _ = get_features_targets(test)\n",
        "\n",
        "# Train Model\n",
        "with tqdm(total=GENERATIONS) as pbar:\n",
        "\n",
        "    # Create Genetic Algorithm\n",
        "    ga_instance = pygad.GA(num_generations=GENERATIONS,\n",
        "                           num_parents_mating=5,\n",
        "                           fitness_func=fitness_func,\n",
        "                           sol_per_pop=SOLUTIONS,\n",
        "                           num_genes=BARS,\n",
        "                           gene_space={'low': -1, 'high': 1},\n",
        "                           random_seed=42,\n",
        "                           on_generation=lambda _: pbar.update(1),\n",
        "                           )\n",
        "\n",
        "    # Run the Genetic Algorithm\n",
        "    ga_instance.run()\n",
        "\n",
        "# Get the best solution\n",
        "solution, _, _ = ga_instance.best_solution()"
      ],
      "metadata": {
        "id": "Eck0aed5QLR4",
        "colab": {
          "base_uri": "https://localhost:8080/"
        },
        "outputId": "ef55fa9f-8cfa-4d44-b87a-ef394dca4e07"
      },
      "execution_count": 9,
      "outputs": [
        {
          "output_type": "stream",
          "name": "stderr",
          "text": [
            "100%|██████████| 50/50 [00:26<00:00,  1.86it/s]\n"
          ]
        }
      ]
    },
    {
      "cell_type": "code",
      "source": [
        "### Get the trend of each day to see which option we should buy ###\n",
        "\n",
        "# Get first bar (To get the Option Open Price)\n",
        "df_day_open = df_base[(df_base['date'].dt.hour == 9) & (df_base['date'].dt.minute == 30)]\n",
        "\n",
        "# Get *BARS* bar (To get Underlying Close Price)\n",
        "df = df_base[(df_base['date'].dt.hour == 9) & (df_base['date'].dt.minute == 30 + BARS - 1)]\n",
        "\n",
        "# Add the Option Open Price\n",
        "df = df.merge(df_day_open[['expire_date','strike','kind','open']],\n",
        "              how='left',\n",
        "              left_on=['expire_date','strike','kind'],\n",
        "              right_on=['expire_date','strike','kind'],\n",
        "              suffixes=('','_dayopen'))\n",
        "\n",
        "# Keep the first open value for each strike\n",
        "df = df.rename(columns={'open_dayopen': 'option_open'})\n",
        "\n",
        "# Predict Trend and add to test df\n",
        "test['date'] = test['date'].dt.date.astype(str)\n",
        "test = test[['date']].drop_duplicates().reset_index(drop=True)\n",
        "test['trend'] = get_predicted_values(solution, test_x)\n",
        "test['trend'] = np.where(test['trend'] == 0, -1, test['trend'])\n",
        "\n",
        "# Add Trend to df\n",
        "df = df.merge(test,\n",
        "              how='left',\n",
        "              left_on=['expire_date'],\n",
        "              right_on=['date'],\n",
        "              suffixes=['','_ga'])\n",
        "\n",
        "# Remove all previous merged values for trend calculation and rows with NaN values\n",
        "df = df.loc[:,~df.columns.str.endswith('_ga')]\n",
        "df = df.dropna()"
      ],
      "metadata": {
        "id": "NpX4bi5qnTM4"
      },
      "execution_count": 10,
      "outputs": []
    },
    {
      "cell_type": "code",
      "source": [
        "### Get the closest ITM option ###\n",
        "\n",
        "# Filter all puts when trend is going down and calls when trend is going up\n",
        "df = df[((df['kind'] == 'P') & (df['trend'] == -1)) |\n",
        "        ((df['kind'] == 'C') & (df['trend'] == 1))]\n",
        "\n",
        "# Calculate Strike distance from Underlying price\n",
        "df['distance'] = df['trend'] * (df['close_underlying'] - df['strike'])\n",
        "\n",
        "# Remove OTM & ATM Options\n",
        "df = df[df['distance'] > 0]\n",
        "\n",
        "# Get the closest ITM options\n",
        "idx = df.groupby(['expire_date'])['distance'].transform(min) == df['distance']\n",
        "df = df[idx]\n",
        "\n",
        "# Remove distance column\n",
        "df = df.drop('distance', axis=1)"
      ],
      "metadata": {
        "id": "vzPXDAynnTKZ"
      },
      "execution_count": 11,
      "outputs": []
    },
    {
      "cell_type": "code",
      "source": [
        "### Calculate close points ###\n",
        "\n",
        "# Get trade bars\n",
        "df_trade = df_base[((df_base['date'].dt.hour == 9) & (df_base['date'].dt.minute > 30 + BARS - 1)) |\n",
        "                    (df_base['date'].dt.hour >= 10)]\n",
        "\n",
        "# Get Option Open and Close Points\n",
        "df = df_trade.merge(df[['expire_date','kind','strike','option_open']],\n",
        "                    how='right',\n",
        "                    left_on=['expire_date','kind','strike'],\n",
        "                    right_on=['expire_date','kind','strike'])\n",
        "\n",
        "df.loc[:,'open_point'] = np.where((df['open'] >= df['option_open'] * (1 + POO)) &\n",
        "                                  ((df['open'].shift() < df['option_open'].shift() * (1 + POO)) |\n",
        "                                   (df['expire_date'] != df['expire_date'].shift())), 1, 0)\n",
        "\n",
        "df.loc[:,'stop_loss'] = df['option_open'] * STOP_LOSS\n",
        "df.loc[:,'last_date'] = df.groupby(['expire_date','kind','strike'])['date'].transform('last')\n",
        "\n",
        "df.loc[:,'close_point'] = np.where(((df['close'] <= df['stop_loss']) &\n",
        "                                    ((df['close'].shift() > df['stop_loss'].shift()) | (df['expire_date'] != df['expire_date'].shift()))) |\n",
        "                                   (df['last_date'] == df['date']), 1, 0)\n",
        "\n",
        "df_tmp = df[(df['open_point'] - df['close_point']) == 0]\n",
        "df = df[(df['open_point'] - df['close_point']) != 0]\n",
        "df.loc[:,'open_point'] = np.where((df['open_point'] - df['close_point']) == (df['open_point'].shift(-1) - df['close_point'].shift(-1)), 0, df['open_point'])\n",
        "\n",
        "df = pd.concat([df, df_tmp])\n",
        "df = df.sort_values(by=['date','expire_date','kind','strike'])\n",
        "\n",
        "# Get Open Price, Close Price, Open Date, and Close Date\n",
        "df = df[(df['open_point'] != 0) | (df['close_point'] != 0)]\n",
        "\n",
        "df['open_price'] = np.where(df['open_point'] == 1, df['open'], np.NaN)\n",
        "df['close_price'] = np.where(df['close_point'] == 1, df['close'], np.NaN)\n",
        "df['close_price'] = df['close_price'].fillna(method='bfill', limit=1)\n",
        "\n",
        "df['close_date'] = np.where(df['open_point'] - df['close_point'] == 0, df['date'], df['date'].shift(-1))\n",
        "df = df.rename(columns={'date':'open_date'})\n",
        "\n",
        "# Clean all Rows with NaN values (This is going to remove all invalid closes)\n",
        "df = df.dropna()\n",
        "\n",
        "# Clean all the unneeded columns\n",
        "df = df.drop(['last_date','open_point','close_point','open','close'], axis=1)\n",
        "df = df.loc[:,~df.columns.str.endswith('_underlying')]\n",
        "\n",
        "# Save the trigger of the closing\n",
        "df.loc[:,'trigger'] = np.where(df['close_price'] <= df['stop_loss'], 'SL', 'EXPIRED')"
      ],
      "metadata": {
        "id": "5_9jY3TtnTH-"
      },
      "execution_count": 12,
      "outputs": []
    },
    {
      "cell_type": "code",
      "source": [
        "### Generate result ###\n",
        "\n",
        "# Calculate the variables required in the result\n",
        "df['contracts'] = (CASH // (100 * df['open_price'])).astype(int)\n",
        "df['fees'] = np.where(df['trigger'] == 'EXPIRED', FEES_PER_CONTRACT, 2 * FEES_PER_CONTRACT) * df['contracts']\n",
        "df['gross_result'] = df['contracts'] * 100 * (df['close_price'] - df['open_price'])\n",
        "df['net_result'] = df['gross_result'] - df['fees']\n",
        "\n",
        "sl = len(df[df[\"trigger\"] == \"SL\"])\n",
        "exp = len(df[df[\"trigger\"] != \"SL\"])\n",
        "total = len(df)\n",
        "\n",
        "# Configuration\n",
        "print(f' CONFIGURATION '.center(70, '*'))\n",
        "print(f'* Bars: {BARS}')\n",
        "print(f'* Stop Loss: {STOP_LOSS * 100:.0f}%')\n",
        "print(f'* Percentage over price: {POO * 100:.0f}%')\n",
        "\n",
        "# Show the Total Result\n",
        "print(f' SUMMARIZED RESULT '.center(70, '*'))\n",
        "print(f'* Trading Days: {len(df[\"expire_date\"].unique())}')\n",
        "print(f'* Operations: {len(df)} - Stop Loss: {sl} ({100 * sl / total:.2f}%) - Expired: {exp} ({100 * exp / total:.2f}%)')\n",
        "print(f'* Gross PnL: $ {df[\"gross_result\"].sum():.2f}')\n",
        "print(f'* Net PnL: $ {df[\"net_result\"].sum():.2f}')\n",
        "\n",
        "# Show The Monthly Result\n",
        "print(f' MONTHLY DETAIL RESULT '.center(70, '*'))\n",
        "df_monthly = df[['expire_date','gross_result','net_result']]\n",
        "df_monthly['year_month'] = df_monthly['expire_date'].str[0:7]\n",
        "df_monthly = df_monthly.groupby(['year_month'])[['gross_result','net_result']].sum()\n",
        "print(df_monthly)"
      ],
      "metadata": {
        "colab": {
          "base_uri": "https://localhost:8080/"
        },
        "id": "_uyhTRsi_u6_",
        "outputId": "a9924a68-f074-47dd-9884-35829eebc4ba"
      },
      "execution_count": 13,
      "outputs": [
        {
          "output_type": "stream",
          "name": "stdout",
          "text": [
            "*************************** CONFIGURATION ****************************\n",
            "* Bars: 15\n",
            "* Stop Loss: 70%\n",
            "* Percentage over price: 1%\n",
            "************************* SUMMARIZED RESULT **************************\n",
            "* Trading Days: 361\n",
            "* Operations: 594 - Stop Loss: 422 (71.04%) - Expired: 172 (28.96%)\n",
            "* Gross PnL: $ 51359.00\n",
            "* Net PnL: $ 47390.00\n",
            "*********************** MONTHLY DETAIL RESULT ************************\n",
            "            gross_result  net_result\n",
            "year_month                          \n",
            "2021-06       -1006.0000  -1070.8000\n",
            "2021-07        3980.0000   3779.6000\n",
            "2021-08       -3689.0000  -3945.2000\n",
            "2021-09        5590.0000   5467.6000\n",
            "2021-10        1967.0000   1788.8000\n",
            "2021-11       -4876.0000  -5076.4000\n",
            "2021-12        1164.0000   1012.8000\n",
            "2022-01        4946.0000   4759.4000\n",
            "2022-02        2229.0000   2149.2000\n",
            "2022-03        9529.0000   9422.2000\n",
            "2022-04        3669.0000   3537.0000\n",
            "2022-05        3238.0000   3160.6000\n",
            "2022-06       -5825.0000  -6013.4000\n",
            "2022-07         984.0000    865.8000\n",
            "2022-08        6390.0000   6263.4000\n",
            "2022-09        8015.0000   7930.4000\n",
            "2022-10        3904.0000   3818.8000\n",
            "2022-11       -4463.0000  -4637.6000\n",
            "2022-12        1142.0000    979.4000\n",
            "2023-01        6051.0000   5854.8000\n",
            "2023-02        -709.0000   -909.4000\n",
            "2023-03        1128.0000    945.6000\n",
            "2023-04        8138.0000   7955.0000\n",
            "2023-05       -4515.0000  -4870.2000\n",
            "2023-06        4378.0000   4222.6000\n"
          ]
        }
      ]
    }
  ]
}